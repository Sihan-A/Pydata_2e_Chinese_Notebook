{
  "nbformat": 4,
  "nbformat_minor": 0,
  "metadata": {
    "hide_input": false,
    "kernelspec": {
      "display_name": "Python 3",
      "language": "python",
      "name": "python3"
    },
    "language_info": {
      "codemirror_mode": {
        "name": "ipython",
        "version": 3
      },
      "file_extension": ".py",
      "mimetype": "text/x-python",
      "name": "python",
      "nbconvert_exporter": "python",
      "pygments_lexer": "ipython3",
      "version": "3.8.8"
    },
    "toc": {
      "base_numbering": 1,
      "nav_menu": {},
      "number_sections": true,
      "sideBar": true,
      "skip_h1_title": false,
      "title_cell": "Table of Contents",
      "title_sidebar": "Contents",
      "toc_cell": false,
      "toc_position": {},
      "toc_section_display": true,
      "toc_window_display": false
    },
    "varInspector": {
      "cols": {
        "lenName": 16,
        "lenType": 16,
        "lenVar": 40
      },
      "kernels_config": {
        "python": {
          "delete_cmd_postfix": "",
          "delete_cmd_prefix": "del ",
          "library": "var_list.py",
          "varRefreshCmd": "print(var_dic_list())"
        },
        "r": {
          "delete_cmd_postfix": ") ",
          "delete_cmd_prefix": "rm(",
          "library": "var_list.r",
          "varRefreshCmd": "cat(var_dic_list()) "
        }
      },
      "types_to_exclude": [
        "module",
        "function",
        "builtin_function_or_method",
        "instance",
        "_Feature"
      ],
      "window_display": false
    },
    "colab": {
      "name": "ch13_Python建模块介绍.ipynb",
      "provenance": [],
      "collapsed_sections": [],
      "include_colab_link": true
    }
  },
  "cells": [
    {
      "cell_type": "markdown",
      "metadata": {
        "id": "view-in-github",
        "colab_type": "text"
      },
      "source": [
        "<a href=\"https://colab.research.google.com/github/Sihan-A/Pydata_2e_Chinese_Notebook/blob/main/ch13_Python%E5%BB%BA%E6%A8%A1%E5%9D%97%E4%BB%8B%E7%BB%8D.ipynb\" target=\"_parent\"><img src=\"https://colab.research.google.com/assets/colab-badge.svg\" alt=\"Open In Colab\"/></a>"
      ]
    },
    {
      "cell_type": "markdown",
      "metadata": {
        "id": "BSF03i7bL0ca"
      },
      "source": [
        "# 13 Python建模库介绍"
      ]
    },
    {
      "cell_type": "code",
      "metadata": {
        "colab": {
          "base_uri": "https://localhost:8080/"
        },
        "id": "fXD3UYNdsEuH",
        "outputId": "895d09ab-64a4-43c7-f5ff-4c667e296342"
      },
      "source": [
        "!git clone https://github.com/wesm/pydata-book.git\n",
        "%cd ./pydata-book/"
      ],
      "execution_count": null,
      "outputs": [
        {
          "output_type": "stream",
          "text": [
            "Cloning into 'pydata-book'...\n",
            "remote: Enumerating objects: 447, done.\u001b[K\n",
            "remote: Counting objects: 100% (7/7), done.\u001b[K\n",
            "remote: Compressing objects: 100% (5/5), done.\u001b[K\n",
            "remote: Total 447 (delta 2), reused 6 (delta 2), pack-reused 440\u001b[K\n",
            "Receiving objects: 100% (447/447), 40.55 MiB | 10.90 MiB/s, done.\n",
            "Resolving deltas: 100% (139/139), done.\n",
            "Checking out files: 100% (210/210), done.\n",
            "/content/pydata-book\n"
          ],
          "name": "stdout"
        }
      ]
    },
    {
      "cell_type": "code",
      "metadata": {
        "id": "HIw-Qr-srZaI"
      },
      "source": [
        "import numpy as np\n",
        "import pandas as pd\n",
        "np.random.seed(12345)\n",
        "import matplotlib.pyplot as plt\n",
        "plt.rc('figure', figsize=(10, 6))\n",
        "PREVIOUS_MAX_ROWS = pd.options.display.max_rows\n",
        "pd.options.display.max_rows = 20\n",
        "np.set_printoptions(precision=4, suppress=True)"
      ],
      "execution_count": null,
      "outputs": []
    },
    {
      "cell_type": "markdown",
      "metadata": {
        "id": "PI_iFsSDrZaG"
      },
      "source": [
        "## 13.1 Pandas与建模代码的介绍"
      ]
    },
    {
      "cell_type": "code",
      "metadata": {
        "id": "eJSO4BcWM7dV"
      },
      "source": [
        "import pandas as pd\n",
        "import numpy as np"
      ],
      "execution_count": null,
      "outputs": []
    },
    {
      "cell_type": "code",
      "metadata": {
        "scrolled": true,
        "colab": {
          "base_uri": "https://localhost:8080/",
          "height": 203
        },
        "id": "oRf3qc4orZaK",
        "outputId": "b99b1bb7-f2dd-4ced-e043-53c19814fa0b"
      },
      "source": [
        "data = pd.DataFrame({'x0': [1.  , 2.   , 3.  , 4.  , 5  ],\n",
        "                     'x1': [0.01, -0.01, 0.25, -4.1, 0. ],\n",
        "                     'y' : [-1.5, 0.   , 3.6 , 1.3 , -2.]})\n",
        "data"
      ],
      "execution_count": null,
      "outputs": [
        {
          "output_type": "execute_result",
          "data": {
            "text/html": [
              "<div>\n",
              "<style scoped>\n",
              "    .dataframe tbody tr th:only-of-type {\n",
              "        vertical-align: middle;\n",
              "    }\n",
              "\n",
              "    .dataframe tbody tr th {\n",
              "        vertical-align: top;\n",
              "    }\n",
              "\n",
              "    .dataframe thead th {\n",
              "        text-align: right;\n",
              "    }\n",
              "</style>\n",
              "<table border=\"1\" class=\"dataframe\">\n",
              "  <thead>\n",
              "    <tr style=\"text-align: right;\">\n",
              "      <th></th>\n",
              "      <th>x0</th>\n",
              "      <th>x1</th>\n",
              "      <th>y</th>\n",
              "    </tr>\n",
              "  </thead>\n",
              "  <tbody>\n",
              "    <tr>\n",
              "      <th>0</th>\n",
              "      <td>1.0</td>\n",
              "      <td>0.01</td>\n",
              "      <td>-1.5</td>\n",
              "    </tr>\n",
              "    <tr>\n",
              "      <th>1</th>\n",
              "      <td>2.0</td>\n",
              "      <td>-0.01</td>\n",
              "      <td>0.0</td>\n",
              "    </tr>\n",
              "    <tr>\n",
              "      <th>2</th>\n",
              "      <td>3.0</td>\n",
              "      <td>0.25</td>\n",
              "      <td>3.6</td>\n",
              "    </tr>\n",
              "    <tr>\n",
              "      <th>3</th>\n",
              "      <td>4.0</td>\n",
              "      <td>-4.10</td>\n",
              "      <td>1.3</td>\n",
              "    </tr>\n",
              "    <tr>\n",
              "      <th>4</th>\n",
              "      <td>5.0</td>\n",
              "      <td>0.00</td>\n",
              "      <td>-2.0</td>\n",
              "    </tr>\n",
              "  </tbody>\n",
              "</table>\n",
              "</div>"
            ],
            "text/plain": [
              "    x0    x1    y\n",
              "0  1.0  0.01 -1.5\n",
              "1  2.0 -0.01  0.0\n",
              "2  3.0  0.25  3.6\n",
              "3  4.0 -4.10  1.3\n",
              "4  5.0  0.00 -2.0"
            ]
          },
          "metadata": {
            "tags": []
          },
          "execution_count": 4
        }
      ]
    },
    {
      "cell_type": "code",
      "metadata": {
        "colab": {
          "base_uri": "https://localhost:8080/"
        },
        "id": "4aXAme6vrZaL",
        "outputId": "ac73f725-c09e-4347-a587-af8e5ce93d11"
      },
      "source": [
        "data.columns # 列名"
      ],
      "execution_count": null,
      "outputs": [
        {
          "output_type": "execute_result",
          "data": {
            "text/plain": [
              "Index(['x0', 'x1', 'y'], dtype='object')"
            ]
          },
          "metadata": {
            "tags": []
          },
          "execution_count": 5
        }
      ]
    },
    {
      "cell_type": "code",
      "metadata": {
        "colab": {
          "base_uri": "https://localhost:8080/"
        },
        "id": "yuHdRe0TrZaL",
        "outputId": "aeb2673a-c41d-4fb3-aada-0a99b8f0484c"
      },
      "source": [
        "data.values # 值"
      ],
      "execution_count": null,
      "outputs": [
        {
          "output_type": "execute_result",
          "data": {
            "text/plain": [
              "array([[ 1.  ,  0.01, -1.5 ],\n",
              "       [ 2.  , -0.01,  0.  ],\n",
              "       [ 3.  ,  0.25,  3.6 ],\n",
              "       [ 4.  , -4.1 ,  1.3 ],\n",
              "       [ 5.  ,  0.  , -2.  ]])"
            ]
          },
          "metadata": {
            "tags": []
          },
          "execution_count": 6
        }
      ]
    },
    {
      "cell_type": "code",
      "metadata": {
        "colab": {
          "base_uri": "https://localhost:8080/",
          "height": 203
        },
        "id": "iYoR6gZ9rZaM",
        "outputId": "00b2832e-9464-4648-d448-40e6190dd52c"
      },
      "source": [
        "df2 = pd.DataFrame(data.values, # 值\n",
        "                   columns=['one', 'two', 'three']) # 列名\n",
        "df2"
      ],
      "execution_count": null,
      "outputs": [
        {
          "output_type": "execute_result",
          "data": {
            "text/html": [
              "<div>\n",
              "<style scoped>\n",
              "    .dataframe tbody tr th:only-of-type {\n",
              "        vertical-align: middle;\n",
              "    }\n",
              "\n",
              "    .dataframe tbody tr th {\n",
              "        vertical-align: top;\n",
              "    }\n",
              "\n",
              "    .dataframe thead th {\n",
              "        text-align: right;\n",
              "    }\n",
              "</style>\n",
              "<table border=\"1\" class=\"dataframe\">\n",
              "  <thead>\n",
              "    <tr style=\"text-align: right;\">\n",
              "      <th></th>\n",
              "      <th>one</th>\n",
              "      <th>two</th>\n",
              "      <th>three</th>\n",
              "    </tr>\n",
              "  </thead>\n",
              "  <tbody>\n",
              "    <tr>\n",
              "      <th>0</th>\n",
              "      <td>1.0</td>\n",
              "      <td>0.01</td>\n",
              "      <td>-1.5</td>\n",
              "    </tr>\n",
              "    <tr>\n",
              "      <th>1</th>\n",
              "      <td>2.0</td>\n",
              "      <td>-0.01</td>\n",
              "      <td>0.0</td>\n",
              "    </tr>\n",
              "    <tr>\n",
              "      <th>2</th>\n",
              "      <td>3.0</td>\n",
              "      <td>0.25</td>\n",
              "      <td>3.6</td>\n",
              "    </tr>\n",
              "    <tr>\n",
              "      <th>3</th>\n",
              "      <td>4.0</td>\n",
              "      <td>-4.10</td>\n",
              "      <td>1.3</td>\n",
              "    </tr>\n",
              "    <tr>\n",
              "      <th>4</th>\n",
              "      <td>5.0</td>\n",
              "      <td>0.00</td>\n",
              "      <td>-2.0</td>\n",
              "    </tr>\n",
              "  </tbody>\n",
              "</table>\n",
              "</div>"
            ],
            "text/plain": [
              "   one   two  three\n",
              "0  1.0  0.01   -1.5\n",
              "1  2.0 -0.01    0.0\n",
              "2  3.0  0.25    3.6\n",
              "3  4.0 -4.10    1.3\n",
              "4  5.0  0.00   -2.0"
            ]
          },
          "metadata": {
            "tags": []
          },
          "execution_count": 7
        }
      ]
    },
    {
      "cell_type": "code",
      "metadata": {
        "colab": {
          "base_uri": "https://localhost:8080/",
          "height": 203
        },
        "id": "kcIxPQN6Mn61",
        "outputId": "ae39529a-768b-4b57-e20e-51eacafcee5c"
      },
      "source": [
        "df3 = data.copy() # 复制data为df3\n",
        "df3['strings'] = ['a','b','c','d','e'] # 加新列，值为字符串\n",
        "df3"
      ],
      "execution_count": null,
      "outputs": [
        {
          "output_type": "execute_result",
          "data": {
            "text/html": [
              "<div>\n",
              "<style scoped>\n",
              "    .dataframe tbody tr th:only-of-type {\n",
              "        vertical-align: middle;\n",
              "    }\n",
              "\n",
              "    .dataframe tbody tr th {\n",
              "        vertical-align: top;\n",
              "    }\n",
              "\n",
              "    .dataframe thead th {\n",
              "        text-align: right;\n",
              "    }\n",
              "</style>\n",
              "<table border=\"1\" class=\"dataframe\">\n",
              "  <thead>\n",
              "    <tr style=\"text-align: right;\">\n",
              "      <th></th>\n",
              "      <th>x0</th>\n",
              "      <th>x1</th>\n",
              "      <th>y</th>\n",
              "      <th>strings</th>\n",
              "    </tr>\n",
              "  </thead>\n",
              "  <tbody>\n",
              "    <tr>\n",
              "      <th>0</th>\n",
              "      <td>1.0</td>\n",
              "      <td>0.01</td>\n",
              "      <td>-1.5</td>\n",
              "      <td>a</td>\n",
              "    </tr>\n",
              "    <tr>\n",
              "      <th>1</th>\n",
              "      <td>2.0</td>\n",
              "      <td>-0.01</td>\n",
              "      <td>0.0</td>\n",
              "      <td>b</td>\n",
              "    </tr>\n",
              "    <tr>\n",
              "      <th>2</th>\n",
              "      <td>3.0</td>\n",
              "      <td>0.25</td>\n",
              "      <td>3.6</td>\n",
              "      <td>c</td>\n",
              "    </tr>\n",
              "    <tr>\n",
              "      <th>3</th>\n",
              "      <td>4.0</td>\n",
              "      <td>-4.10</td>\n",
              "      <td>1.3</td>\n",
              "      <td>d</td>\n",
              "    </tr>\n",
              "    <tr>\n",
              "      <th>4</th>\n",
              "      <td>5.0</td>\n",
              "      <td>0.00</td>\n",
              "      <td>-2.0</td>\n",
              "      <td>e</td>\n",
              "    </tr>\n",
              "  </tbody>\n",
              "</table>\n",
              "</div>"
            ],
            "text/plain": [
              "    x0    x1    y strings\n",
              "0  1.0  0.01 -1.5       a\n",
              "1  2.0 -0.01  0.0       b\n",
              "2  3.0  0.25  3.6       c\n",
              "3  4.0 -4.10  1.3       d\n",
              "4  5.0  0.00 -2.0       e"
            ]
          },
          "metadata": {
            "tags": []
          },
          "execution_count": 8
        }
      ]
    },
    {
      "cell_type": "code",
      "metadata": {
        "colab": {
          "base_uri": "https://localhost:8080/"
        },
        "id": "SV7qVrgvNE5H",
        "outputId": "9c0a88e6-0901-4887-cdb8-a26d2a46c38b"
      },
      "source": [
        "df3.values"
      ],
      "execution_count": null,
      "outputs": [
        {
          "output_type": "execute_result",
          "data": {
            "text/plain": [
              "array([[1.0, 0.01, -1.5, 'a'],\n",
              "       [2.0, -0.01, 0.0, 'b'],\n",
              "       [3.0, 0.25, 3.6, 'c'],\n",
              "       [4.0, -4.1, 1.3, 'd'],\n",
              "       [5.0, 0.0, -2.0, 'e']], dtype=object)"
            ]
          },
          "metadata": {
            "tags": []
          },
          "execution_count": 9
        }
      ]
    },
    {
      "cell_type": "code",
      "metadata": {
        "colab": {
          "base_uri": "https://localhost:8080/"
        },
        "id": "XeHSJoEurZaM",
        "outputId": "78cdaf48-c139-430d-f410-f37c6581beae"
      },
      "source": [
        "model_cols = ['x0', 'x1']\n",
        "data.loc[:, model_cols].values"
      ],
      "execution_count": null,
      "outputs": [
        {
          "output_type": "execute_result",
          "data": {
            "text/plain": [
              "array([[ 1.  ,  0.01],\n",
              "       [ 2.  , -0.01],\n",
              "       [ 3.  ,  0.25],\n",
              "       [ 4.  , -4.1 ],\n",
              "       [ 5.  ,  0.  ]])"
            ]
          },
          "metadata": {
            "tags": []
          },
          "execution_count": 10
        }
      ]
    },
    {
      "cell_type": "code",
      "metadata": {
        "colab": {
          "base_uri": "https://localhost:8080/",
          "height": 203
        },
        "id": "CIn-t5qerZaN",
        "outputId": "cdf0fc74-cc6b-42c6-d3a1-c5ae79e75707"
      },
      "source": [
        "data['category'] = pd.Categorical(['a', 'b', 'a', 'a', 'b'],\n",
        "                                  categories=['a', 'b'])\n",
        "data"
      ],
      "execution_count": null,
      "outputs": [
        {
          "output_type": "execute_result",
          "data": {
            "text/html": [
              "<div>\n",
              "<style scoped>\n",
              "    .dataframe tbody tr th:only-of-type {\n",
              "        vertical-align: middle;\n",
              "    }\n",
              "\n",
              "    .dataframe tbody tr th {\n",
              "        vertical-align: top;\n",
              "    }\n",
              "\n",
              "    .dataframe thead th {\n",
              "        text-align: right;\n",
              "    }\n",
              "</style>\n",
              "<table border=\"1\" class=\"dataframe\">\n",
              "  <thead>\n",
              "    <tr style=\"text-align: right;\">\n",
              "      <th></th>\n",
              "      <th>x0</th>\n",
              "      <th>x1</th>\n",
              "      <th>y</th>\n",
              "      <th>category</th>\n",
              "    </tr>\n",
              "  </thead>\n",
              "  <tbody>\n",
              "    <tr>\n",
              "      <th>0</th>\n",
              "      <td>1.0</td>\n",
              "      <td>0.01</td>\n",
              "      <td>-1.5</td>\n",
              "      <td>a</td>\n",
              "    </tr>\n",
              "    <tr>\n",
              "      <th>1</th>\n",
              "      <td>2.0</td>\n",
              "      <td>-0.01</td>\n",
              "      <td>0.0</td>\n",
              "      <td>b</td>\n",
              "    </tr>\n",
              "    <tr>\n",
              "      <th>2</th>\n",
              "      <td>3.0</td>\n",
              "      <td>0.25</td>\n",
              "      <td>3.6</td>\n",
              "      <td>a</td>\n",
              "    </tr>\n",
              "    <tr>\n",
              "      <th>3</th>\n",
              "      <td>4.0</td>\n",
              "      <td>-4.10</td>\n",
              "      <td>1.3</td>\n",
              "      <td>a</td>\n",
              "    </tr>\n",
              "    <tr>\n",
              "      <th>4</th>\n",
              "      <td>5.0</td>\n",
              "      <td>0.00</td>\n",
              "      <td>-2.0</td>\n",
              "      <td>b</td>\n",
              "    </tr>\n",
              "  </tbody>\n",
              "</table>\n",
              "</div>"
            ],
            "text/plain": [
              "    x0    x1    y category\n",
              "0  1.0  0.01 -1.5        a\n",
              "1  2.0 -0.01  0.0        b\n",
              "2  3.0  0.25  3.6        a\n",
              "3  4.0 -4.10  1.3        a\n",
              "4  5.0  0.00 -2.0        b"
            ]
          },
          "metadata": {
            "tags": []
          },
          "execution_count": 11
        }
      ]
    },
    {
      "cell_type": "code",
      "metadata": {
        "colab": {
          "base_uri": "https://localhost:8080/",
          "height": 203
        },
        "id": "FeUgPOV3rZaN",
        "outputId": "364f416d-f8c0-434a-f25b-76ce8973ddc3"
      },
      "source": [
        "dummies = pd.get_dummies(data.category, prefix='category')\n",
        "data_with_dummies = data.drop('category', axis=1).join(dummies)\n",
        "data_with_dummies"
      ],
      "execution_count": null,
      "outputs": [
        {
          "output_type": "execute_result",
          "data": {
            "text/html": [
              "<div>\n",
              "<style scoped>\n",
              "    .dataframe tbody tr th:only-of-type {\n",
              "        vertical-align: middle;\n",
              "    }\n",
              "\n",
              "    .dataframe tbody tr th {\n",
              "        vertical-align: top;\n",
              "    }\n",
              "\n",
              "    .dataframe thead th {\n",
              "        text-align: right;\n",
              "    }\n",
              "</style>\n",
              "<table border=\"1\" class=\"dataframe\">\n",
              "  <thead>\n",
              "    <tr style=\"text-align: right;\">\n",
              "      <th></th>\n",
              "      <th>x0</th>\n",
              "      <th>x1</th>\n",
              "      <th>y</th>\n",
              "      <th>category_a</th>\n",
              "      <th>category_b</th>\n",
              "    </tr>\n",
              "  </thead>\n",
              "  <tbody>\n",
              "    <tr>\n",
              "      <th>0</th>\n",
              "      <td>1.0</td>\n",
              "      <td>0.01</td>\n",
              "      <td>-1.5</td>\n",
              "      <td>1</td>\n",
              "      <td>0</td>\n",
              "    </tr>\n",
              "    <tr>\n",
              "      <th>1</th>\n",
              "      <td>2.0</td>\n",
              "      <td>-0.01</td>\n",
              "      <td>0.0</td>\n",
              "      <td>0</td>\n",
              "      <td>1</td>\n",
              "    </tr>\n",
              "    <tr>\n",
              "      <th>2</th>\n",
              "      <td>3.0</td>\n",
              "      <td>0.25</td>\n",
              "      <td>3.6</td>\n",
              "      <td>1</td>\n",
              "      <td>0</td>\n",
              "    </tr>\n",
              "    <tr>\n",
              "      <th>3</th>\n",
              "      <td>4.0</td>\n",
              "      <td>-4.10</td>\n",
              "      <td>1.3</td>\n",
              "      <td>1</td>\n",
              "      <td>0</td>\n",
              "    </tr>\n",
              "    <tr>\n",
              "      <th>4</th>\n",
              "      <td>5.0</td>\n",
              "      <td>0.00</td>\n",
              "      <td>-2.0</td>\n",
              "      <td>0</td>\n",
              "      <td>1</td>\n",
              "    </tr>\n",
              "  </tbody>\n",
              "</table>\n",
              "</div>"
            ],
            "text/plain": [
              "    x0    x1    y  category_a  category_b\n",
              "0  1.0  0.01 -1.5           1           0\n",
              "1  2.0 -0.01  0.0           0           1\n",
              "2  3.0  0.25  3.6           1           0\n",
              "3  4.0 -4.10  1.3           1           0\n",
              "4  5.0  0.00 -2.0           0           1"
            ]
          },
          "metadata": {
            "tags": []
          },
          "execution_count": 12
        }
      ]
    },
    {
      "cell_type": "markdown",
      "metadata": {
        "id": "qLnJ01NurZaO"
      },
      "source": [
        "## 13.2 ⽤Patsy创建模型描述"
      ]
    },
    {
      "cell_type": "markdown",
      "metadata": {
        "id": "Xp2vyiv2rZaO"
      },
      "source": [
        "`y ~ x0 + x1`"
      ]
    },
    {
      "cell_type": "code",
      "metadata": {
        "colab": {
          "base_uri": "https://localhost:8080/",
          "height": 203
        },
        "id": "sX7nzZdBrZaO",
        "outputId": "92e9c070-1117-40a5-b738-bb5525e29f32"
      },
      "source": [
        "data = pd.DataFrame({'x0': [1, 2, 3, 4, 5],\n",
        "                     'x1': [0.01, -0.01, 0.25, -4.1, 0.],\n",
        "                     'y': [-1.5, 0., 3.6, 1.3, -2.]})\n",
        "data"
      ],
      "execution_count": null,
      "outputs": [
        {
          "output_type": "execute_result",
          "data": {
            "text/html": [
              "<div>\n",
              "<style scoped>\n",
              "    .dataframe tbody tr th:only-of-type {\n",
              "        vertical-align: middle;\n",
              "    }\n",
              "\n",
              "    .dataframe tbody tr th {\n",
              "        vertical-align: top;\n",
              "    }\n",
              "\n",
              "    .dataframe thead th {\n",
              "        text-align: right;\n",
              "    }\n",
              "</style>\n",
              "<table border=\"1\" class=\"dataframe\">\n",
              "  <thead>\n",
              "    <tr style=\"text-align: right;\">\n",
              "      <th></th>\n",
              "      <th>x0</th>\n",
              "      <th>x1</th>\n",
              "      <th>y</th>\n",
              "    </tr>\n",
              "  </thead>\n",
              "  <tbody>\n",
              "    <tr>\n",
              "      <th>0</th>\n",
              "      <td>1</td>\n",
              "      <td>0.01</td>\n",
              "      <td>-1.5</td>\n",
              "    </tr>\n",
              "    <tr>\n",
              "      <th>1</th>\n",
              "      <td>2</td>\n",
              "      <td>-0.01</td>\n",
              "      <td>0.0</td>\n",
              "    </tr>\n",
              "    <tr>\n",
              "      <th>2</th>\n",
              "      <td>3</td>\n",
              "      <td>0.25</td>\n",
              "      <td>3.6</td>\n",
              "    </tr>\n",
              "    <tr>\n",
              "      <th>3</th>\n",
              "      <td>4</td>\n",
              "      <td>-4.10</td>\n",
              "      <td>1.3</td>\n",
              "    </tr>\n",
              "    <tr>\n",
              "      <th>4</th>\n",
              "      <td>5</td>\n",
              "      <td>0.00</td>\n",
              "      <td>-2.0</td>\n",
              "    </tr>\n",
              "  </tbody>\n",
              "</table>\n",
              "</div>"
            ],
            "text/plain": [
              "   x0    x1    y\n",
              "0   1  0.01 -1.5\n",
              "1   2 -0.01  0.0\n",
              "2   3  0.25  3.6\n",
              "3   4 -4.10  1.3\n",
              "4   5  0.00 -2.0"
            ]
          },
          "metadata": {
            "tags": []
          },
          "execution_count": 13
        }
      ]
    },
    {
      "cell_type": "code",
      "metadata": {
        "id": "f1M-riWzs_zK"
      },
      "source": [
        "import patsy\n",
        "y, X = patsy.dmatrices('y ~ x0 + x1', data)"
      ],
      "execution_count": null,
      "outputs": []
    },
    {
      "cell_type": "code",
      "metadata": {
        "colab": {
          "base_uri": "https://localhost:8080/"
        },
        "id": "LDVTxT9ptMJv",
        "outputId": "10994fac-02a0-4017-b002-cbb539323b2d"
      },
      "source": [
        "y"
      ],
      "execution_count": null,
      "outputs": [
        {
          "output_type": "execute_result",
          "data": {
            "text/plain": [
              "DesignMatrix with shape (5, 1)\n",
              "     y\n",
              "  -1.5\n",
              "   0.0\n",
              "   3.6\n",
              "   1.3\n",
              "  -2.0\n",
              "  Terms:\n",
              "    'y' (column 0)"
            ]
          },
          "metadata": {
            "tags": []
          },
          "execution_count": 15
        }
      ]
    },
    {
      "cell_type": "code",
      "metadata": {
        "colab": {
          "base_uri": "https://localhost:8080/"
        },
        "id": "uTkNus-erZaP",
        "outputId": "6cba62c5-16bd-4c61-ab16-deaf4a77c377"
      },
      "source": [
        "X"
      ],
      "execution_count": null,
      "outputs": [
        {
          "output_type": "execute_result",
          "data": {
            "text/plain": [
              "DesignMatrix with shape (5, 3)\n",
              "  Intercept  x0     x1\n",
              "          1   1   0.01\n",
              "          1   2  -0.01\n",
              "          1   3   0.25\n",
              "          1   4  -4.10\n",
              "          1   5   0.00\n",
              "  Terms:\n",
              "    'Intercept' (column 0)\n",
              "    'x0' (column 1)\n",
              "    'x1' (column 2)"
            ]
          },
          "metadata": {
            "tags": []
          },
          "execution_count": 16
        }
      ]
    },
    {
      "cell_type": "code",
      "metadata": {
        "colab": {
          "base_uri": "https://localhost:8080/"
        },
        "id": "Oc-epkM2rZaP",
        "outputId": "d67a7f81-d144-46ff-8400-7b03dee6913b"
      },
      "source": [
        "np.asarray(y)"
      ],
      "execution_count": null,
      "outputs": [
        {
          "output_type": "execute_result",
          "data": {
            "text/plain": [
              "array([[-1.5],\n",
              "       [ 0. ],\n",
              "       [ 3.6],\n",
              "       [ 1.3],\n",
              "       [-2. ]])"
            ]
          },
          "metadata": {
            "tags": []
          },
          "execution_count": 17
        }
      ]
    },
    {
      "cell_type": "code",
      "metadata": {
        "colab": {
          "base_uri": "https://localhost:8080/"
        },
        "id": "kt__QCIptXAQ",
        "outputId": "15c12ec1-1c55-44fb-bb45-7c40426f7f9a"
      },
      "source": [
        "np.asarray(X)"
      ],
      "execution_count": null,
      "outputs": [
        {
          "output_type": "execute_result",
          "data": {
            "text/plain": [
              "array([[ 1.  ,  1.  ,  0.01],\n",
              "       [ 1.  ,  2.  , -0.01],\n",
              "       [ 1.  ,  3.  ,  0.25],\n",
              "       [ 1.  ,  4.  , -4.1 ],\n",
              "       [ 1.  ,  5.  ,  0.  ]])"
            ]
          },
          "metadata": {
            "tags": []
          },
          "execution_count": 18
        }
      ]
    },
    {
      "cell_type": "code",
      "metadata": {
        "colab": {
          "base_uri": "https://localhost:8080/"
        },
        "id": "AMrIODkGrZaP",
        "outputId": "dbe0340c-1187-4b2d-d1a7-6255b4e5b612"
      },
      "source": [
        "patsy.dmatrices('y ~ x0 + x1 + 0', data)[1]"
      ],
      "execution_count": null,
      "outputs": [
        {
          "output_type": "execute_result",
          "data": {
            "text/plain": [
              "DesignMatrix with shape (5, 2)\n",
              "  x0     x1\n",
              "   1   0.01\n",
              "   2  -0.01\n",
              "   3   0.25\n",
              "   4  -4.10\n",
              "   5   0.00\n",
              "  Terms:\n",
              "    'x0' (column 0)\n",
              "    'x1' (column 1)"
            ]
          },
          "metadata": {
            "tags": []
          },
          "execution_count": 19
        }
      ]
    },
    {
      "cell_type": "code",
      "metadata": {
        "colab": {
          "base_uri": "https://localhost:8080/"
        },
        "id": "W5g-mOCWrZaP",
        "outputId": "f8c7be2c-7424-4e18-82d2-896f04d2ac77"
      },
      "source": [
        "coef, resid, _, _ = np.linalg.lstsq(X, y)\n",
        "coef"
      ],
      "execution_count": null,
      "outputs": [
        {
          "output_type": "stream",
          "text": [
            "/usr/local/lib/python3.7/dist-packages/ipykernel_launcher.py:1: FutureWarning: `rcond` parameter will change to the default of machine precision times ``max(M, N)`` where M and N are the input matrix dimensions.\n",
            "To use the future default and silence this warning we advise to pass `rcond=None`, to keep using the old, explicitly pass `rcond=-1`.\n",
            "  \"\"\"Entry point for launching an IPython kernel.\n"
          ],
          "name": "stderr"
        },
        {
          "output_type": "execute_result",
          "data": {
            "text/plain": [
              "array([[ 0.3129],\n",
              "       [-0.0791],\n",
              "       [-0.2655]])"
            ]
          },
          "metadata": {
            "tags": []
          },
          "execution_count": 20
        }
      ]
    },
    {
      "cell_type": "code",
      "metadata": {
        "colab": {
          "base_uri": "https://localhost:8080/"
        },
        "id": "A_Z4KRuGrZaP",
        "outputId": "bcc034f7-7e87-4adb-c800-06724370b78b"
      },
      "source": [
        "coef = pd.Series(coef.squeeze(), index=X.design_info.column_names)\n",
        "coef"
      ],
      "execution_count": null,
      "outputs": [
        {
          "output_type": "execute_result",
          "data": {
            "text/plain": [
              "Intercept    0.312910\n",
              "x0          -0.079106\n",
              "x1          -0.265464\n",
              "dtype: float64"
            ]
          },
          "metadata": {
            "tags": []
          },
          "execution_count": 21
        }
      ]
    },
    {
      "cell_type": "markdown",
      "metadata": {
        "id": "nPcJKtF9rZaQ"
      },
      "source": [
        "### 13.2.1 Patsy公式中的数据转换"
      ]
    },
    {
      "cell_type": "code",
      "metadata": {
        "colab": {
          "base_uri": "https://localhost:8080/"
        },
        "id": "mT0vukhMrZaQ",
        "outputId": "8a44f892-32a5-49f2-972c-fa4f0f250383"
      },
      "source": [
        "y, X = patsy.dmatrices('y ~ x0 + np.log(np.abs(x1) + 1)', data)\n",
        "X"
      ],
      "execution_count": null,
      "outputs": [
        {
          "output_type": "execute_result",
          "data": {
            "text/plain": [
              "DesignMatrix with shape (5, 3)\n",
              "  Intercept  x0  np.log(np.abs(x1) + 1)\n",
              "          1   1                 0.00995\n",
              "          1   2                 0.00995\n",
              "          1   3                 0.22314\n",
              "          1   4                 1.62924\n",
              "          1   5                 0.00000\n",
              "  Terms:\n",
              "    'Intercept' (column 0)\n",
              "    'x0' (column 1)\n",
              "    'np.log(np.abs(x1) + 1)' (column 2)"
            ]
          },
          "metadata": {
            "tags": []
          },
          "execution_count": 22
        }
      ]
    },
    {
      "cell_type": "code",
      "metadata": {
        "colab": {
          "base_uri": "https://localhost:8080/"
        },
        "id": "j2rz89pyrZaQ",
        "outputId": "2e26d77c-9b99-445a-d6cf-5cdc75903e11"
      },
      "source": [
        "y, X = patsy.dmatrices('y ~ standardize(x0) + center(x1)', data)\n",
        "X"
      ],
      "execution_count": null,
      "outputs": [
        {
          "output_type": "execute_result",
          "data": {
            "text/plain": [
              "DesignMatrix with shape (5, 3)\n",
              "  Intercept  standardize(x0)  center(x1)\n",
              "          1         -1.41421        0.78\n",
              "          1         -0.70711        0.76\n",
              "          1          0.00000        1.02\n",
              "          1          0.70711       -3.33\n",
              "          1          1.41421        0.77\n",
              "  Terms:\n",
              "    'Intercept' (column 0)\n",
              "    'standardize(x0)' (column 1)\n",
              "    'center(x1)' (column 2)"
            ]
          },
          "metadata": {
            "tags": []
          },
          "execution_count": 23
        }
      ]
    },
    {
      "cell_type": "code",
      "metadata": {
        "colab": {
          "base_uri": "https://localhost:8080/"
        },
        "id": "Uw3OCxV2rZaQ",
        "outputId": "84499238-6eef-47f2-8e4b-75adaadab8f5"
      },
      "source": [
        "new_data = pd.DataFrame({\n",
        "    'x0': [6, 7, 8, 9],\n",
        "    'x1': [3.1, -0.5, 0, 2.3],\n",
        "    'y': [1, 2, 3, 4]})\n",
        "new_X = patsy.build_design_matrices([X.design_info], new_data)\n",
        "new_X"
      ],
      "execution_count": null,
      "outputs": [
        {
          "output_type": "execute_result",
          "data": {
            "text/plain": [
              "[DesignMatrix with shape (4, 3)\n",
              "   Intercept  standardize(x0)  center(x1)\n",
              "           1          2.12132        3.87\n",
              "           1          2.82843        0.27\n",
              "           1          3.53553        0.77\n",
              "           1          4.24264        3.07\n",
              "   Terms:\n",
              "     'Intercept' (column 0)\n",
              "     'standardize(x0)' (column 1)\n",
              "     'center(x1)' (column 2)]"
            ]
          },
          "metadata": {
            "tags": []
          },
          "execution_count": 24
        }
      ]
    },
    {
      "cell_type": "code",
      "metadata": {
        "colab": {
          "base_uri": "https://localhost:8080/"
        },
        "id": "GObUGpVIrZaQ",
        "outputId": "8be0d653-0cbe-4e33-866a-fdad28594794"
      },
      "source": [
        "y, X = patsy.dmatrices('y ~ I(x0 + x1)', data)\n",
        "X"
      ],
      "execution_count": null,
      "outputs": [
        {
          "output_type": "execute_result",
          "data": {
            "text/plain": [
              "DesignMatrix with shape (5, 2)\n",
              "  Intercept  I(x0 + x1)\n",
              "          1        1.01\n",
              "          1        1.99\n",
              "          1        3.25\n",
              "          1       -0.10\n",
              "          1        5.00\n",
              "  Terms:\n",
              "    'Intercept' (column 0)\n",
              "    'I(x0 + x1)' (column 1)"
            ]
          },
          "metadata": {
            "tags": []
          },
          "execution_count": 25
        }
      ]
    },
    {
      "cell_type": "markdown",
      "metadata": {
        "id": "PokdsDHhrZaQ"
      },
      "source": [
        "### 13.2.2 分类数据与Patsy"
      ]
    },
    {
      "cell_type": "code",
      "metadata": {
        "colab": {
          "base_uri": "https://localhost:8080/"
        },
        "id": "OFMMR1vtrZaR",
        "outputId": "79571f73-1fce-4d59-89f3-0a19cf22e2fa"
      },
      "source": [
        "data = pd.DataFrame({'key1': ['a', 'a', 'b', 'b', 'a', 'b', 'a', 'b'],\n",
        "                     'key2': [0, 1, 0, 1, 0, 1, 0, 0],\n",
        "                     'v1': [1, 2, 3, 4, 5, 6, 7, 8],\n",
        "                     'v2': [-1, 0, 2.5, -0.5, 4.0, -1.2, 0.2, -1.7]})\n",
        "y, X = patsy.dmatrices('v2 ~ key1', data)\n",
        "X"
      ],
      "execution_count": null,
      "outputs": [
        {
          "output_type": "execute_result",
          "data": {
            "text/plain": [
              "DesignMatrix with shape (8, 2)\n",
              "  Intercept  key1[T.b]\n",
              "          1          0\n",
              "          1          0\n",
              "          1          1\n",
              "          1          1\n",
              "          1          0\n",
              "          1          1\n",
              "          1          0\n",
              "          1          1\n",
              "  Terms:\n",
              "    'Intercept' (column 0)\n",
              "    'key1' (column 1)"
            ]
          },
          "metadata": {
            "tags": []
          },
          "execution_count": 26
        }
      ]
    },
    {
      "cell_type": "code",
      "metadata": {
        "colab": {
          "base_uri": "https://localhost:8080/"
        },
        "id": "I5zLAyxwrZaR",
        "outputId": "a3bc31b6-becb-4d8d-f6c1-e2ae97ef8590"
      },
      "source": [
        "y, X = patsy.dmatrices('v2 ~ key1 + 0', data)\n",
        "X"
      ],
      "execution_count": null,
      "outputs": [
        {
          "output_type": "execute_result",
          "data": {
            "text/plain": [
              "DesignMatrix with shape (8, 2)\n",
              "  key1[a]  key1[b]\n",
              "        1        0\n",
              "        1        0\n",
              "        0        1\n",
              "        0        1\n",
              "        1        0\n",
              "        0        1\n",
              "        1        0\n",
              "        0        1\n",
              "  Terms:\n",
              "    'key1' (columns 0:2)"
            ]
          },
          "metadata": {
            "tags": []
          },
          "execution_count": 27
        }
      ]
    },
    {
      "cell_type": "code",
      "metadata": {
        "colab": {
          "base_uri": "https://localhost:8080/"
        },
        "id": "N9c5iH16rZaR",
        "outputId": "23dcf9a7-862b-4a71-c06d-aa5bef10a49b"
      },
      "source": [
        "y, X = patsy.dmatrices('v2 ~ C(key2)', data)\n",
        "X"
      ],
      "execution_count": null,
      "outputs": [
        {
          "output_type": "execute_result",
          "data": {
            "text/plain": [
              "DesignMatrix with shape (8, 2)\n",
              "  Intercept  C(key2)[T.1]\n",
              "          1             0\n",
              "          1             1\n",
              "          1             0\n",
              "          1             1\n",
              "          1             0\n",
              "          1             1\n",
              "          1             0\n",
              "          1             0\n",
              "  Terms:\n",
              "    'Intercept' (column 0)\n",
              "    'C(key2)' (column 1)"
            ]
          },
          "metadata": {
            "tags": []
          },
          "execution_count": 28
        }
      ]
    },
    {
      "cell_type": "code",
      "metadata": {
        "colab": {
          "base_uri": "https://localhost:8080/",
          "height": 295
        },
        "id": "A61jHUKht3o_",
        "outputId": "b73c492f-b818-4f05-f9d7-0980601de966"
      },
      "source": [
        "data['key2'] = data['key2'].map({0: 'zero', 1: 'one'})\n",
        "data"
      ],
      "execution_count": null,
      "outputs": [
        {
          "output_type": "execute_result",
          "data": {
            "text/html": [
              "<div>\n",
              "<style scoped>\n",
              "    .dataframe tbody tr th:only-of-type {\n",
              "        vertical-align: middle;\n",
              "    }\n",
              "\n",
              "    .dataframe tbody tr th {\n",
              "        vertical-align: top;\n",
              "    }\n",
              "\n",
              "    .dataframe thead th {\n",
              "        text-align: right;\n",
              "    }\n",
              "</style>\n",
              "<table border=\"1\" class=\"dataframe\">\n",
              "  <thead>\n",
              "    <tr style=\"text-align: right;\">\n",
              "      <th></th>\n",
              "      <th>key1</th>\n",
              "      <th>key2</th>\n",
              "      <th>v1</th>\n",
              "      <th>v2</th>\n",
              "    </tr>\n",
              "  </thead>\n",
              "  <tbody>\n",
              "    <tr>\n",
              "      <th>0</th>\n",
              "      <td>a</td>\n",
              "      <td>zero</td>\n",
              "      <td>1</td>\n",
              "      <td>-1.0</td>\n",
              "    </tr>\n",
              "    <tr>\n",
              "      <th>1</th>\n",
              "      <td>a</td>\n",
              "      <td>one</td>\n",
              "      <td>2</td>\n",
              "      <td>0.0</td>\n",
              "    </tr>\n",
              "    <tr>\n",
              "      <th>2</th>\n",
              "      <td>b</td>\n",
              "      <td>zero</td>\n",
              "      <td>3</td>\n",
              "      <td>2.5</td>\n",
              "    </tr>\n",
              "    <tr>\n",
              "      <th>3</th>\n",
              "      <td>b</td>\n",
              "      <td>one</td>\n",
              "      <td>4</td>\n",
              "      <td>-0.5</td>\n",
              "    </tr>\n",
              "    <tr>\n",
              "      <th>4</th>\n",
              "      <td>a</td>\n",
              "      <td>zero</td>\n",
              "      <td>5</td>\n",
              "      <td>4.0</td>\n",
              "    </tr>\n",
              "    <tr>\n",
              "      <th>5</th>\n",
              "      <td>b</td>\n",
              "      <td>one</td>\n",
              "      <td>6</td>\n",
              "      <td>-1.2</td>\n",
              "    </tr>\n",
              "    <tr>\n",
              "      <th>6</th>\n",
              "      <td>a</td>\n",
              "      <td>zero</td>\n",
              "      <td>7</td>\n",
              "      <td>0.2</td>\n",
              "    </tr>\n",
              "    <tr>\n",
              "      <th>7</th>\n",
              "      <td>b</td>\n",
              "      <td>zero</td>\n",
              "      <td>8</td>\n",
              "      <td>-1.7</td>\n",
              "    </tr>\n",
              "  </tbody>\n",
              "</table>\n",
              "</div>"
            ],
            "text/plain": [
              "  key1  key2  v1   v2\n",
              "0    a  zero   1 -1.0\n",
              "1    a   one   2  0.0\n",
              "2    b  zero   3  2.5\n",
              "3    b   one   4 -0.5\n",
              "4    a  zero   5  4.0\n",
              "5    b   one   6 -1.2\n",
              "6    a  zero   7  0.2\n",
              "7    b  zero   8 -1.7"
            ]
          },
          "metadata": {
            "tags": []
          },
          "execution_count": 29
        }
      ]
    },
    {
      "cell_type": "code",
      "metadata": {
        "colab": {
          "base_uri": "https://localhost:8080/"
        },
        "id": "ne01v-f4t5Lo",
        "outputId": "02e2bc7a-a220-4503-e455-a51cee1f352e"
      },
      "source": [
        "y, X = patsy.dmatrices('v2 ~ key1 + key2', data)\n",
        "X"
      ],
      "execution_count": null,
      "outputs": [
        {
          "output_type": "execute_result",
          "data": {
            "text/plain": [
              "DesignMatrix with shape (8, 3)\n",
              "  Intercept  key1[T.b]  key2[T.zero]\n",
              "          1          0             1\n",
              "          1          0             0\n",
              "          1          1             1\n",
              "          1          1             0\n",
              "          1          0             1\n",
              "          1          1             0\n",
              "          1          0             1\n",
              "          1          1             1\n",
              "  Terms:\n",
              "    'Intercept' (column 0)\n",
              "    'key1' (column 1)\n",
              "    'key2' (column 2)"
            ]
          },
          "metadata": {
            "tags": []
          },
          "execution_count": 30
        }
      ]
    },
    {
      "cell_type": "code",
      "metadata": {
        "colab": {
          "base_uri": "https://localhost:8080/"
        },
        "id": "32YbA72BrZaR",
        "outputId": "194eb0eb-f322-4012-cf42-c29cd9b6dc24"
      },
      "source": [
        "y, X = patsy.dmatrices('v2 ~ key1 + key2 + key1:key2', data)\n",
        "X"
      ],
      "execution_count": null,
      "outputs": [
        {
          "output_type": "execute_result",
          "data": {
            "text/plain": [
              "DesignMatrix with shape (8, 4)\n",
              "  Intercept  key1[T.b]  key2[T.zero]  key1[T.b]:key2[T.zero]\n",
              "          1          0             1                       0\n",
              "          1          0             0                       0\n",
              "          1          1             1                       1\n",
              "          1          1             0                       0\n",
              "          1          0             1                       0\n",
              "          1          1             0                       0\n",
              "          1          0             1                       0\n",
              "          1          1             1                       1\n",
              "  Terms:\n",
              "    'Intercept' (column 0)\n",
              "    'key1' (column 1)\n",
              "    'key2' (column 2)\n",
              "    'key1:key2' (column 3)"
            ]
          },
          "metadata": {
            "tags": []
          },
          "execution_count": 31
        }
      ]
    },
    {
      "cell_type": "markdown",
      "metadata": {
        "id": "K3LES0MurZaR"
      },
      "source": [
        "## 13.3 `Statsmodels`介绍"
      ]
    },
    {
      "cell_type": "markdown",
      "metadata": {
        "id": "MigWdg3DrZaR"
      },
      "source": [
        "### 13.3.1 评估线性模型"
      ]
    },
    {
      "cell_type": "code",
      "metadata": {
        "id": "4y95j7BOrZaR",
        "colab": {
          "base_uri": "https://localhost:8080/"
        },
        "outputId": "60cefeb8-32ad-490b-96b2-c8c15360dba8"
      },
      "source": [
        "import statsmodels.api as sm\n",
        "import statsmodels.formula.api as smf"
      ],
      "execution_count": null,
      "outputs": [
        {
          "output_type": "stream",
          "text": [
            "/usr/local/lib/python3.7/dist-packages/statsmodels/tools/_testing.py:19: FutureWarning: pandas.util.testing is deprecated. Use the functions in the public API at pandas.testing instead.\n",
            "  import pandas.util.testing as tm\n"
          ],
          "name": "stderr"
        }
      ]
    },
    {
      "cell_type": "code",
      "metadata": {
        "id": "_0XRAsF3rZaS"
      },
      "source": [
        "def dnorm(mean, variance, size=1):\n",
        "    if isinstance(size, int):\n",
        "        size = size,\n",
        "    return mean + np.sqrt(variance) * np.random.randn(*size)\n",
        "\n",
        "# For reproducibility\n",
        "np.random.seed(12345)\n",
        "\n",
        "N = 100\n",
        "X = np.c_[dnorm(0, 0.4, size=N),\n",
        "          dnorm(0, 0.6, size=N),\n",
        "          dnorm(0, 0.2, size=N)]\n",
        "eps = dnorm(0, 0.1, size=N)\n",
        "beta = [0.1, 0.3, 0.5]\n",
        "\n",
        "y = np.dot(X, beta) + eps"
      ],
      "execution_count": null,
      "outputs": []
    },
    {
      "cell_type": "code",
      "metadata": {
        "colab": {
          "base_uri": "https://localhost:8080/"
        },
        "id": "9UYQJZSnuFQr",
        "outputId": "15027aac-1a62-4184-c220-30e213727377"
      },
      "source": [
        "X[:5]"
      ],
      "execution_count": null,
      "outputs": [
        {
          "output_type": "execute_result",
          "data": {
            "text/plain": [
              "array([[-0.1295, -1.2128,  0.5042],\n",
              "       [ 0.3029, -0.4357, -0.2542],\n",
              "       [-0.3285, -0.0253,  0.1384],\n",
              "       [-0.3515, -0.7196, -0.2582],\n",
              "       [ 1.2433, -0.3738, -0.5226]])"
            ]
          },
          "metadata": {
            "tags": []
          },
          "execution_count": 34
        }
      ]
    },
    {
      "cell_type": "code",
      "metadata": {
        "colab": {
          "base_uri": "https://localhost:8080/"
        },
        "id": "494potWCrZaS",
        "outputId": "4bc282fd-7d3f-4d32-d77a-b2f1de8f6dc5"
      },
      "source": [
        "y[:5]"
      ],
      "execution_count": null,
      "outputs": [
        {
          "output_type": "execute_result",
          "data": {
            "text/plain": [
              "array([ 0.4279, -0.6735, -0.0909, -0.4895, -0.1289])"
            ]
          },
          "metadata": {
            "tags": []
          },
          "execution_count": 35
        }
      ]
    },
    {
      "cell_type": "code",
      "metadata": {
        "colab": {
          "base_uri": "https://localhost:8080/"
        },
        "id": "meSqFb-grZaS",
        "outputId": "8ccaddaf-5a8d-4238-d37c-865bcdb013d3"
      },
      "source": [
        "X_model = sm.add_constant(X)\n",
        "X_model[:5]"
      ],
      "execution_count": null,
      "outputs": [
        {
          "output_type": "execute_result",
          "data": {
            "text/plain": [
              "array([[ 1.    , -0.1295, -1.2128,  0.5042],\n",
              "       [ 1.    ,  0.3029, -0.4357, -0.2542],\n",
              "       [ 1.    , -0.3285, -0.0253,  0.1384],\n",
              "       [ 1.    , -0.3515, -0.7196, -0.2582],\n",
              "       [ 1.    ,  1.2433, -0.3738, -0.5226]])"
            ]
          },
          "metadata": {
            "tags": []
          },
          "execution_count": 36
        }
      ]
    },
    {
      "cell_type": "code",
      "metadata": {
        "id": "HQV9AxCNrZaS"
      },
      "source": [
        "model = sm.OLS(y, X)"
      ],
      "execution_count": null,
      "outputs": []
    },
    {
      "cell_type": "code",
      "metadata": {
        "colab": {
          "base_uri": "https://localhost:8080/"
        },
        "id": "wjoivDvUrZaS",
        "outputId": "7570f789-a3e2-4878-8054-ff4d6f3b7909"
      },
      "source": [
        "results = model.fit()\n",
        "results.params"
      ],
      "execution_count": null,
      "outputs": [
        {
          "output_type": "execute_result",
          "data": {
            "text/plain": [
              "array([0.1783, 0.223 , 0.501 ])"
            ]
          },
          "metadata": {
            "tags": []
          },
          "execution_count": 38
        }
      ]
    },
    {
      "cell_type": "code",
      "metadata": {
        "colab": {
          "base_uri": "https://localhost:8080/"
        },
        "id": "pjbdRmAerZaS",
        "outputId": "6d8ffbc8-e588-472c-c194-26fcc159d493"
      },
      "source": [
        "print(results.summary())"
      ],
      "execution_count": null,
      "outputs": [
        {
          "output_type": "stream",
          "text": [
            "                                 OLS Regression Results                                \n",
            "=======================================================================================\n",
            "Dep. Variable:                      y   R-squared (uncentered):                   0.430\n",
            "Model:                            OLS   Adj. R-squared (uncentered):              0.413\n",
            "Method:                 Least Squares   F-statistic:                              24.42\n",
            "Date:                Sat, 14 Aug 2021   Prob (F-statistic):                    7.44e-12\n",
            "Time:                        15:27:05   Log-Likelihood:                         -34.305\n",
            "No. Observations:                 100   AIC:                                      74.61\n",
            "Df Residuals:                      97   BIC:                                      82.42\n",
            "Df Model:                           3                                                  \n",
            "Covariance Type:            nonrobust                                                  \n",
            "==============================================================================\n",
            "                 coef    std err          t      P>|t|      [0.025      0.975]\n",
            "------------------------------------------------------------------------------\n",
            "x1             0.1783      0.053      3.364      0.001       0.073       0.283\n",
            "x2             0.2230      0.046      4.818      0.000       0.131       0.315\n",
            "x3             0.5010      0.080      6.237      0.000       0.342       0.660\n",
            "==============================================================================\n",
            "Omnibus:                        4.662   Durbin-Watson:                   2.201\n",
            "Prob(Omnibus):                  0.097   Jarque-Bera (JB):                4.098\n",
            "Skew:                           0.481   Prob(JB):                        0.129\n",
            "Kurtosis:                       3.243   Cond. No.                         1.74\n",
            "==============================================================================\n",
            "\n",
            "Warnings:\n",
            "[1] Standard Errors assume that the covariance matrix of the errors is correctly specified.\n"
          ],
          "name": "stdout"
        }
      ]
    },
    {
      "cell_type": "code",
      "metadata": {
        "colab": {
          "base_uri": "https://localhost:8080/",
          "height": 203
        },
        "id": "SrVFsY6erZaS",
        "outputId": "bf38fa3d-9bf6-4d86-ba68-81c7ac2c3d73"
      },
      "source": [
        "data = pd.DataFrame(X, columns=['col0', 'col1', 'col2'])\n",
        "data['y'] = y\n",
        "data[:5]"
      ],
      "execution_count": null,
      "outputs": [
        {
          "output_type": "execute_result",
          "data": {
            "text/html": [
              "<div>\n",
              "<style scoped>\n",
              "    .dataframe tbody tr th:only-of-type {\n",
              "        vertical-align: middle;\n",
              "    }\n",
              "\n",
              "    .dataframe tbody tr th {\n",
              "        vertical-align: top;\n",
              "    }\n",
              "\n",
              "    .dataframe thead th {\n",
              "        text-align: right;\n",
              "    }\n",
              "</style>\n",
              "<table border=\"1\" class=\"dataframe\">\n",
              "  <thead>\n",
              "    <tr style=\"text-align: right;\">\n",
              "      <th></th>\n",
              "      <th>col0</th>\n",
              "      <th>col1</th>\n",
              "      <th>col2</th>\n",
              "      <th>y</th>\n",
              "    </tr>\n",
              "  </thead>\n",
              "  <tbody>\n",
              "    <tr>\n",
              "      <th>0</th>\n",
              "      <td>-0.129468</td>\n",
              "      <td>-1.212753</td>\n",
              "      <td>0.504225</td>\n",
              "      <td>0.427863</td>\n",
              "    </tr>\n",
              "    <tr>\n",
              "      <th>1</th>\n",
              "      <td>0.302910</td>\n",
              "      <td>-0.435742</td>\n",
              "      <td>-0.254180</td>\n",
              "      <td>-0.673480</td>\n",
              "    </tr>\n",
              "    <tr>\n",
              "      <th>2</th>\n",
              "      <td>-0.328522</td>\n",
              "      <td>-0.025302</td>\n",
              "      <td>0.138351</td>\n",
              "      <td>-0.090878</td>\n",
              "    </tr>\n",
              "    <tr>\n",
              "      <th>3</th>\n",
              "      <td>-0.351475</td>\n",
              "      <td>-0.719605</td>\n",
              "      <td>-0.258215</td>\n",
              "      <td>-0.489494</td>\n",
              "    </tr>\n",
              "    <tr>\n",
              "      <th>4</th>\n",
              "      <td>1.243269</td>\n",
              "      <td>-0.373799</td>\n",
              "      <td>-0.522629</td>\n",
              "      <td>-0.128941</td>\n",
              "    </tr>\n",
              "  </tbody>\n",
              "</table>\n",
              "</div>"
            ],
            "text/plain": [
              "       col0      col1      col2         y\n",
              "0 -0.129468 -1.212753  0.504225  0.427863\n",
              "1  0.302910 -0.435742 -0.254180 -0.673480\n",
              "2 -0.328522 -0.025302  0.138351 -0.090878\n",
              "3 -0.351475 -0.719605 -0.258215 -0.489494\n",
              "4  1.243269 -0.373799 -0.522629 -0.128941"
            ]
          },
          "metadata": {
            "tags": []
          },
          "execution_count": 40
        }
      ]
    },
    {
      "cell_type": "code",
      "metadata": {
        "colab": {
          "base_uri": "https://localhost:8080/"
        },
        "id": "00HADNjbrZaS",
        "outputId": "336d0dcd-eb1d-4097-faa6-9d69fe6a5a79"
      },
      "source": [
        "results = smf.ols('y ~ col0 + col1 + col2', data=data).fit()\n",
        "results.params"
      ],
      "execution_count": null,
      "outputs": [
        {
          "output_type": "execute_result",
          "data": {
            "text/plain": [
              "Intercept    0.033559\n",
              "col0         0.176149\n",
              "col1         0.224826\n",
              "col2         0.514808\n",
              "dtype: float64"
            ]
          },
          "metadata": {
            "tags": []
          },
          "execution_count": 41
        }
      ]
    },
    {
      "cell_type": "code",
      "metadata": {
        "colab": {
          "base_uri": "https://localhost:8080/"
        },
        "id": "Cppr-105uOWy",
        "outputId": "6f2e34ff-3a28-425a-e421-5b6075ce0e9f"
      },
      "source": [
        "results.tvalues"
      ],
      "execution_count": null,
      "outputs": [
        {
          "output_type": "execute_result",
          "data": {
            "text/plain": [
              "Intercept    0.952188\n",
              "col0         3.319754\n",
              "col1         4.850730\n",
              "col2         6.303971\n",
              "dtype: float64"
            ]
          },
          "metadata": {
            "tags": []
          },
          "execution_count": 42
        }
      ]
    },
    {
      "cell_type": "code",
      "metadata": {
        "colab": {
          "base_uri": "https://localhost:8080/"
        },
        "id": "Hg53-zB5rZaT",
        "outputId": "2a0f6ee5-811d-466d-a66a-b8416f642b71"
      },
      "source": [
        "results.predict(data[:5])"
      ],
      "execution_count": null,
      "outputs": [
        {
          "output_type": "execute_result",
          "data": {
            "text/plain": [
              "0   -0.002327\n",
              "1   -0.141904\n",
              "2    0.041226\n",
              "3   -0.323070\n",
              "4   -0.100535\n",
              "dtype: float64"
            ]
          },
          "metadata": {
            "tags": []
          },
          "execution_count": 43
        }
      ]
    },
    {
      "cell_type": "markdown",
      "metadata": {
        "id": "QnoCGnNbrZaT"
      },
      "source": [
        "### 13.3.2 评估时间序列处理"
      ]
    },
    {
      "cell_type": "code",
      "metadata": {
        "id": "5YuRCmtYrZaT"
      },
      "source": [
        "init_x = 4\n",
        "\n",
        "import random\n",
        "values = [init_x, init_x]\n",
        "N = 1000\n",
        "\n",
        "b0 = 0.8\n",
        "b1 = -0.4\n",
        "noise = dnorm(0, 0.1, N)\n",
        "for i in range(N):\n",
        "    new_x = values[-1] * b0 + values[-2] * b1 + noise[i]\n",
        "    values.append(new_x)"
      ],
      "execution_count": null,
      "outputs": []
    },
    {
      "cell_type": "code",
      "metadata": {
        "colab": {
          "base_uri": "https://localhost:8080/"
        },
        "id": "3wdhx7ldrZaT",
        "outputId": "d5f2eb72-5778-4eef-8a8d-9154f03143cb"
      },
      "source": [
        "MAXLAGS = 5\n",
        "model = sm.tsa.AR(values)\n",
        "results = model.fit(MAXLAGS)\n",
        "results.params"
      ],
      "execution_count": null,
      "outputs": [
        {
          "output_type": "execute_result",
          "data": {
            "text/plain": [
              "array([-0.0062,  0.7845, -0.4085, -0.0136,  0.015 ,  0.0143])"
            ]
          },
          "metadata": {
            "tags": []
          },
          "execution_count": 45
        }
      ]
    },
    {
      "cell_type": "markdown",
      "metadata": {
        "id": "dIUF2O43rZaT"
      },
      "source": [
        "## 13.4 scikit-learn介绍"
      ]
    },
    {
      "cell_type": "code",
      "metadata": {
        "colab": {
          "base_uri": "https://localhost:8080/",
          "height": 390
        },
        "id": "G9ar7-syrZaT",
        "outputId": "fb0cabee-667b-4334-dd1f-e8e82a1b7e6a"
      },
      "source": [
        "# 训练集\n",
        "train = pd.read_csv('./datasets/titanic/train.csv')\n",
        "# 测试集\n",
        "test = pd.read_csv('./datasets/titanic/test.csv')\n",
        "# 查看前4行\n",
        "train[:4]"
      ],
      "execution_count": null,
      "outputs": [
        {
          "output_type": "execute_result",
          "data": {
            "text/html": [
              "<div>\n",
              "<style scoped>\n",
              "    .dataframe tbody tr th:only-of-type {\n",
              "        vertical-align: middle;\n",
              "    }\n",
              "\n",
              "    .dataframe tbody tr th {\n",
              "        vertical-align: top;\n",
              "    }\n",
              "\n",
              "    .dataframe thead th {\n",
              "        text-align: right;\n",
              "    }\n",
              "</style>\n",
              "<table border=\"1\" class=\"dataframe\">\n",
              "  <thead>\n",
              "    <tr style=\"text-align: right;\">\n",
              "      <th></th>\n",
              "      <th>PassengerId</th>\n",
              "      <th>Survived</th>\n",
              "      <th>Pclass</th>\n",
              "      <th>Name</th>\n",
              "      <th>Sex</th>\n",
              "      <th>Age</th>\n",
              "      <th>SibSp</th>\n",
              "      <th>Parch</th>\n",
              "      <th>Ticket</th>\n",
              "      <th>Fare</th>\n",
              "      <th>Cabin</th>\n",
              "      <th>Embarked</th>\n",
              "    </tr>\n",
              "  </thead>\n",
              "  <tbody>\n",
              "    <tr>\n",
              "      <th>0</th>\n",
              "      <td>1</td>\n",
              "      <td>0</td>\n",
              "      <td>3</td>\n",
              "      <td>Braund, Mr. Owen Harris</td>\n",
              "      <td>male</td>\n",
              "      <td>22.0</td>\n",
              "      <td>1</td>\n",
              "      <td>0</td>\n",
              "      <td>A/5 21171</td>\n",
              "      <td>7.2500</td>\n",
              "      <td>NaN</td>\n",
              "      <td>S</td>\n",
              "    </tr>\n",
              "    <tr>\n",
              "      <th>1</th>\n",
              "      <td>2</td>\n",
              "      <td>1</td>\n",
              "      <td>1</td>\n",
              "      <td>Cumings, Mrs. John Bradley (Florence Briggs Th...</td>\n",
              "      <td>female</td>\n",
              "      <td>38.0</td>\n",
              "      <td>1</td>\n",
              "      <td>0</td>\n",
              "      <td>PC 17599</td>\n",
              "      <td>71.2833</td>\n",
              "      <td>C85</td>\n",
              "      <td>C</td>\n",
              "    </tr>\n",
              "    <tr>\n",
              "      <th>2</th>\n",
              "      <td>3</td>\n",
              "      <td>1</td>\n",
              "      <td>3</td>\n",
              "      <td>Heikkinen, Miss. Laina</td>\n",
              "      <td>female</td>\n",
              "      <td>26.0</td>\n",
              "      <td>0</td>\n",
              "      <td>0</td>\n",
              "      <td>STON/O2. 3101282</td>\n",
              "      <td>7.9250</td>\n",
              "      <td>NaN</td>\n",
              "      <td>S</td>\n",
              "    </tr>\n",
              "    <tr>\n",
              "      <th>3</th>\n",
              "      <td>4</td>\n",
              "      <td>1</td>\n",
              "      <td>1</td>\n",
              "      <td>Futrelle, Mrs. Jacques Heath (Lily May Peel)</td>\n",
              "      <td>female</td>\n",
              "      <td>35.0</td>\n",
              "      <td>1</td>\n",
              "      <td>0</td>\n",
              "      <td>113803</td>\n",
              "      <td>53.1000</td>\n",
              "      <td>C123</td>\n",
              "      <td>S</td>\n",
              "    </tr>\n",
              "  </tbody>\n",
              "</table>\n",
              "</div>"
            ],
            "text/plain": [
              "   PassengerId  Survived  Pclass  ...     Fare Cabin  Embarked\n",
              "0            1         0       3  ...   7.2500   NaN         S\n",
              "1            2         1       1  ...  71.2833   C85         C\n",
              "2            3         1       3  ...   7.9250   NaN         S\n",
              "3            4         1       1  ...  53.1000  C123         S\n",
              "\n",
              "[4 rows x 12 columns]"
            ]
          },
          "metadata": {
            "tags": []
          },
          "execution_count": 46
        }
      ]
    },
    {
      "cell_type": "code",
      "metadata": {
        "colab": {
          "base_uri": "https://localhost:8080/"
        },
        "id": "DvS0BZh4sdFa",
        "outputId": "80332094-9685-440a-ecc9-5d5ccbdf29b4"
      },
      "source": [
        "# 缺失值\n",
        "train.isnull().sum()"
      ],
      "execution_count": null,
      "outputs": [
        {
          "output_type": "execute_result",
          "data": {
            "text/plain": [
              "PassengerId      0\n",
              "Survived         0\n",
              "Pclass           0\n",
              "Name             0\n",
              "Sex              0\n",
              "Age            177\n",
              "SibSp            0\n",
              "Parch            0\n",
              "Ticket           0\n",
              "Fare             0\n",
              "Cabin          687\n",
              "Embarked         2\n",
              "dtype: int64"
            ]
          },
          "metadata": {
            "tags": []
          },
          "execution_count": 47
        }
      ]
    },
    {
      "cell_type": "code",
      "metadata": {
        "colab": {
          "base_uri": "https://localhost:8080/"
        },
        "id": "MTlIljvmrZaT",
        "outputId": "8195a03a-29eb-446a-9767-3f58200b56f3"
      },
      "source": [
        "# 缺失值\n",
        "test.isnull().sum()"
      ],
      "execution_count": null,
      "outputs": [
        {
          "output_type": "execute_result",
          "data": {
            "text/plain": [
              "PassengerId      0\n",
              "Pclass           0\n",
              "Name             0\n",
              "Sex              0\n",
              "Age             86\n",
              "SibSp            0\n",
              "Parch            0\n",
              "Ticket           0\n",
              "Fare             1\n",
              "Cabin          327\n",
              "Embarked         0\n",
              "dtype: int64"
            ]
          },
          "metadata": {
            "tags": []
          },
          "execution_count": 48
        }
      ]
    },
    {
      "cell_type": "code",
      "metadata": {
        "id": "ReHqKFAQrZaT"
      },
      "source": [
        "impute_value = train['Age'].median()\n",
        "train['Age'] = train['Age'].fillna(impute_value)\n",
        "test['Age'] = test['Age'].fillna(impute_value)"
      ],
      "execution_count": null,
      "outputs": []
    },
    {
      "cell_type": "code",
      "metadata": {
        "id": "8583_W4erZaU"
      },
      "source": [
        "train['IsFemale'] = (train['Sex'] == 'female').astype(int)\n",
        "test['IsFemale'] = (test['Sex'] == 'female').astype(int)"
      ],
      "execution_count": null,
      "outputs": []
    },
    {
      "cell_type": "code",
      "metadata": {
        "id": "TGFDhLksrZaU"
      },
      "source": [
        "predictors = ['Pclass', 'IsFemale', 'Age']\n",
        "X_train = train[predictors].values\n",
        "X_test = test[predictors].values\n",
        "y_train = train['Survived'].values"
      ],
      "execution_count": null,
      "outputs": []
    },
    {
      "cell_type": "code",
      "metadata": {
        "colab": {
          "base_uri": "https://localhost:8080/"
        },
        "id": "VKZmFc8xP7FO",
        "outputId": "51490fc4-66ac-47f4-c046-351ac20293d4"
      },
      "source": [
        "X_train[:5]"
      ],
      "execution_count": null,
      "outputs": [
        {
          "output_type": "execute_result",
          "data": {
            "text/plain": [
              "array([[ 3.,  0., 22.],\n",
              "       [ 1.,  1., 38.],\n",
              "       [ 3.,  1., 26.],\n",
              "       [ 1.,  1., 35.],\n",
              "       [ 3.,  0., 35.]])"
            ]
          },
          "metadata": {
            "tags": []
          },
          "execution_count": 52
        }
      ]
    },
    {
      "cell_type": "code",
      "metadata": {
        "colab": {
          "base_uri": "https://localhost:8080/"
        },
        "id": "r0NrX2kRP8S8",
        "outputId": "4f396768-8293-434c-906b-693be4016762"
      },
      "source": [
        "y_train[:5]"
      ],
      "execution_count": null,
      "outputs": [
        {
          "output_type": "execute_result",
          "data": {
            "text/plain": [
              "array([0, 1, 1, 1, 0])"
            ]
          },
          "metadata": {
            "tags": []
          },
          "execution_count": 53
        }
      ]
    },
    {
      "cell_type": "code",
      "metadata": {
        "colab": {
          "base_uri": "https://localhost:8080/"
        },
        "id": "SYl7G3i7rZaU",
        "outputId": "b93a11de-2561-4309-f26d-1143fb96a9a7"
      },
      "source": [
        "from sklearn.linear_model import LogisticRegression\n",
        "model = LogisticRegression()\n",
        "model.fit(X_train, y_train)\n",
        "y_predict = model.predict(X_test)\n",
        "y_predict[:10]"
      ],
      "execution_count": null,
      "outputs": [
        {
          "output_type": "execute_result",
          "data": {
            "text/plain": [
              "array([0, 0, 0, 0, 1, 0, 1, 0, 1, 0])"
            ]
          },
          "metadata": {
            "tags": []
          },
          "execution_count": 54
        }
      ]
    },
    {
      "cell_type": "markdown",
      "metadata": {
        "id": "YGjxFZD-rZaU"
      },
      "source": [
        "(y_true == y_predict).mean()"
      ]
    },
    {
      "cell_type": "code",
      "metadata": {
        "colab": {
          "base_uri": "https://localhost:8080/"
        },
        "id": "u-bCWHyprZaU",
        "outputId": "4854a770-02fa-4504-a50e-376f80d7cc42"
      },
      "source": [
        "from sklearn.linear_model import LogisticRegressionCV\n",
        "model_cv = LogisticRegressionCV(10)\n",
        "model_cv.fit(X_train, y_train)"
      ],
      "execution_count": null,
      "outputs": [
        {
          "output_type": "execute_result",
          "data": {
            "text/plain": [
              "LogisticRegressionCV(Cs=10, class_weight=None, cv=None, dual=False,\n",
              "                     fit_intercept=True, intercept_scaling=1.0, l1_ratios=None,\n",
              "                     max_iter=100, multi_class='auto', n_jobs=None,\n",
              "                     penalty='l2', random_state=None, refit=True, scoring=None,\n",
              "                     solver='lbfgs', tol=0.0001, verbose=0)"
            ]
          },
          "metadata": {
            "tags": []
          },
          "execution_count": 55
        }
      ]
    },
    {
      "cell_type": "code",
      "metadata": {
        "colab": {
          "base_uri": "https://localhost:8080/"
        },
        "id": "pBs_XCxgrZaV",
        "outputId": "346d4c30-bbb7-45dd-a29d-356adc16cf9c"
      },
      "source": [
        "from sklearn.model_selection import cross_val_score\n",
        "model = LogisticRegression(C=10)\n",
        "scores = cross_val_score(model, X_train, y_train, cv=4)\n",
        "scores"
      ],
      "execution_count": null,
      "outputs": [
        {
          "output_type": "execute_result",
          "data": {
            "text/plain": [
              "array([0.7758, 0.7982, 0.7758, 0.7883])"
            ]
          },
          "metadata": {
            "tags": []
          },
          "execution_count": 56
        }
      ]
    },
    {
      "cell_type": "markdown",
      "metadata": {
        "id": "dGG1CcbzrZaV"
      },
      "source": [
        "## 13.5 继续你的教育"
      ]
    },
    {
      "cell_type": "code",
      "metadata": {
        "id": "T3tE1iLWrZaV"
      },
      "source": [
        "pd.options.display.max_rows = PREVIOUS_MAX_ROWS"
      ],
      "execution_count": null,
      "outputs": []
    }
  ]
}