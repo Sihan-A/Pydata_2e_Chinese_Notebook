{
  "nbformat": 4,
  "nbformat_minor": 0,
  "metadata": {
    "hide_input": false,
    "kernelspec": {
      "display_name": "Python 3",
      "language": "python",
      "name": "python3"
    },
    "language_info": {
      "codemirror_mode": {
        "name": "ipython",
        "version": 3
      },
      "file_extension": ".py",
      "mimetype": "text/x-python",
      "name": "python",
      "nbconvert_exporter": "python",
      "pygments_lexer": "ipython3",
      "version": "3.8.8"
    },
    "toc": {
      "base_numbering": 1,
      "nav_menu": {},
      "number_sections": true,
      "sideBar": true,
      "skip_h1_title": false,
      "title_cell": "Table of Contents",
      "title_sidebar": "Contents",
      "toc_cell": false,
      "toc_position": {
        "height": "calc(100% - 180px)",
        "left": "10px",
        "top": "150px",
        "width": "233px"
      },
      "toc_section_display": true,
      "toc_window_display": true
    },
    "varInspector": {
      "cols": {
        "lenName": 16,
        "lenType": 16,
        "lenVar": 40
      },
      "kernels_config": {
        "python": {
          "delete_cmd_postfix": "",
          "delete_cmd_prefix": "del ",
          "library": "var_list.py",
          "varRefreshCmd": "print(var_dic_list())"
        },
        "r": {
          "delete_cmd_postfix": ") ",
          "delete_cmd_prefix": "rm(",
          "library": "var_list.r",
          "varRefreshCmd": "cat(var_dic_list()) "
        }
      },
      "types_to_exclude": [
        "module",
        "function",
        "builtin_function_or_method",
        "instance",
        "_Feature"
      ],
      "window_display": false
    },
    "colab": {
      "name": "ch11_时间序列.ipynb",
      "provenance": [],
      "toc_visible": true,
      "include_colab_link": true
    }
  },
  "cells": [
    {
      "cell_type": "markdown",
      "metadata": {
        "id": "view-in-github",
        "colab_type": "text"
      },
      "source": [
        "<a href=\"https://colab.research.google.com/github/Sihan-A/Pydata_2e_Chinese_Notebook/blob/main/ch11_%E6%97%B6%E9%97%B4%E5%BA%8F%E5%88%97.ipynb\" target=\"_parent\"><img src=\"https://colab.research.google.com/assets/colab-badge.svg\" alt=\"Open In Colab\"/></a>"
      ]
    },
    {
      "cell_type": "markdown",
      "metadata": {
        "id": "CtHF31xCUbAY"
      },
      "source": [
        "没完成的\n",
        "1. 表11-1\n",
        "2. 表11-2\n",
        "3. 表11-3"
      ]
    },
    {
      "cell_type": "markdown",
      "metadata": {
        "id": "dA3irjO5YrbS"
      },
      "source": [
        "# 11 时间序列"
      ]
    },
    {
      "cell_type": "markdown",
      "metadata": {
        "id": "DZlsn2UnQnKX"
      },
      "source": [
        "- 固定频率\n",
        "- 不规则\n",
        "\n",
        "\n",
        "1. 时间戳\n",
        "2. 固定的时间区间\n",
        "3. 时间间隔\n",
        "4. 实验时间或消耗时间"
      ]
    },
    {
      "cell_type": "markdown",
      "metadata": {
        "id": "Zgc5JEYWRUOW"
      },
      "source": [
        "Pandas的时间模块\n",
        "1. datetime\n",
        "2. time\n",
        "3. calendar"
      ]
    },
    {
      "cell_type": "code",
      "metadata": {
        "cell_style": "center",
        "id": "l6137UsxYrbW"
      },
      "source": [
        "# 导入\n",
        "import numpy as np\n",
        "import pandas as pd\n",
        "import matplotlib.pyplot as plt"
      ],
      "execution_count": 1,
      "outputs": []
    },
    {
      "cell_type": "code",
      "metadata": {
        "id": "J1lBMb9YYrbX"
      },
      "source": [
        "np.random.seed(12345) # seed the generator\n",
        "plt.rc('figure', figsize=(10, 6)) # 设置 figure size\n",
        "PREVIOUS_MAX_ROWS = pd.options.display.max_rows\n",
        "pd.options.display.max_rows = 20 # 设置\n",
        "# 控制打印输出\n",
        "np.set_printoptions(precision=4, # 控制输出的小数点个数，默认是 precision = 8\n",
        "                    suppress=True) # 当 suppress=True，表示小数不需要以科学计数法的形式输出"
      ],
      "execution_count": 2,
      "outputs": []
    },
    {
      "cell_type": "markdown",
      "metadata": {
        "id": "d-hwVIiFYrbY"
      },
      "source": [
        "## 11.1 日期和时间数据的类型及工具"
      ]
    },
    {
      "cell_type": "code",
      "metadata": {
        "cell_style": "center",
        "id": "q47UwgZ8YrbY",
        "outputId": "d2fd8504-d21e-44e2-b73a-5baeb024ed56",
        "colab": {
          "base_uri": "https://localhost:8080/"
        }
      },
      "source": [
        "from datetime import datetime # 导入 datatime 模块\n",
        "now = datetime.now() # 现在时间\n",
        "now # 显示现在时间"
      ],
      "execution_count": 4,
      "outputs": [
        {
          "output_type": "execute_result",
          "data": {
            "text/plain": [
              "datetime.datetime(2021, 9, 3, 1, 29, 43, 393054)"
            ]
          },
          "metadata": {},
          "execution_count": 4
        }
      ]
    },
    {
      "cell_type": "code",
      "metadata": {
        "id": "MDRya892YrbZ",
        "outputId": "4146d997-f206-4b82-d068-f80ea49deefb",
        "colab": {
          "base_uri": "https://localhost:8080/"
        }
      },
      "source": [
        "now.year, now.month, now.day # 年月日"
      ],
      "execution_count": 5,
      "outputs": [
        {
          "output_type": "execute_result",
          "data": {
            "text/plain": [
              "(2021, 9, 3)"
            ]
          },
          "metadata": {},
          "execution_count": 5
        }
      ]
    },
    {
      "cell_type": "code",
      "metadata": {
        "id": "9NJjOv7PYrbd",
        "outputId": "3078ca7c-db78-4dc6-ded6-e6c973bc53fe",
        "colab": {
          "base_uri": "https://localhost:8080/"
        }
      },
      "source": [
        "delta = datetime(2011, 1, 7) - datetime(2008, 6, 24, 8, 15) # 时间间隔\n",
        "delta # 显示时间间隔"
      ],
      "execution_count": 7,
      "outputs": [
        {
          "output_type": "execute_result",
          "data": {
            "text/plain": [
              "datetime.timedelta(days=926, seconds=56700)"
            ]
          },
          "metadata": {},
          "execution_count": 7
        }
      ]
    },
    {
      "cell_type": "code",
      "metadata": {
        "id": "7Sriz_5CYrbd",
        "outputId": "4114c0de-0be0-45db-c693-84ccafa40b93",
        "colab": {
          "base_uri": "https://localhost:8080/"
        }
      },
      "source": [
        "delta.days"
      ],
      "execution_count": 8,
      "outputs": [
        {
          "output_type": "execute_result",
          "data": {
            "text/plain": [
              "926"
            ]
          },
          "metadata": {},
          "execution_count": 8
        }
      ]
    },
    {
      "cell_type": "code",
      "metadata": {
        "id": "gsrMpTMGYrbe",
        "outputId": "f6cf318f-59fe-40e5-c5aa-7784464ccf18",
        "colab": {
          "base_uri": "https://localhost:8080/"
        }
      },
      "source": [
        "delta.seconds"
      ],
      "execution_count": 9,
      "outputs": [
        {
          "output_type": "execute_result",
          "data": {
            "text/plain": [
              "56700"
            ]
          },
          "metadata": {},
          "execution_count": 9
        }
      ]
    },
    {
      "cell_type": "markdown",
      "metadata": {
        "id": "QTBYMSI1SDj6"
      },
      "source": [
        "datetime对象加减一个timedelta或其整数倍来产生一个新的datetime对象"
      ]
    },
    {
      "cell_type": "code",
      "metadata": {
        "id": "n0-GvbD5Yrbf",
        "outputId": "8f1e4f9f-f792-4912-e34f-573249511712",
        "colab": {
          "base_uri": "https://localhost:8080/"
        }
      },
      "source": [
        "from datetime import timedelta\n",
        "start = datetime(2011, 1, 7)\n",
        "start + timedelta(12) # 加"
      ],
      "execution_count": 11,
      "outputs": [
        {
          "output_type": "execute_result",
          "data": {
            "text/plain": [
              "datetime.datetime(2011, 1, 19, 0, 0)"
            ]
          },
          "metadata": {},
          "execution_count": 11
        }
      ]
    },
    {
      "cell_type": "code",
      "metadata": {
        "id": "oddbJlwZYrbf",
        "outputId": "5af0b4ae-ec9c-46da-b2c0-853c503796f6",
        "colab": {
          "base_uri": "https://localhost:8080/"
        }
      },
      "source": [
        "start - 2 * timedelta(12) # 减整数倍"
      ],
      "execution_count": 13,
      "outputs": [
        {
          "output_type": "execute_result",
          "data": {
            "text/plain": [
              "datetime.datetime(2010, 12, 14, 0, 0)"
            ]
          },
          "metadata": {},
          "execution_count": 13
        }
      ]
    },
    {
      "cell_type": "markdown",
      "metadata": {
        "id": "6k_twUPKSrE_"
      },
      "source": [
        "表11-1：datetime模块中的类型"
      ]
    },
    {
      "cell_type": "markdown",
      "metadata": {
        "id": "HGXhjM2gYrbg"
      },
      "source": [
        "### 11.1.1 字符串与datetime互相转换"
      ]
    },
    {
      "cell_type": "markdown",
      "metadata": {
        "id": "8yxHaVCITYPu"
      },
      "source": [
        "`str()`方法或传递一个指定的格式给`strftime()`方法来对`datetime`对象和pandas的`Timestamp`对象进行格式化"
      ]
    },
    {
      "cell_type": "code",
      "metadata": {
        "id": "OwEpJFfRYrbg",
        "outputId": "7a6df477-d8b3-4be2-e134-2379d5589767",
        "colab": {
          "base_uri": "https://localhost:8080/",
          "height": 35
        }
      },
      "source": [
        "stamp = datetime(2011, 1, 3) # datetime对象\n",
        "str(stamp) # 用 str() 方法转为字符串"
      ],
      "execution_count": 14,
      "outputs": [
        {
          "output_type": "execute_result",
          "data": {
            "application/vnd.google.colaboratory.intrinsic+json": {
              "type": "string"
            },
            "text/plain": [
              "'2011-01-03 00:00:00'"
            ]
          },
          "metadata": {},
          "execution_count": 14
        }
      ]
    },
    {
      "cell_type": "code",
      "metadata": {
        "id": "q-PQCwiiYrbg",
        "outputId": "9ad9e8aa-6734-4183-d98b-765582c0fd6b",
        "colab": {
          "base_uri": "https://localhost:8080/",
          "height": 35
        }
      },
      "source": [
        "stamp.strftime('%Y-%m-%d') # 传递一个指定的格式给strftime()"
      ],
      "execution_count": 15,
      "outputs": [
        {
          "output_type": "execute_result",
          "data": {
            "application/vnd.google.colaboratory.intrinsic+json": {
              "type": "string"
            },
            "text/plain": [
              "'2011-01-03'"
            ]
          },
          "metadata": {},
          "execution_count": 15
        }
      ]
    },
    {
      "cell_type": "markdown",
      "metadata": {
        "id": "HmsIDwP0UH9f"
      },
      "source": [
        "表11-2"
      ]
    },
    {
      "cell_type": "markdown",
      "metadata": {
        "id": "HIY7x2A5Uq7u"
      },
      "source": [
        "使用`datetime.srtptime()`：字符串 + 指定格式 → 日期"
      ]
    },
    {
      "cell_type": "code",
      "metadata": {
        "id": "DRJON7AhYrbh",
        "outputId": "a4eeacb6-aca1-4942-d931-51f8c0bf5ea7",
        "colab": {
          "base_uri": "https://localhost:8080/"
        }
      },
      "source": [
        "value = '2011-01-03' # 创建字符串\n",
        "datetime.strptime(value, '%Y-%m-%d') # 字符串 → 时间"
      ],
      "execution_count": 16,
      "outputs": [
        {
          "output_type": "execute_result",
          "data": {
            "text/plain": [
              "datetime.datetime(2011, 1, 3, 0, 0)"
            ]
          },
          "metadata": {},
          "execution_count": 16
        }
      ]
    },
    {
      "cell_type": "code",
      "metadata": {
        "id": "cEsJUJGxYrbh",
        "outputId": "75aa50e2-e935-42ef-fdc6-df8eb507c0c2",
        "colab": {
          "base_uri": "https://localhost:8080/"
        }
      },
      "source": [
        "datestrs = ['7/6/2011', '8/6/2011'] # 创建列表\n",
        "[datetime.strptime(x, '%m/%d/%Y') for x in datestrs] # 列表生成器"
      ],
      "execution_count": 17,
      "outputs": [
        {
          "output_type": "execute_result",
          "data": {
            "text/plain": [
              "[datetime.datetime(2011, 7, 6, 0, 0), datetime.datetime(2011, 8, 6, 0, 0)]"
            ]
          },
          "metadata": {},
          "execution_count": 17
        }
      ]
    },
    {
      "cell_type": "markdown",
      "metadata": {
        "id": "mnmal3o-V2aX"
      },
      "source": [
        "第三方dateutil包的parser.parse方法"
      ]
    },
    {
      "cell_type": "code",
      "metadata": {
        "id": "yJQaB9R9Yrbh",
        "outputId": "4d9dcf9d-a1e0-4d71-f225-ab9bb4eee3b7",
        "colab": {
          "base_uri": "https://localhost:8080/"
        }
      },
      "source": [
        "from dateutil.parser import parse\n",
        "parse('2011-01-03') # 字符串 → 日期"
      ],
      "execution_count": 18,
      "outputs": [
        {
          "output_type": "execute_result",
          "data": {
            "text/plain": [
              "datetime.datetime(2011, 1, 3, 0, 0)"
            ]
          },
          "metadata": {},
          "execution_count": 18
        }
      ]
    },
    {
      "cell_type": "code",
      "metadata": {
        "id": "oys0HWdBYrbh",
        "outputId": "be46b61d-eb42-4d97-b7f8-d2407f5ec29e",
        "colab": {
          "base_uri": "https://localhost:8080/"
        }
      },
      "source": [
        "parse('Jan 31, 1997 10:45 PM') # 能够解析大部分人类可理解的日期表示"
      ],
      "execution_count": 21,
      "outputs": [
        {
          "output_type": "execute_result",
          "data": {
            "text/plain": [
              "datetime.datetime(1997, 1, 31, 22, 45)"
            ]
          },
          "metadata": {},
          "execution_count": 21
        }
      ]
    },
    {
      "cell_type": "code",
      "metadata": {
        "id": "7ddyeI3cYrbi",
        "outputId": "0e23d4ce-ed31-4d5b-ac6e-c032dbbd2dea",
        "colab": {
          "base_uri": "https://localhost:8080/"
        }
      },
      "source": [
        "parse('6/12/2011',\n",
        "      dayfirst=True) # 日期在月份之前"
      ],
      "execution_count": 23,
      "outputs": [
        {
          "output_type": "execute_result",
          "data": {
            "text/plain": [
              "datetime.datetime(2011, 12, 6, 0, 0)"
            ]
          },
          "metadata": {},
          "execution_count": 23
        }
      ]
    },
    {
      "cell_type": "markdown",
      "metadata": {
        "id": "5rra6p9wXIax"
      },
      "source": [
        "`to_datetime()`可以转换很多不同的日期表格格式"
      ]
    },
    {
      "cell_type": "code",
      "metadata": {
        "id": "mIgw7AcBYrbk",
        "outputId": "f9c7b603-488f-4755-c420-33d5373525cb",
        "colab": {
          "base_uri": "https://localhost:8080/"
        }
      },
      "source": [
        "datestrs = ['2011-07-06 12:00:00', '2011-08-06 00:00:00'] # 列表\n",
        "pd.to_datetime(datestrs) # 传入列表，得到datetime对象"
      ],
      "execution_count": 26,
      "outputs": [
        {
          "output_type": "execute_result",
          "data": {
            "text/plain": [
              "DatetimeIndex(['2011-07-06 12:00:00', '2011-08-06 00:00:00'], dtype='datetime64[ns]', freq=None)"
            ]
          },
          "metadata": {},
          "execution_count": 26
        }
      ]
    },
    {
      "cell_type": "code",
      "metadata": {
        "id": "vIzsPpbmXbxf",
        "outputId": "3de1ee59-eeef-4559-fa79-733e626c2962",
        "colab": {
          "base_uri": "https://localhost:8080/"
        }
      },
      "source": [
        "idx = pd.to_datetime(datestrs + [None]) # 还可以处理缺失值\n",
        "idx"
      ],
      "execution_count": 30,
      "outputs": [
        {
          "output_type": "execute_result",
          "data": {
            "text/plain": [
              "DatetimeIndex(['2011-07-06 12:00:00', '2011-08-06 00:00:00', 'NaT'], dtype='datetime64[ns]', freq=None)"
            ]
          },
          "metadata": {},
          "execution_count": 30
        }
      ]
    },
    {
      "cell_type": "markdown",
      "metadata": {
        "id": "YLYbl-U1YHYB"
      },
      "source": [
        "NaT（not a time）是时间戳数据中的null值"
      ]
    },
    {
      "cell_type": "code",
      "metadata": {
        "id": "DNIz-sJHYrbk",
        "outputId": "cfee6459-7222-42e4-ef9f-7d09dea3c18a",
        "colab": {
          "base_uri": "https://localhost:8080/"
        }
      },
      "source": [
        "idx[2] # 索引"
      ],
      "execution_count": 28,
      "outputs": [
        {
          "output_type": "execute_result",
          "data": {
            "text/plain": [
              "NaT"
            ]
          },
          "metadata": {},
          "execution_count": 28
        }
      ]
    },
    {
      "cell_type": "code",
      "metadata": {
        "id": "o3BahnqAXfX2",
        "outputId": "c9fdbedb-4259-4da9-dde2-b0b3a7f9719f",
        "colab": {
          "base_uri": "https://localhost:8080/"
        }
      },
      "source": [
        "pd.isnull(idx) # 判断是否为缺失值"
      ],
      "execution_count": 31,
      "outputs": [
        {
          "output_type": "execute_result",
          "data": {
            "text/plain": [
              "array([False, False,  True])"
            ]
          },
          "metadata": {},
          "execution_count": 31
        }
      ]
    },
    {
      "cell_type": "markdown",
      "metadata": {
        "id": "jK5yyePuYmOL"
      },
      "source": [
        "表11-3"
      ]
    },
    {
      "cell_type": "markdown",
      "metadata": {
        "id": "e2v5l-fiYrbk"
      },
      "source": [
        "## 11.2 时间序列基础"
      ]
    },
    {
      "cell_type": "code",
      "metadata": {
        "id": "nXyP8W6WYrbk",
        "outputId": "88d29ff3-278b-4430-953b-869e33a72a8b",
        "colab": {
          "base_uri": "https://localhost:8080/"
        }
      },
      "source": [
        "from datetime import datetime\n",
        "dates = [datetime(2011, 1, 2), datetime(2011, 1, 5), # datetime 对象的列表\n",
        "         datetime(2011, 1, 7), datetime(2011, 1, 8),\n",
        "         datetime(2011, 1, 10), datetime(2011, 1, 12)]\n",
        "ts = pd.Series(np.random.randn(6), # series的值\n",
        "               index=dates) # 索引为 datetime 对象\n",
        "ts"
      ],
      "execution_count": 34,
      "outputs": [
        {
          "output_type": "execute_result",
          "data": {
            "text/plain": [
              "2011-01-02    0.274992\n",
              "2011-01-05    0.228913\n",
              "2011-01-07    1.352917\n",
              "2011-01-08    0.886429\n",
              "2011-01-10   -2.001637\n",
              "2011-01-12   -0.371843\n",
              "dtype: float64"
            ]
          },
          "metadata": {},
          "execution_count": 34
        }
      ]
    },
    {
      "cell_type": "code",
      "metadata": {
        "id": "j_VcAy5zYrbk",
        "outputId": "ba84e4b1-d12a-4a13-ebb2-14b1547a85cf",
        "colab": {
          "base_uri": "https://localhost:8080/"
        }
      },
      "source": [
        "ts.index # 查看索引"
      ],
      "execution_count": 36,
      "outputs": [
        {
          "output_type": "execute_result",
          "data": {
            "text/plain": [
              "DatetimeIndex(['2011-01-02', '2011-01-05', '2011-01-07', '2011-01-08',\n",
              "               '2011-01-10', '2011-01-12'],\n",
              "              dtype='datetime64[ns]', freq=None)"
            ]
          },
          "metadata": {},
          "execution_count": 36
        }
      ]
    },
    {
      "cell_type": "code",
      "metadata": {
        "id": "VlhTW3OoZpJu",
        "outputId": "b018a608-d203-4a77-f90f-c416641f4901",
        "colab": {
          "base_uri": "https://localhost:8080/"
        }
      },
      "source": [
        "ts[::2] # 步长为2的切片，也就是每隔一个取一值"
      ],
      "execution_count": 42,
      "outputs": [
        {
          "output_type": "execute_result",
          "data": {
            "text/plain": [
              "2011-01-02    0.274992\n",
              "2011-01-07    1.352917\n",
              "2011-01-10   -2.001637\n",
              "dtype: float64"
            ]
          },
          "metadata": {},
          "execution_count": 42
        }
      ]
    },
    {
      "cell_type": "code",
      "metadata": {
        "id": "ud7_ux8IYrbl",
        "outputId": "59d110d5-d70d-41d3-eb06-fdff836ac2ee",
        "colab": {
          "base_uri": "https://localhost:8080/"
        }
      },
      "source": [
        "ts + ts[::2] # 日期自定对齐，没有对应日期返回NaN"
      ],
      "execution_count": 40,
      "outputs": [
        {
          "output_type": "execute_result",
          "data": {
            "text/plain": [
              "2011-01-02    0.549983\n",
              "2011-01-05         NaN\n",
              "2011-01-07    2.705834\n",
              "2011-01-08         NaN\n",
              "2011-01-10   -4.003275\n",
              "2011-01-12         NaN\n",
              "dtype: float64"
            ]
          },
          "metadata": {},
          "execution_count": 40
        }
      ]
    },
    {
      "cell_type": "code",
      "metadata": {
        "id": "POkCCWgGYrbl",
        "outputId": "bde1dcf4-6b1e-4eb0-eab5-89d0159209a9",
        "colab": {
          "base_uri": "https://localhost:8080/"
        }
      },
      "source": [
        "ts.index.dtype # 索引的数据类型是datetime64"
      ],
      "execution_count": 46,
      "outputs": [
        {
          "output_type": "execute_result",
          "data": {
            "text/plain": [
              "dtype('<M8[ns]')"
            ]
          },
          "metadata": {},
          "execution_count": 46
        }
      ]
    },
    {
      "cell_type": "markdown",
      "metadata": {
        "id": "9bkOm7Kfa0Li"
      },
      "source": [
        "DatetimeIndex中的标量值是pandas的TimeStamp对象"
      ]
    },
    {
      "cell_type": "code",
      "metadata": {
        "id": "QMaN8f8UYrbl",
        "outputId": "94e4503d-7366-455b-8c28-5645ee9247c7",
        "colab": {
          "base_uri": "https://localhost:8080/"
        }
      },
      "source": [
        "stamp = ts.index[0] # 索引切片\n",
        "stamp"
      ],
      "execution_count": 47,
      "outputs": [
        {
          "output_type": "execute_result",
          "data": {
            "text/plain": [
              "Timestamp('2011-01-02 00:00:00')"
            ]
          },
          "metadata": {},
          "execution_count": 47
        }
      ]
    },
    {
      "cell_type": "markdown",
      "metadata": {
        "id": "uaOE1W8_Yrbl"
      },
      "source": [
        "### 11.2.1 索引，选择，子集"
      ]
    },
    {
      "cell_type": "code",
      "metadata": {
        "id": "NgoOtaUBYrbl",
        "outputId": "86947cf1-255d-406d-e18e-72ea30fd3b76",
        "colab": {
          "base_uri": "https://localhost:8080/"
        }
      },
      "source": [
        "stamp = ts.index[2] # 索引\n",
        "ts[stamp] # 用索引来选择"
      ],
      "execution_count": 51,
      "outputs": [
        {
          "output_type": "execute_result",
          "data": {
            "text/plain": [
              "1.3529168351654497"
            ]
          },
          "metadata": {},
          "execution_count": 51
        }
      ]
    },
    {
      "cell_type": "code",
      "metadata": {
        "id": "LfxWhY4iYrbl",
        "outputId": "6ff0b12d-228a-487d-c33e-e856dcccbf5d",
        "colab": {
          "base_uri": "https://localhost:8080/"
        }
      },
      "source": [
        "ts['1/10/2011']"
      ],
      "execution_count": 52,
      "outputs": [
        {
          "output_type": "execute_result",
          "data": {
            "text/plain": [
              "-2.0016373096603974"
            ]
          },
          "metadata": {},
          "execution_count": 52
        }
      ]
    },
    {
      "cell_type": "code",
      "metadata": {
        "id": "YRiVqx5Wb-sp",
        "outputId": "ac879019-58e2-4dbb-cb53-28fbb6ec1211",
        "colab": {
          "base_uri": "https://localhost:8080/"
        }
      },
      "source": [
        "ts['20110110']"
      ],
      "execution_count": 53,
      "outputs": [
        {
          "output_type": "execute_result",
          "data": {
            "text/plain": [
              "-2.0016373096603974"
            ]
          },
          "metadata": {},
          "execution_count": 53
        }
      ]
    },
    {
      "cell_type": "code",
      "metadata": {
        "id": "l8ybS633Yrbm",
        "outputId": "eb0997df-788c-4bea-bab2-3f922ab818c2"
      },
      "source": [
        "longer_ts = pd.Series(np.random.randn(1000),\n",
        "                      index=pd.date_range('1/1/2000', periods=1000))\n",
        "longer_ts\n",
        "longer_ts['2001']"
      ],
      "execution_count": null,
      "outputs": [
        {
          "data": {
            "text/plain": [
              "2001-01-01    1.599534\n",
              "2001-01-02    0.474071\n",
              "2001-01-03    0.151326\n",
              "2001-01-04   -0.542173\n",
              "2001-01-05   -0.475496\n",
              "                ...   \n",
              "2001-12-27    0.057874\n",
              "2001-12-28   -0.433739\n",
              "2001-12-29    0.092698\n",
              "2001-12-30   -1.397820\n",
              "2001-12-31    1.457823\n",
              "Freq: D, Length: 365, dtype: float64"
            ]
          },
          "execution_count": 26,
          "metadata": {},
          "output_type": "execute_result"
        }
      ]
    },
    {
      "cell_type": "code",
      "metadata": {
        "id": "-SgLFvsjYrbm",
        "outputId": "1607e0ee-b027-4414-cd15-4821c894bdc0"
      },
      "source": [
        "longer_ts['2001-05']"
      ],
      "execution_count": null,
      "outputs": [
        {
          "data": {
            "text/plain": [
              "2001-05-01   -0.622547\n",
              "2001-05-02    0.936289\n",
              "2001-05-03    0.750018\n",
              "2001-05-04   -0.056715\n",
              "2001-05-05    2.300675\n",
              "                ...   \n",
              "2001-05-27    0.235477\n",
              "2001-05-28    0.111835\n",
              "2001-05-29   -1.251504\n",
              "2001-05-30   -2.949343\n",
              "2001-05-31    0.634634\n",
              "Freq: D, Length: 31, dtype: float64"
            ]
          },
          "execution_count": 27,
          "metadata": {},
          "output_type": "execute_result"
        }
      ]
    },
    {
      "cell_type": "code",
      "metadata": {
        "id": "qDeOSEwtYrbm",
        "outputId": "7121967c-b268-4caf-f575-33ea32a8162f"
      },
      "source": [
        "ts[datetime(2011, 1, 7):]"
      ],
      "execution_count": null,
      "outputs": [
        {
          "data": {
            "text/plain": [
              "2011-01-07   -0.519439\n",
              "2011-01-08   -0.555730\n",
              "2011-01-10    1.965781\n",
              "2011-01-12    1.393406\n",
              "dtype: float64"
            ]
          },
          "execution_count": 28,
          "metadata": {},
          "output_type": "execute_result"
        }
      ]
    },
    {
      "cell_type": "code",
      "metadata": {
        "id": "rOhYkVtrYrbm",
        "outputId": "591eabf6-3f41-46be-b311-f5c4f8ba0925"
      },
      "source": [
        "ts\n",
        "ts['1/6/2011':'1/11/2011']"
      ],
      "execution_count": null,
      "outputs": [
        {
          "data": {
            "text/plain": [
              "2011-01-07   -0.519439\n",
              "2011-01-08   -0.555730\n",
              "2011-01-10    1.965781\n",
              "dtype: float64"
            ]
          },
          "execution_count": 29,
          "metadata": {},
          "output_type": "execute_result"
        }
      ]
    },
    {
      "cell_type": "code",
      "metadata": {
        "id": "HZqs_6kAYrbm",
        "outputId": "e66990ff-25a7-4887-b1f5-bba25e3f5618"
      },
      "source": [
        "ts.truncate(after='1/9/2011')"
      ],
      "execution_count": null,
      "outputs": [
        {
          "data": {
            "text/plain": [
              "2011-01-02   -0.204708\n",
              "2011-01-05    0.478943\n",
              "2011-01-07   -0.519439\n",
              "2011-01-08   -0.555730\n",
              "dtype: float64"
            ]
          },
          "execution_count": 30,
          "metadata": {},
          "output_type": "execute_result"
        }
      ]
    },
    {
      "cell_type": "code",
      "metadata": {
        "id": "eIDEya1HYrbm",
        "outputId": "a07b374d-4aec-4554-a594-ed622c170f01"
      },
      "source": [
        "dates = pd.date_range('1/1/2000', periods=100, freq='W-WED')\n",
        "long_df = pd.DataFrame(np.random.randn(100, 4),\n",
        "                       index=dates,\n",
        "                       columns=['Colorado', 'Texas',\n",
        "                                'New York', 'Ohio'])\n",
        "long_df.loc['5-2001']"
      ],
      "execution_count": null,
      "outputs": [
        {
          "data": {
            "text/html": [
              "<div>\n",
              "<style scoped>\n",
              "    .dataframe tbody tr th:only-of-type {\n",
              "        vertical-align: middle;\n",
              "    }\n",
              "\n",
              "    .dataframe tbody tr th {\n",
              "        vertical-align: top;\n",
              "    }\n",
              "\n",
              "    .dataframe thead th {\n",
              "        text-align: right;\n",
              "    }\n",
              "</style>\n",
              "<table border=\"1\" class=\"dataframe\">\n",
              "  <thead>\n",
              "    <tr style=\"text-align: right;\">\n",
              "      <th></th>\n",
              "      <th>Colorado</th>\n",
              "      <th>Texas</th>\n",
              "      <th>New York</th>\n",
              "      <th>Ohio</th>\n",
              "    </tr>\n",
              "  </thead>\n",
              "  <tbody>\n",
              "    <tr>\n",
              "      <th>2001-05-02</th>\n",
              "      <td>-0.006045</td>\n",
              "      <td>0.490094</td>\n",
              "      <td>-0.277186</td>\n",
              "      <td>-0.707213</td>\n",
              "    </tr>\n",
              "    <tr>\n",
              "      <th>2001-05-09</th>\n",
              "      <td>-0.560107</td>\n",
              "      <td>2.735527</td>\n",
              "      <td>0.927335</td>\n",
              "      <td>1.513906</td>\n",
              "    </tr>\n",
              "    <tr>\n",
              "      <th>2001-05-16</th>\n",
              "      <td>0.538600</td>\n",
              "      <td>1.273768</td>\n",
              "      <td>0.667876</td>\n",
              "      <td>-0.969206</td>\n",
              "    </tr>\n",
              "    <tr>\n",
              "      <th>2001-05-23</th>\n",
              "      <td>1.676091</td>\n",
              "      <td>-0.817649</td>\n",
              "      <td>0.050188</td>\n",
              "      <td>1.951312</td>\n",
              "    </tr>\n",
              "    <tr>\n",
              "      <th>2001-05-30</th>\n",
              "      <td>3.260383</td>\n",
              "      <td>0.963301</td>\n",
              "      <td>1.201206</td>\n",
              "      <td>-1.852001</td>\n",
              "    </tr>\n",
              "  </tbody>\n",
              "</table>\n",
              "</div>"
            ],
            "text/plain": [
              "            Colorado     Texas  New York      Ohio\n",
              "2001-05-02 -0.006045  0.490094 -0.277186 -0.707213\n",
              "2001-05-09 -0.560107  2.735527  0.927335  1.513906\n",
              "2001-05-16  0.538600  1.273768  0.667876 -0.969206\n",
              "2001-05-23  1.676091 -0.817649  0.050188  1.951312\n",
              "2001-05-30  3.260383  0.963301  1.201206 -1.852001"
            ]
          },
          "execution_count": 31,
          "metadata": {},
          "output_type": "execute_result"
        }
      ]
    },
    {
      "cell_type": "markdown",
      "metadata": {
        "id": "SvsZSeuAYrbm"
      },
      "source": [
        "### Time Series with Duplicate Indices"
      ]
    },
    {
      "cell_type": "code",
      "metadata": {
        "id": "ciQOl9jdYrbn",
        "outputId": "422071bd-9c85-4f8c-fd89-bb559b2c6edb"
      },
      "source": [
        "dates = pd.DatetimeIndex(['1/1/2000', '1/2/2000', '1/2/2000',\n",
        "                          '1/2/2000', '1/3/2000'])\n",
        "dup_ts = pd.Series(np.arange(5), index=dates)\n",
        "dup_ts"
      ],
      "execution_count": null,
      "outputs": [
        {
          "data": {
            "text/plain": [
              "2000-01-01    0\n",
              "2000-01-02    1\n",
              "2000-01-02    2\n",
              "2000-01-02    3\n",
              "2000-01-03    4\n",
              "dtype: int64"
            ]
          },
          "execution_count": 32,
          "metadata": {},
          "output_type": "execute_result"
        }
      ]
    },
    {
      "cell_type": "code",
      "metadata": {
        "id": "IRFhmqGrYrbn",
        "outputId": "037321a3-2bd1-4f60-91fa-65d74584536d"
      },
      "source": [
        "dup_ts.index.is_unique"
      ],
      "execution_count": null,
      "outputs": [
        {
          "data": {
            "text/plain": [
              "False"
            ]
          },
          "execution_count": 33,
          "metadata": {},
          "output_type": "execute_result"
        }
      ]
    },
    {
      "cell_type": "code",
      "metadata": {
        "id": "l6lb67ndYrbn",
        "outputId": "8bbf9a2d-f58d-4fbc-f91a-9dbe45b900ce"
      },
      "source": [
        "dup_ts['1/3/2000']  # not duplicated\n",
        "dup_ts['1/2/2000']  # duplicated"
      ],
      "execution_count": null,
      "outputs": [
        {
          "data": {
            "text/plain": [
              "2000-01-02    1\n",
              "2000-01-02    2\n",
              "2000-01-02    3\n",
              "dtype: int64"
            ]
          },
          "execution_count": 34,
          "metadata": {},
          "output_type": "execute_result"
        }
      ]
    },
    {
      "cell_type": "code",
      "metadata": {
        "id": "8FMQH-PmYrbn",
        "outputId": "5eb5c7ff-3b50-404e-f00f-b48832fbaba0"
      },
      "source": [
        "grouped = dup_ts.groupby(level=0)\n",
        "grouped.mean()\n",
        "grouped.count()"
      ],
      "execution_count": null,
      "outputs": [
        {
          "data": {
            "text/plain": [
              "2000-01-01    1\n",
              "2000-01-02    3\n",
              "2000-01-03    1\n",
              "dtype: int64"
            ]
          },
          "execution_count": 35,
          "metadata": {},
          "output_type": "execute_result"
        }
      ]
    },
    {
      "cell_type": "markdown",
      "metadata": {
        "id": "eGK2YtHJYrbn"
      },
      "source": [
        "## Date Ranges, Frequencies, and Shifting"
      ]
    },
    {
      "cell_type": "code",
      "metadata": {
        "id": "gkJTOcUaYrbn"
      },
      "source": [
        "ts\n",
        "resampler = ts.resample('D')"
      ],
      "execution_count": null,
      "outputs": []
    },
    {
      "cell_type": "markdown",
      "metadata": {
        "id": "S5GOREmgYrbn"
      },
      "source": [
        "### Generating Date Ranges"
      ]
    },
    {
      "cell_type": "code",
      "metadata": {
        "id": "-w9Y1POPYrbn",
        "outputId": "056b3242-89ea-4507-cd21-63e219b990a3"
      },
      "source": [
        "index = pd.date_range('2012-04-01', '2012-06-01')\n",
        "index"
      ],
      "execution_count": null,
      "outputs": [
        {
          "data": {
            "text/plain": [
              "DatetimeIndex(['2012-04-01', '2012-04-02', '2012-04-03', '2012-04-04',\n",
              "               '2012-04-05', '2012-04-06', '2012-04-07', '2012-04-08',\n",
              "               '2012-04-09', '2012-04-10', '2012-04-11', '2012-04-12',\n",
              "               '2012-04-13', '2012-04-14', '2012-04-15', '2012-04-16',\n",
              "               '2012-04-17', '2012-04-18', '2012-04-19', '2012-04-20',\n",
              "               '2012-04-21', '2012-04-22', '2012-04-23', '2012-04-24',\n",
              "               '2012-04-25', '2012-04-26', '2012-04-27', '2012-04-28',\n",
              "               '2012-04-29', '2012-04-30', '2012-05-01', '2012-05-02',\n",
              "               '2012-05-03', '2012-05-04', '2012-05-05', '2012-05-06',\n",
              "               '2012-05-07', '2012-05-08', '2012-05-09', '2012-05-10',\n",
              "               '2012-05-11', '2012-05-12', '2012-05-13', '2012-05-14',\n",
              "               '2012-05-15', '2012-05-16', '2012-05-17', '2012-05-18',\n",
              "               '2012-05-19', '2012-05-20', '2012-05-21', '2012-05-22',\n",
              "               '2012-05-23', '2012-05-24', '2012-05-25', '2012-05-26',\n",
              "               '2012-05-27', '2012-05-28', '2012-05-29', '2012-05-30',\n",
              "               '2012-05-31', '2012-06-01'],\n",
              "              dtype='datetime64[ns]', freq='D')"
            ]
          },
          "execution_count": 37,
          "metadata": {},
          "output_type": "execute_result"
        }
      ]
    },
    {
      "cell_type": "code",
      "metadata": {
        "id": "TEZM9SioYrbn",
        "outputId": "5c6bf1e1-d726-4b9f-c247-5a5e248c179e"
      },
      "source": [
        "pd.date_range(start='2012-04-01', periods=20)\n",
        "pd.date_range(end='2012-06-01', periods=20)"
      ],
      "execution_count": null,
      "outputs": [
        {
          "data": {
            "text/plain": [
              "DatetimeIndex(['2012-05-13', '2012-05-14', '2012-05-15', '2012-05-16',\n",
              "               '2012-05-17', '2012-05-18', '2012-05-19', '2012-05-20',\n",
              "               '2012-05-21', '2012-05-22', '2012-05-23', '2012-05-24',\n",
              "               '2012-05-25', '2012-05-26', '2012-05-27', '2012-05-28',\n",
              "               '2012-05-29', '2012-05-30', '2012-05-31', '2012-06-01'],\n",
              "              dtype='datetime64[ns]', freq='D')"
            ]
          },
          "execution_count": 38,
          "metadata": {},
          "output_type": "execute_result"
        }
      ]
    },
    {
      "cell_type": "code",
      "metadata": {
        "id": "RN1ioKlcYrbn",
        "outputId": "a893e4b3-7e8c-455f-82fd-eab5ec03ced6"
      },
      "source": [
        "pd.date_range('2000-01-01', '2000-12-01', freq='BM')"
      ],
      "execution_count": null,
      "outputs": [
        {
          "data": {
            "text/plain": [
              "DatetimeIndex(['2000-01-31', '2000-02-29', '2000-03-31', '2000-04-28',\n",
              "               '2000-05-31', '2000-06-30', '2000-07-31', '2000-08-31',\n",
              "               '2000-09-29', '2000-10-31', '2000-11-30'],\n",
              "              dtype='datetime64[ns]', freq='BM')"
            ]
          },
          "execution_count": 39,
          "metadata": {},
          "output_type": "execute_result"
        }
      ]
    },
    {
      "cell_type": "code",
      "metadata": {
        "id": "0WRgzLRqYrbn",
        "outputId": "cda05323-a676-44a0-a5db-05ca5be78fda"
      },
      "source": [
        "pd.date_range('2012-05-02 12:56:31', periods=5)"
      ],
      "execution_count": null,
      "outputs": [
        {
          "data": {
            "text/plain": [
              "DatetimeIndex(['2012-05-02 12:56:31', '2012-05-03 12:56:31',\n",
              "               '2012-05-04 12:56:31', '2012-05-05 12:56:31',\n",
              "               '2012-05-06 12:56:31'],\n",
              "              dtype='datetime64[ns]', freq='D')"
            ]
          },
          "execution_count": 40,
          "metadata": {},
          "output_type": "execute_result"
        }
      ]
    },
    {
      "cell_type": "code",
      "metadata": {
        "id": "u_Hn5jQ-Yrbo",
        "outputId": "4591e5fc-68d9-4e43-a794-1d7aa272b27d"
      },
      "source": [
        "pd.date_range('2012-05-02 12:56:31', periods=5, normalize=True)"
      ],
      "execution_count": null,
      "outputs": [
        {
          "data": {
            "text/plain": [
              "DatetimeIndex(['2012-05-02', '2012-05-03', '2012-05-04', '2012-05-05',\n",
              "               '2012-05-06'],\n",
              "              dtype='datetime64[ns]', freq='D')"
            ]
          },
          "execution_count": 41,
          "metadata": {},
          "output_type": "execute_result"
        }
      ]
    },
    {
      "cell_type": "markdown",
      "metadata": {
        "id": "TuQP6aMEYrbo"
      },
      "source": [
        "### Frequencies and Date Offsets"
      ]
    },
    {
      "cell_type": "code",
      "metadata": {
        "id": "VfuQjKzXYrbo",
        "outputId": "184137e1-f412-4453-b0d7-203215e34e68"
      },
      "source": [
        "from pandas.tseries.offsets import Hour, Minute\n",
        "hour = Hour()\n",
        "hour"
      ],
      "execution_count": null,
      "outputs": [
        {
          "data": {
            "text/plain": [
              "<Hour>"
            ]
          },
          "execution_count": 42,
          "metadata": {},
          "output_type": "execute_result"
        }
      ]
    },
    {
      "cell_type": "code",
      "metadata": {
        "id": "Dslu9aLLYrbo",
        "outputId": "a4b151ec-2fba-40f5-d5ae-3bef1468806f"
      },
      "source": [
        "four_hours = Hour(4)\n",
        "four_hours"
      ],
      "execution_count": null,
      "outputs": [
        {
          "data": {
            "text/plain": [
              "<4 * Hours>"
            ]
          },
          "execution_count": 43,
          "metadata": {},
          "output_type": "execute_result"
        }
      ]
    },
    {
      "cell_type": "code",
      "metadata": {
        "id": "meO0iQPOYrbo",
        "outputId": "5c80342f-cfac-4c07-dbfb-72847a39a123"
      },
      "source": [
        "pd.date_range('2000-01-01', '2000-01-03 23:59', freq='4h')"
      ],
      "execution_count": null,
      "outputs": [
        {
          "data": {
            "text/plain": [
              "DatetimeIndex(['2000-01-01 00:00:00', '2000-01-01 04:00:00',\n",
              "               '2000-01-01 08:00:00', '2000-01-01 12:00:00',\n",
              "               '2000-01-01 16:00:00', '2000-01-01 20:00:00',\n",
              "               '2000-01-02 00:00:00', '2000-01-02 04:00:00',\n",
              "               '2000-01-02 08:00:00', '2000-01-02 12:00:00',\n",
              "               '2000-01-02 16:00:00', '2000-01-02 20:00:00',\n",
              "               '2000-01-03 00:00:00', '2000-01-03 04:00:00',\n",
              "               '2000-01-03 08:00:00', '2000-01-03 12:00:00',\n",
              "               '2000-01-03 16:00:00', '2000-01-03 20:00:00'],\n",
              "              dtype='datetime64[ns]', freq='4H')"
            ]
          },
          "execution_count": 44,
          "metadata": {},
          "output_type": "execute_result"
        }
      ]
    },
    {
      "cell_type": "code",
      "metadata": {
        "id": "fi-nHdLoYrbo",
        "outputId": "b9068270-4cf7-415d-a93c-d7e35fbf94f9"
      },
      "source": [
        "Hour(2) + Minute(30)"
      ],
      "execution_count": null,
      "outputs": [
        {
          "data": {
            "text/plain": [
              "<150 * Minutes>"
            ]
          },
          "execution_count": 45,
          "metadata": {},
          "output_type": "execute_result"
        }
      ]
    },
    {
      "cell_type": "code",
      "metadata": {
        "id": "OvrNfAwvYrbo",
        "outputId": "7c7fca38-9540-4776-fa21-dd4dcff852ca"
      },
      "source": [
        "pd.date_range('2000-01-01', periods=10, freq='1h30min')"
      ],
      "execution_count": null,
      "outputs": [
        {
          "data": {
            "text/plain": [
              "DatetimeIndex(['2000-01-01 00:00:00', '2000-01-01 01:30:00',\n",
              "               '2000-01-01 03:00:00', '2000-01-01 04:30:00',\n",
              "               '2000-01-01 06:00:00', '2000-01-01 07:30:00',\n",
              "               '2000-01-01 09:00:00', '2000-01-01 10:30:00',\n",
              "               '2000-01-01 12:00:00', '2000-01-01 13:30:00'],\n",
              "              dtype='datetime64[ns]', freq='90T')"
            ]
          },
          "execution_count": 46,
          "metadata": {},
          "output_type": "execute_result"
        }
      ]
    },
    {
      "cell_type": "markdown",
      "metadata": {
        "id": "KAL0omjHYrbo"
      },
      "source": [
        "#### Week of month dates"
      ]
    },
    {
      "cell_type": "code",
      "metadata": {
        "id": "M65SS1N1Yrbo",
        "outputId": "0edc18e3-1ef8-443e-e290-af0a54328a56"
      },
      "source": [
        "rng = pd.date_range('2012-01-01', '2012-09-01', freq='WOM-3FRI')\n",
        "list(rng)"
      ],
      "execution_count": null,
      "outputs": [
        {
          "data": {
            "text/plain": [
              "[Timestamp('2012-01-20 00:00:00', freq='WOM-3FRI'),\n",
              " Timestamp('2012-02-17 00:00:00', freq='WOM-3FRI'),\n",
              " Timestamp('2012-03-16 00:00:00', freq='WOM-3FRI'),\n",
              " Timestamp('2012-04-20 00:00:00', freq='WOM-3FRI'),\n",
              " Timestamp('2012-05-18 00:00:00', freq='WOM-3FRI'),\n",
              " Timestamp('2012-06-15 00:00:00', freq='WOM-3FRI'),\n",
              " Timestamp('2012-07-20 00:00:00', freq='WOM-3FRI'),\n",
              " Timestamp('2012-08-17 00:00:00', freq='WOM-3FRI')]"
            ]
          },
          "execution_count": 47,
          "metadata": {},
          "output_type": "execute_result"
        }
      ]
    },
    {
      "cell_type": "markdown",
      "metadata": {
        "id": "xEbrq_3MYrbo"
      },
      "source": [
        "### Shifting (Leading and Lagging) Data"
      ]
    },
    {
      "cell_type": "code",
      "metadata": {
        "id": "a6qP6kyOYrbp",
        "outputId": "ad53029a-db43-4de1-92c9-60e9b92fd912"
      },
      "source": [
        "ts = pd.Series(np.random.randn(4),\n",
        "               index=pd.date_range('1/1/2000', periods=4, freq='M'))\n",
        "ts\n",
        "ts.shift(2)\n",
        "ts.shift(-2)"
      ],
      "execution_count": null,
      "outputs": [
        {
          "data": {
            "text/plain": [
              "2000-01-31   -0.117388\n",
              "2000-02-29   -0.517795\n",
              "2000-03-31         NaN\n",
              "2000-04-30         NaN\n",
              "Freq: M, dtype: float64"
            ]
          },
          "execution_count": 48,
          "metadata": {},
          "output_type": "execute_result"
        }
      ]
    },
    {
      "cell_type": "markdown",
      "metadata": {
        "id": "TSXqdDWkYrbp"
      },
      "source": [
        "ts / ts.shift(1) - 1"
      ]
    },
    {
      "cell_type": "code",
      "metadata": {
        "id": "LDc2qjlIYrbp",
        "outputId": "23705e90-85b4-4fba-a566-57c707acca37"
      },
      "source": [
        "ts.shift(2, freq='M')"
      ],
      "execution_count": null,
      "outputs": [
        {
          "data": {
            "text/plain": [
              "2000-03-31   -0.066748\n",
              "2000-04-30    0.838639\n",
              "2000-05-31   -0.117388\n",
              "2000-06-30   -0.517795\n",
              "Freq: M, dtype: float64"
            ]
          },
          "execution_count": 49,
          "metadata": {},
          "output_type": "execute_result"
        }
      ]
    },
    {
      "cell_type": "code",
      "metadata": {
        "id": "vQ0TMHeXYrbp",
        "outputId": "0ae1db7c-666b-4100-a64c-9fdbada13c25"
      },
      "source": [
        "ts.shift(3, freq='D')\n",
        "ts.shift(1, freq='90T')"
      ],
      "execution_count": null,
      "outputs": [
        {
          "data": {
            "text/plain": [
              "2000-01-31 01:30:00   -0.066748\n",
              "2000-02-29 01:30:00    0.838639\n",
              "2000-03-31 01:30:00   -0.117388\n",
              "2000-04-30 01:30:00   -0.517795\n",
              "dtype: float64"
            ]
          },
          "execution_count": 50,
          "metadata": {},
          "output_type": "execute_result"
        }
      ]
    },
    {
      "cell_type": "markdown",
      "metadata": {
        "id": "70D9i88mYrbp"
      },
      "source": [
        "#### Shifting dates with offsets"
      ]
    },
    {
      "cell_type": "code",
      "metadata": {
        "id": "6AfH8kVvYrbp",
        "outputId": "dd2ef774-5d18-46db-9258-71beb2487dd9"
      },
      "source": [
        "from pandas.tseries.offsets import Day, MonthEnd\n",
        "now = datetime(2011, 11, 17)\n",
        "now + 3 * Day()"
      ],
      "execution_count": null,
      "outputs": [
        {
          "data": {
            "text/plain": [
              "Timestamp('2011-11-20 00:00:00')"
            ]
          },
          "execution_count": 51,
          "metadata": {},
          "output_type": "execute_result"
        }
      ]
    },
    {
      "cell_type": "code",
      "metadata": {
        "id": "WKs3VQRNYrbp",
        "outputId": "e3fc6143-5316-46b0-83f7-fd193ce4043b"
      },
      "source": [
        "now + MonthEnd()\n",
        "now + MonthEnd(2)"
      ],
      "execution_count": null,
      "outputs": [
        {
          "data": {
            "text/plain": [
              "Timestamp('2011-12-31 00:00:00')"
            ]
          },
          "execution_count": 52,
          "metadata": {},
          "output_type": "execute_result"
        }
      ]
    },
    {
      "cell_type": "code",
      "metadata": {
        "id": "i38PCLGRYrbp",
        "outputId": "901f704c-7b23-4748-9706-eae339a4033d"
      },
      "source": [
        "offset = MonthEnd()\n",
        "offset.rollforward(now)\n",
        "offset.rollback(now)"
      ],
      "execution_count": null,
      "outputs": [
        {
          "data": {
            "text/plain": [
              "Timestamp('2011-10-31 00:00:00')"
            ]
          },
          "execution_count": 53,
          "metadata": {},
          "output_type": "execute_result"
        }
      ]
    },
    {
      "cell_type": "code",
      "metadata": {
        "id": "TCW4PY8eYrbp",
        "outputId": "9f2317ac-af21-4740-df94-6e860f8815a4"
      },
      "source": [
        "ts = pd.Series(np.random.randn(20),\n",
        "               index=pd.date_range('1/15/2000', periods=20, freq='4d'))\n",
        "ts\n",
        "ts.groupby(offset.rollforward).mean()"
      ],
      "execution_count": null,
      "outputs": [
        {
          "data": {
            "text/plain": [
              "2000-01-31   -0.005833\n",
              "2000-02-29    0.015894\n",
              "2000-03-31    0.150209\n",
              "dtype: float64"
            ]
          },
          "execution_count": 54,
          "metadata": {},
          "output_type": "execute_result"
        }
      ]
    },
    {
      "cell_type": "code",
      "metadata": {
        "id": "N4T6-uDKYrbq",
        "outputId": "549f50ca-c9c2-4920-f63b-7d54fc11a88d"
      },
      "source": [
        "ts.resample('M').mean()"
      ],
      "execution_count": null,
      "outputs": [
        {
          "data": {
            "text/plain": [
              "2000-01-31   -0.005833\n",
              "2000-02-29    0.015894\n",
              "2000-03-31    0.150209\n",
              "Freq: M, dtype: float64"
            ]
          },
          "execution_count": 55,
          "metadata": {},
          "output_type": "execute_result"
        }
      ]
    },
    {
      "cell_type": "markdown",
      "metadata": {
        "id": "PasscTpbYrbq"
      },
      "source": [
        "## Time Zone Handling"
      ]
    },
    {
      "cell_type": "code",
      "metadata": {
        "id": "i1NmPDo0Yrbq",
        "outputId": "1d4feb31-3e5d-4223-9145-c41d0b1a6e48"
      },
      "source": [
        "import pytz\n",
        "pytz.common_timezones[-5:]"
      ],
      "execution_count": null,
      "outputs": [
        {
          "data": {
            "text/plain": [
              "['US/Eastern', 'US/Hawaii', 'US/Mountain', 'US/Pacific', 'UTC']"
            ]
          },
          "execution_count": 56,
          "metadata": {},
          "output_type": "execute_result"
        }
      ]
    },
    {
      "cell_type": "code",
      "metadata": {
        "id": "eaMkZAb2Yrbq",
        "outputId": "50faf308-e003-4cee-a011-c4ddb7085ef2"
      },
      "source": [
        "tz = pytz.timezone('America/New_York')\n",
        "tz"
      ],
      "execution_count": null,
      "outputs": [
        {
          "data": {
            "text/plain": [
              "<DstTzInfo 'America/New_York' LMT-1 day, 19:04:00 STD>"
            ]
          },
          "execution_count": 57,
          "metadata": {},
          "output_type": "execute_result"
        }
      ]
    },
    {
      "cell_type": "markdown",
      "metadata": {
        "id": "TQajMjrUYrbq"
      },
      "source": [
        "### Time Zone Localization and Conversion"
      ]
    },
    {
      "cell_type": "code",
      "metadata": {
        "id": "rbMULTgsYrbq",
        "outputId": "94cea5b1-a412-4807-9c97-eb9648f19654"
      },
      "source": [
        "rng = pd.date_range('3/9/2012 9:30', periods=6, freq='D')\n",
        "ts = pd.Series(np.random.randn(len(rng)), index=rng)\n",
        "ts"
      ],
      "execution_count": null,
      "outputs": [
        {
          "data": {
            "text/plain": [
              "2012-03-09 09:30:00   -0.202469\n",
              "2012-03-10 09:30:00    0.050718\n",
              "2012-03-11 09:30:00    0.639869\n",
              "2012-03-12 09:30:00    0.597594\n",
              "2012-03-13 09:30:00   -0.797246\n",
              "2012-03-14 09:30:00    0.472879\n",
              "Freq: D, dtype: float64"
            ]
          },
          "execution_count": 58,
          "metadata": {},
          "output_type": "execute_result"
        }
      ]
    },
    {
      "cell_type": "code",
      "metadata": {
        "id": "NmxuRj-9Yrbq",
        "outputId": "dddcf8ed-0cd8-4e79-ca38-7f387b946a0b"
      },
      "source": [
        "print(ts.index.tz)"
      ],
      "execution_count": null,
      "outputs": [
        {
          "name": "stdout",
          "output_type": "stream",
          "text": [
            "None\n"
          ]
        }
      ]
    },
    {
      "cell_type": "code",
      "metadata": {
        "id": "arlIk2R0Yrbr",
        "outputId": "4a17a021-1e42-4c95-f3ad-1f190f03a34b"
      },
      "source": [
        "pd.date_range('3/9/2012 9:30', periods=10, freq='D', tz='UTC')"
      ],
      "execution_count": null,
      "outputs": [
        {
          "data": {
            "text/plain": [
              "DatetimeIndex(['2012-03-09 09:30:00+00:00', '2012-03-10 09:30:00+00:00',\n",
              "               '2012-03-11 09:30:00+00:00', '2012-03-12 09:30:00+00:00',\n",
              "               '2012-03-13 09:30:00+00:00', '2012-03-14 09:30:00+00:00',\n",
              "               '2012-03-15 09:30:00+00:00', '2012-03-16 09:30:00+00:00',\n",
              "               '2012-03-17 09:30:00+00:00', '2012-03-18 09:30:00+00:00'],\n",
              "              dtype='datetime64[ns, UTC]', freq='D')"
            ]
          },
          "execution_count": 60,
          "metadata": {},
          "output_type": "execute_result"
        }
      ]
    },
    {
      "cell_type": "code",
      "metadata": {
        "id": "OCmHXD5wYrbr",
        "outputId": "4520ae1f-2abc-476d-fad4-e8d98834c0a0"
      },
      "source": [
        "ts\n",
        "ts_utc = ts.tz_localize('UTC')\n",
        "ts_utc\n",
        "ts_utc.index"
      ],
      "execution_count": null,
      "outputs": [
        {
          "data": {
            "text/plain": [
              "DatetimeIndex(['2012-03-09 09:30:00+00:00', '2012-03-10 09:30:00+00:00',\n",
              "               '2012-03-11 09:30:00+00:00', '2012-03-12 09:30:00+00:00',\n",
              "               '2012-03-13 09:30:00+00:00', '2012-03-14 09:30:00+00:00'],\n",
              "              dtype='datetime64[ns, UTC]', freq='D')"
            ]
          },
          "execution_count": 61,
          "metadata": {},
          "output_type": "execute_result"
        }
      ]
    },
    {
      "cell_type": "code",
      "metadata": {
        "id": "Ka0REhXsYrbr",
        "outputId": "bd1ab108-44ad-4045-9084-b3d37e1f005c"
      },
      "source": [
        "ts_utc.tz_convert('America/New_York')"
      ],
      "execution_count": null,
      "outputs": [
        {
          "data": {
            "text/plain": [
              "2012-03-09 04:30:00-05:00   -0.202469\n",
              "2012-03-10 04:30:00-05:00    0.050718\n",
              "2012-03-11 05:30:00-04:00    0.639869\n",
              "2012-03-12 05:30:00-04:00    0.597594\n",
              "2012-03-13 05:30:00-04:00   -0.797246\n",
              "2012-03-14 05:30:00-04:00    0.472879\n",
              "Freq: D, dtype: float64"
            ]
          },
          "execution_count": 62,
          "metadata": {},
          "output_type": "execute_result"
        }
      ]
    },
    {
      "cell_type": "code",
      "metadata": {
        "id": "CfQALmDnYrbr",
        "outputId": "2640e029-ec2f-4d63-a9f5-682b99ee1602"
      },
      "source": [
        "ts_eastern = ts.tz_localize('America/New_York')\n",
        "ts_eastern.tz_convert('UTC')\n",
        "ts_eastern.tz_convert('Europe/Berlin')"
      ],
      "execution_count": null,
      "outputs": [
        {
          "data": {
            "text/plain": [
              "2012-03-09 15:30:00+01:00   -0.202469\n",
              "2012-03-10 15:30:00+01:00    0.050718\n",
              "2012-03-11 14:30:00+01:00    0.639869\n",
              "2012-03-12 14:30:00+01:00    0.597594\n",
              "2012-03-13 14:30:00+01:00   -0.797246\n",
              "2012-03-14 14:30:00+01:00    0.472879\n",
              "dtype: float64"
            ]
          },
          "execution_count": 63,
          "metadata": {},
          "output_type": "execute_result"
        }
      ]
    },
    {
      "cell_type": "code",
      "metadata": {
        "id": "NrZhasxzYrbr",
        "outputId": "8a51e058-4ae7-4618-cc1a-8ef390ec5f1d"
      },
      "source": [
        "ts.index.tz_localize('Asia/Shanghai')"
      ],
      "execution_count": null,
      "outputs": [
        {
          "data": {
            "text/plain": [
              "DatetimeIndex(['2012-03-09 09:30:00+08:00', '2012-03-10 09:30:00+08:00',\n",
              "               '2012-03-11 09:30:00+08:00', '2012-03-12 09:30:00+08:00',\n",
              "               '2012-03-13 09:30:00+08:00', '2012-03-14 09:30:00+08:00'],\n",
              "              dtype='datetime64[ns, Asia/Shanghai]', freq=None)"
            ]
          },
          "execution_count": 64,
          "metadata": {},
          "output_type": "execute_result"
        }
      ]
    },
    {
      "cell_type": "markdown",
      "metadata": {
        "id": "rxueWNv6Yrbr"
      },
      "source": [
        "### Operations with Time Zone−Aware Timestamp Objects"
      ]
    },
    {
      "cell_type": "code",
      "metadata": {
        "id": "0H63_uafYrbr",
        "outputId": "9951ec4c-90a2-4cae-eb92-26b5644a091c"
      },
      "source": [
        "stamp = pd.Timestamp('2011-03-12 04:00')\n",
        "stamp_utc = stamp.tz_localize('utc')\n",
        "stamp_utc.tz_convert('America/New_York')"
      ],
      "execution_count": null,
      "outputs": [
        {
          "data": {
            "text/plain": [
              "Timestamp('2011-03-11 23:00:00-0500', tz='America/New_York')"
            ]
          },
          "execution_count": 65,
          "metadata": {},
          "output_type": "execute_result"
        }
      ]
    },
    {
      "cell_type": "code",
      "metadata": {
        "id": "QKiuu8xIYrbr",
        "outputId": "f46638c9-1e6d-4767-ffd6-672dce09c6dd"
      },
      "source": [
        "stamp_moscow = pd.Timestamp('2011-03-12 04:00', tz='Europe/Moscow')\n",
        "stamp_moscow"
      ],
      "execution_count": null,
      "outputs": [
        {
          "data": {
            "text/plain": [
              "Timestamp('2011-03-12 04:00:00+0300', tz='Europe/Moscow')"
            ]
          },
          "execution_count": 66,
          "metadata": {},
          "output_type": "execute_result"
        }
      ]
    },
    {
      "cell_type": "code",
      "metadata": {
        "id": "1DoK55FcYrbr",
        "outputId": "fcea4c30-efb4-42f2-ed74-9a8166cd34a0"
      },
      "source": [
        "stamp_utc.value\n",
        "stamp_utc.tz_convert('America/New_York').value"
      ],
      "execution_count": null,
      "outputs": [
        {
          "data": {
            "text/plain": [
              "1299902400000000000"
            ]
          },
          "execution_count": 67,
          "metadata": {},
          "output_type": "execute_result"
        }
      ]
    },
    {
      "cell_type": "code",
      "metadata": {
        "id": "J4ju1BRfYrbs",
        "outputId": "fb1bad45-8b01-4f94-a24e-e856a4931e05"
      },
      "source": [
        "from pandas.tseries.offsets import Hour\n",
        "stamp = pd.Timestamp('2012-03-12 01:30', tz='US/Eastern')\n",
        "stamp\n",
        "stamp + Hour()"
      ],
      "execution_count": null,
      "outputs": [
        {
          "data": {
            "text/plain": [
              "Timestamp('2012-03-12 02:30:00-0400', tz='US/Eastern')"
            ]
          },
          "execution_count": 68,
          "metadata": {},
          "output_type": "execute_result"
        }
      ]
    },
    {
      "cell_type": "code",
      "metadata": {
        "id": "IbjMwDX0Yrbs",
        "outputId": "851b7e09-3334-4fd9-84a7-e8a1e947c450"
      },
      "source": [
        "stamp = pd.Timestamp('2012-11-04 00:30', tz='US/Eastern')\n",
        "stamp\n",
        "stamp + 2 * Hour()"
      ],
      "execution_count": null,
      "outputs": [
        {
          "data": {
            "text/plain": [
              "Timestamp('2012-11-04 01:30:00-0500', tz='US/Eastern')"
            ]
          },
          "execution_count": 69,
          "metadata": {},
          "output_type": "execute_result"
        }
      ]
    },
    {
      "cell_type": "markdown",
      "metadata": {
        "id": "NAwfP-mTYrbs"
      },
      "source": [
        "### Operations Between Different Time Zones"
      ]
    },
    {
      "cell_type": "code",
      "metadata": {
        "scrolled": true,
        "id": "isaJknSbYrbs",
        "outputId": "a3c70baf-8f47-4ba8-b14d-4975eb835388"
      },
      "source": [
        "rng = pd.date_range('3/7/2012 9:30', periods=10, freq='B')\n",
        "ts = pd.Series(np.random.randn(len(rng)), index=rng)\n",
        "ts"
      ],
      "execution_count": null,
      "outputs": [
        {
          "data": {
            "text/plain": [
              "2012-03-07 09:30:00    0.522356\n",
              "2012-03-08 09:30:00   -0.546348\n",
              "2012-03-09 09:30:00   -0.733537\n",
              "2012-03-12 09:30:00    1.302736\n",
              "2012-03-13 09:30:00    0.022199\n",
              "2012-03-14 09:30:00    0.364287\n",
              "2012-03-15 09:30:00   -0.922839\n",
              "2012-03-16 09:30:00    0.312656\n",
              "2012-03-19 09:30:00   -1.128497\n",
              "2012-03-20 09:30:00   -0.333488\n",
              "Freq: B, dtype: float64"
            ]
          },
          "execution_count": 70,
          "metadata": {},
          "output_type": "execute_result"
        }
      ]
    },
    {
      "cell_type": "code",
      "metadata": {
        "id": "p_Kn2XAXYrbs",
        "outputId": "7f11e23f-48a4-4f62-ce3d-9b33b045fca0"
      },
      "source": [
        "ts1 = ts[:7].tz_localize('Europe/London')\n",
        "ts2 = ts1[2:].tz_convert('Europe/Moscow')\n",
        "result = ts1 + ts2\n",
        "result.index"
      ],
      "execution_count": null,
      "outputs": [
        {
          "data": {
            "text/plain": [
              "DatetimeIndex(['2012-03-07 09:30:00+00:00', '2012-03-08 09:30:00+00:00',\n",
              "               '2012-03-09 09:30:00+00:00', '2012-03-12 09:30:00+00:00',\n",
              "               '2012-03-13 09:30:00+00:00', '2012-03-14 09:30:00+00:00',\n",
              "               '2012-03-15 09:30:00+00:00'],\n",
              "              dtype='datetime64[ns, UTC]', freq=None)"
            ]
          },
          "execution_count": 71,
          "metadata": {},
          "output_type": "execute_result"
        }
      ]
    },
    {
      "cell_type": "markdown",
      "metadata": {
        "id": "fLAXvamoYrbs"
      },
      "source": [
        "## Periods and Period Arithmetic"
      ]
    },
    {
      "cell_type": "code",
      "metadata": {
        "id": "5Zly8Zs7Yrbs",
        "outputId": "0f3ac644-a46e-4ecc-c75e-c9a4a4304c82"
      },
      "source": [
        "p = pd.Period(2007, freq='A-DEC')\n",
        "p"
      ],
      "execution_count": null,
      "outputs": [
        {
          "data": {
            "text/plain": [
              "Period('2007', 'A-DEC')"
            ]
          },
          "execution_count": 72,
          "metadata": {},
          "output_type": "execute_result"
        }
      ]
    },
    {
      "cell_type": "code",
      "metadata": {
        "id": "DV6bIUyPYrbs",
        "outputId": "9e61308a-e25a-4d0f-a49a-43288626c343"
      },
      "source": [
        "p + 5\n",
        "p - 2"
      ],
      "execution_count": null,
      "outputs": [
        {
          "data": {
            "text/plain": [
              "Period('2005', 'A-DEC')"
            ]
          },
          "execution_count": 73,
          "metadata": {},
          "output_type": "execute_result"
        }
      ]
    },
    {
      "cell_type": "code",
      "metadata": {
        "id": "5jL4n7p5Yrbs",
        "outputId": "ffae4343-0b60-4e01-bc19-277c97306f66"
      },
      "source": [
        "pd.Period('2014', freq='A-DEC') - p"
      ],
      "execution_count": null,
      "outputs": [
        {
          "data": {
            "text/plain": [
              "<7 * YearEnds: month=12>"
            ]
          },
          "execution_count": 74,
          "metadata": {},
          "output_type": "execute_result"
        }
      ]
    },
    {
      "cell_type": "code",
      "metadata": {
        "id": "a22guVXIYrbs",
        "outputId": "29cf6c68-3625-4140-a329-222fd9be0a82"
      },
      "source": [
        "rng = pd.period_range('2000-01-01', '2000-06-30', freq='M')\n",
        "rng"
      ],
      "execution_count": null,
      "outputs": [
        {
          "data": {
            "text/plain": [
              "PeriodIndex(['2000-01', '2000-02', '2000-03', '2000-04', '2000-05', '2000-06'], dtype='period[M]', freq='M')"
            ]
          },
          "execution_count": 75,
          "metadata": {},
          "output_type": "execute_result"
        }
      ]
    },
    {
      "cell_type": "code",
      "metadata": {
        "id": "oRo5u9ycYrbt",
        "outputId": "503ca4ed-b004-4fb0-ce4a-108555a3e65f"
      },
      "source": [
        "pd.Series(np.random.randn(6), index=rng)"
      ],
      "execution_count": null,
      "outputs": [
        {
          "data": {
            "text/plain": [
              "2000-01   -0.514551\n",
              "2000-02   -0.559782\n",
              "2000-03   -0.783408\n",
              "2000-04   -1.797685\n",
              "2000-05   -0.172670\n",
              "2000-06    0.680215\n",
              "Freq: M, dtype: float64"
            ]
          },
          "execution_count": 76,
          "metadata": {},
          "output_type": "execute_result"
        }
      ]
    },
    {
      "cell_type": "code",
      "metadata": {
        "id": "u56Gkg8oYrbt",
        "outputId": "d5ca6e70-1d88-4379-aaf1-d03ea6ad9f8f"
      },
      "source": [
        "values = ['2001Q3', '2002Q2', '2003Q1']\n",
        "index = pd.PeriodIndex(values, freq='Q-DEC')\n",
        "index"
      ],
      "execution_count": null,
      "outputs": [
        {
          "data": {
            "text/plain": [
              "PeriodIndex(['2001Q3', '2002Q2', '2003Q1'], dtype='period[Q-DEC]', freq='Q-DEC')"
            ]
          },
          "execution_count": 77,
          "metadata": {},
          "output_type": "execute_result"
        }
      ]
    },
    {
      "cell_type": "markdown",
      "metadata": {
        "id": "9Vfr4ZUgYrbt"
      },
      "source": [
        "### Period Frequency Conversion"
      ]
    },
    {
      "cell_type": "code",
      "metadata": {
        "id": "EZzP8aaaYrbt",
        "outputId": "cf7cb16e-e818-4825-cbfb-2c6a7aad25f8"
      },
      "source": [
        "p = pd.Period('2007', freq='A-DEC')\n",
        "p\n",
        "p.asfreq('M', how='start')\n",
        "p.asfreq('M', how='end')"
      ],
      "execution_count": null,
      "outputs": [
        {
          "data": {
            "text/plain": [
              "Period('2007-12', 'M')"
            ]
          },
          "execution_count": 78,
          "metadata": {},
          "output_type": "execute_result"
        }
      ]
    },
    {
      "cell_type": "code",
      "metadata": {
        "id": "B-Wx69C2Yrbt",
        "outputId": "f7dbe2cb-0e38-4ff0-b04b-b5d8f0ee56e7"
      },
      "source": [
        "p = pd.Period('2007', freq='A-JUN')\n",
        "p\n",
        "p.asfreq('M', 'start')\n",
        "p.asfreq('M', 'end')"
      ],
      "execution_count": null,
      "outputs": [
        {
          "data": {
            "text/plain": [
              "Period('2007-06', 'M')"
            ]
          },
          "execution_count": 79,
          "metadata": {},
          "output_type": "execute_result"
        }
      ]
    },
    {
      "cell_type": "code",
      "metadata": {
        "id": "pt4g2iN5Yrbt",
        "outputId": "fe4d42cc-cc19-448f-9a97-425037f27136"
      },
      "source": [
        "p = pd.Period('Aug-2007', 'M')\n",
        "p.asfreq('A-JUN')"
      ],
      "execution_count": null,
      "outputs": [
        {
          "data": {
            "text/plain": [
              "Period('2008', 'A-JUN')"
            ]
          },
          "execution_count": 80,
          "metadata": {},
          "output_type": "execute_result"
        }
      ]
    },
    {
      "cell_type": "code",
      "metadata": {
        "id": "nS8TGWCDYrbt",
        "outputId": "a05e1091-7ac5-4e17-b8a1-7d196533fe94"
      },
      "source": [
        "rng = pd.period_range('2006', '2009', freq='A-DEC')\n",
        "ts = pd.Series(np.random.randn(len(rng)), index=rng)\n",
        "ts\n",
        "ts.asfreq('M', how='start')"
      ],
      "execution_count": null,
      "outputs": [
        {
          "data": {
            "text/plain": [
              "2006-01    1.607578\n",
              "2007-01    0.200381\n",
              "2008-01   -0.834068\n",
              "2009-01   -0.302988\n",
              "Freq: M, dtype: float64"
            ]
          },
          "execution_count": 81,
          "metadata": {},
          "output_type": "execute_result"
        }
      ]
    },
    {
      "cell_type": "code",
      "metadata": {
        "id": "MINahKZBYrbt",
        "outputId": "173f63c0-2ff7-47aa-853f-92a3041763c2"
      },
      "source": [
        "ts.asfreq('B', how='end')"
      ],
      "execution_count": null,
      "outputs": [
        {
          "data": {
            "text/plain": [
              "2006-12-29    1.607578\n",
              "2007-12-31    0.200381\n",
              "2008-12-31   -0.834068\n",
              "2009-12-31   -0.302988\n",
              "Freq: B, dtype: float64"
            ]
          },
          "execution_count": 82,
          "metadata": {},
          "output_type": "execute_result"
        }
      ]
    },
    {
      "cell_type": "markdown",
      "metadata": {
        "id": "QNWO2jytYrbt"
      },
      "source": [
        "### Quarterly Period Frequencies"
      ]
    },
    {
      "cell_type": "code",
      "metadata": {
        "id": "6ixchq0QYrbt",
        "outputId": "1a8181f1-6dff-473b-dfa5-2e180b459695"
      },
      "source": [
        "p = pd.Period('2012Q4', freq='Q-JAN')\n",
        "p"
      ],
      "execution_count": null,
      "outputs": [
        {
          "data": {
            "text/plain": [
              "Period('2012Q4', 'Q-JAN')"
            ]
          },
          "execution_count": 83,
          "metadata": {},
          "output_type": "execute_result"
        }
      ]
    },
    {
      "cell_type": "code",
      "metadata": {
        "id": "0kSp2s28Yrbu",
        "outputId": "d83b6ef2-b715-4dbb-e0f4-081a1d6ef183"
      },
      "source": [
        "p.asfreq('D', 'start')\n",
        "p.asfreq('D', 'end')"
      ],
      "execution_count": null,
      "outputs": [
        {
          "data": {
            "text/plain": [
              "Period('2012-01-31', 'D')"
            ]
          },
          "execution_count": 84,
          "metadata": {},
          "output_type": "execute_result"
        }
      ]
    },
    {
      "cell_type": "code",
      "metadata": {
        "id": "nw0K8DGWYrbu",
        "outputId": "7f92fed4-cdf8-4ccc-bc24-6ba335596e05"
      },
      "source": [
        "p4pm = (p.asfreq('B', 'e') - 1).asfreq('T', 's') + 16 * 60\n",
        "p4pm\n",
        "p4pm.to_timestamp()"
      ],
      "execution_count": null,
      "outputs": [
        {
          "data": {
            "text/plain": [
              "Timestamp('2012-01-30 16:00:00')"
            ]
          },
          "execution_count": 85,
          "metadata": {},
          "output_type": "execute_result"
        }
      ]
    },
    {
      "cell_type": "code",
      "metadata": {
        "id": "cpIeNk3pYrbu",
        "outputId": "72043b80-97ad-4e27-e90b-8d0042a633e8"
      },
      "source": [
        "rng = pd.period_range('2011Q3', '2012Q4', freq='Q-JAN')\n",
        "ts = pd.Series(np.arange(len(rng)), index=rng)\n",
        "ts\n",
        "new_rng = (rng.asfreq('B', 'e') - 1).asfreq('T', 's') + 16 * 60\n",
        "ts.index = new_rng.to_timestamp()\n",
        "ts"
      ],
      "execution_count": null,
      "outputs": [
        {
          "data": {
            "text/plain": [
              "2010-10-28 16:00:00    0\n",
              "2011-01-28 16:00:00    1\n",
              "2011-04-28 16:00:00    2\n",
              "2011-07-28 16:00:00    3\n",
              "2011-10-28 16:00:00    4\n",
              "2012-01-30 16:00:00    5\n",
              "dtype: int64"
            ]
          },
          "execution_count": 86,
          "metadata": {},
          "output_type": "execute_result"
        }
      ]
    },
    {
      "cell_type": "markdown",
      "metadata": {
        "id": "W8zZepH_Yrbu"
      },
      "source": [
        "### Converting Timestamps to Periods (and Back)"
      ]
    },
    {
      "cell_type": "code",
      "metadata": {
        "id": "oRhfSs4xYrbu",
        "outputId": "1e39de4e-c5ff-47c6-aad9-0198ab0d0f7e"
      },
      "source": [
        "rng = pd.date_range('2000-01-01', periods=3, freq='M')\n",
        "ts = pd.Series(np.random.randn(3), index=rng)\n",
        "ts\n",
        "pts = ts.to_period()\n",
        "pts"
      ],
      "execution_count": null,
      "outputs": [
        {
          "data": {
            "text/plain": [
              "2000-01    1.663261\n",
              "2000-02   -0.996206\n",
              "2000-03    1.521760\n",
              "Freq: M, dtype: float64"
            ]
          },
          "execution_count": 87,
          "metadata": {},
          "output_type": "execute_result"
        }
      ]
    },
    {
      "cell_type": "code",
      "metadata": {
        "id": "VEe53qnWYrbu",
        "outputId": "4c5614e6-3312-4da9-b5f6-5a31e084ef3f"
      },
      "source": [
        "rng = pd.date_range('1/29/2000', periods=6, freq='D')\n",
        "ts2 = pd.Series(np.random.randn(6), index=rng)\n",
        "ts2\n",
        "ts2.to_period('M')"
      ],
      "execution_count": null,
      "outputs": [
        {
          "data": {
            "text/plain": [
              "2000-01    0.244175\n",
              "2000-01    0.423331\n",
              "2000-01   -0.654040\n",
              "2000-02    2.089154\n",
              "2000-02   -0.060220\n",
              "2000-02   -0.167933\n",
              "Freq: M, dtype: float64"
            ]
          },
          "execution_count": 88,
          "metadata": {},
          "output_type": "execute_result"
        }
      ]
    },
    {
      "cell_type": "code",
      "metadata": {
        "id": "4SrflW-CYrbu",
        "outputId": "2489f9e8-82db-4896-b54c-b6706714f3ab"
      },
      "source": [
        "pts = ts2.to_period()\n",
        "pts"
      ],
      "execution_count": null,
      "outputs": [
        {
          "data": {
            "text/plain": [
              "2000-01-29    0.244175\n",
              "2000-01-30    0.423331\n",
              "2000-01-31   -0.654040\n",
              "2000-02-01    2.089154\n",
              "2000-02-02   -0.060220\n",
              "2000-02-03   -0.167933\n",
              "Freq: D, dtype: float64"
            ]
          },
          "execution_count": 89,
          "metadata": {},
          "output_type": "execute_result"
        }
      ]
    },
    {
      "cell_type": "code",
      "metadata": {
        "id": "90owr0CGYrbu",
        "outputId": "9ee0b06b-e57d-411a-e2a3-56c05040085e"
      },
      "source": [
        "pts.to_timestamp(how='end')"
      ],
      "execution_count": null,
      "outputs": [
        {
          "data": {
            "text/plain": [
              "2000-01-29 23:59:59.999999999    0.244175\n",
              "2000-01-30 23:59:59.999999999    0.423331\n",
              "2000-01-31 23:59:59.999999999   -0.654040\n",
              "2000-02-01 23:59:59.999999999    2.089154\n",
              "2000-02-02 23:59:59.999999999   -0.060220\n",
              "2000-02-03 23:59:59.999999999   -0.167933\n",
              "Freq: D, dtype: float64"
            ]
          },
          "execution_count": 90,
          "metadata": {},
          "output_type": "execute_result"
        }
      ]
    },
    {
      "cell_type": "markdown",
      "metadata": {
        "id": "rTyKGLufYrbu"
      },
      "source": [
        "### Creating a PeriodIndex from Arrays"
      ]
    },
    {
      "cell_type": "code",
      "metadata": {
        "scrolled": true,
        "id": "0Q0IojYnYrbv",
        "outputId": "d5b1fc0c-4e6b-4f3b-d474-40668221cb41"
      },
      "source": [
        "data = pd.read_csv('examples/macrodata.csv') # 导入文件\n",
        "data.head(5) # 显示前5行"
      ],
      "execution_count": null,
      "outputs": [
        {
          "data": {
            "text/html": [
              "<div>\n",
              "<style scoped>\n",
              "    .dataframe tbody tr th:only-of-type {\n",
              "        vertical-align: middle;\n",
              "    }\n",
              "\n",
              "    .dataframe tbody tr th {\n",
              "        vertical-align: top;\n",
              "    }\n",
              "\n",
              "    .dataframe thead th {\n",
              "        text-align: right;\n",
              "    }\n",
              "</style>\n",
              "<table border=\"1\" class=\"dataframe\">\n",
              "  <thead>\n",
              "    <tr style=\"text-align: right;\">\n",
              "      <th></th>\n",
              "      <th>year</th>\n",
              "      <th>quarter</th>\n",
              "      <th>realgdp</th>\n",
              "      <th>realcons</th>\n",
              "      <th>realinv</th>\n",
              "      <th>realgovt</th>\n",
              "      <th>realdpi</th>\n",
              "      <th>cpi</th>\n",
              "      <th>m1</th>\n",
              "      <th>tbilrate</th>\n",
              "      <th>unemp</th>\n",
              "      <th>pop</th>\n",
              "      <th>infl</th>\n",
              "      <th>realint</th>\n",
              "    </tr>\n",
              "  </thead>\n",
              "  <tbody>\n",
              "    <tr>\n",
              "      <th>0</th>\n",
              "      <td>1959.0</td>\n",
              "      <td>1.0</td>\n",
              "      <td>2710.349</td>\n",
              "      <td>1707.4</td>\n",
              "      <td>286.898</td>\n",
              "      <td>470.045</td>\n",
              "      <td>1886.9</td>\n",
              "      <td>28.98</td>\n",
              "      <td>139.7</td>\n",
              "      <td>2.82</td>\n",
              "      <td>5.8</td>\n",
              "      <td>177.146</td>\n",
              "      <td>0.00</td>\n",
              "      <td>0.00</td>\n",
              "    </tr>\n",
              "    <tr>\n",
              "      <th>1</th>\n",
              "      <td>1959.0</td>\n",
              "      <td>2.0</td>\n",
              "      <td>2778.801</td>\n",
              "      <td>1733.7</td>\n",
              "      <td>310.859</td>\n",
              "      <td>481.301</td>\n",
              "      <td>1919.7</td>\n",
              "      <td>29.15</td>\n",
              "      <td>141.7</td>\n",
              "      <td>3.08</td>\n",
              "      <td>5.1</td>\n",
              "      <td>177.830</td>\n",
              "      <td>2.34</td>\n",
              "      <td>0.74</td>\n",
              "    </tr>\n",
              "    <tr>\n",
              "      <th>2</th>\n",
              "      <td>1959.0</td>\n",
              "      <td>3.0</td>\n",
              "      <td>2775.488</td>\n",
              "      <td>1751.8</td>\n",
              "      <td>289.226</td>\n",
              "      <td>491.260</td>\n",
              "      <td>1916.4</td>\n",
              "      <td>29.35</td>\n",
              "      <td>140.5</td>\n",
              "      <td>3.82</td>\n",
              "      <td>5.3</td>\n",
              "      <td>178.657</td>\n",
              "      <td>2.74</td>\n",
              "      <td>1.09</td>\n",
              "    </tr>\n",
              "    <tr>\n",
              "      <th>3</th>\n",
              "      <td>1959.0</td>\n",
              "      <td>4.0</td>\n",
              "      <td>2785.204</td>\n",
              "      <td>1753.7</td>\n",
              "      <td>299.356</td>\n",
              "      <td>484.052</td>\n",
              "      <td>1931.3</td>\n",
              "      <td>29.37</td>\n",
              "      <td>140.0</td>\n",
              "      <td>4.33</td>\n",
              "      <td>5.6</td>\n",
              "      <td>179.386</td>\n",
              "      <td>0.27</td>\n",
              "      <td>4.06</td>\n",
              "    </tr>\n",
              "    <tr>\n",
              "      <th>4</th>\n",
              "      <td>1960.0</td>\n",
              "      <td>1.0</td>\n",
              "      <td>2847.699</td>\n",
              "      <td>1770.5</td>\n",
              "      <td>331.722</td>\n",
              "      <td>462.199</td>\n",
              "      <td>1955.5</td>\n",
              "      <td>29.54</td>\n",
              "      <td>139.6</td>\n",
              "      <td>3.50</td>\n",
              "      <td>5.2</td>\n",
              "      <td>180.007</td>\n",
              "      <td>2.31</td>\n",
              "      <td>1.19</td>\n",
              "    </tr>\n",
              "  </tbody>\n",
              "</table>\n",
              "</div>"
            ],
            "text/plain": [
              "     year  quarter   realgdp  realcons  realinv  realgovt  realdpi    cpi  \\\n",
              "0  1959.0      1.0  2710.349    1707.4  286.898   470.045   1886.9  28.98   \n",
              "1  1959.0      2.0  2778.801    1733.7  310.859   481.301   1919.7  29.15   \n",
              "2  1959.0      3.0  2775.488    1751.8  289.226   491.260   1916.4  29.35   \n",
              "3  1959.0      4.0  2785.204    1753.7  299.356   484.052   1931.3  29.37   \n",
              "4  1960.0      1.0  2847.699    1770.5  331.722   462.199   1955.5  29.54   \n",
              "\n",
              "      m1  tbilrate  unemp      pop  infl  realint  \n",
              "0  139.7      2.82    5.8  177.146  0.00     0.00  \n",
              "1  141.7      3.08    5.1  177.830  2.34     0.74  \n",
              "2  140.5      3.82    5.3  178.657  2.74     1.09  \n",
              "3  140.0      4.33    5.6  179.386  0.27     4.06  \n",
              "4  139.6      3.50    5.2  180.007  2.31     1.19  "
            ]
          },
          "execution_count": 91,
          "metadata": {},
          "output_type": "execute_result"
        }
      ]
    },
    {
      "cell_type": "code",
      "metadata": {
        "scrolled": true,
        "id": "Jlyhck7ZYrbv",
        "outputId": "7aedf550-4b23-40e3-e211-f5644834c78c"
      },
      "source": [
        "data.year"
      ],
      "execution_count": null,
      "outputs": [
        {
          "data": {
            "text/plain": [
              "0      1959.0\n",
              "1      1959.0\n",
              "2      1959.0\n",
              "3      1959.0\n",
              "4      1960.0\n",
              "        ...  \n",
              "198    2008.0\n",
              "199    2008.0\n",
              "200    2009.0\n",
              "201    2009.0\n",
              "202    2009.0\n",
              "Name: year, Length: 203, dtype: float64"
            ]
          },
          "execution_count": 92,
          "metadata": {},
          "output_type": "execute_result"
        }
      ]
    },
    {
      "cell_type": "code",
      "metadata": {
        "id": "bsEbinwfYrbv",
        "outputId": "96eb3d6b-601d-4619-c7ad-30bd64cbd9ba"
      },
      "source": [
        "data.quarter"
      ],
      "execution_count": null,
      "outputs": [
        {
          "data": {
            "text/plain": [
              "0      1.0\n",
              "1      2.0\n",
              "2      3.0\n",
              "3      4.0\n",
              "4      1.0\n",
              "      ... \n",
              "198    3.0\n",
              "199    4.0\n",
              "200    1.0\n",
              "201    2.0\n",
              "202    3.0\n",
              "Name: quarter, Length: 203, dtype: float64"
            ]
          },
          "execution_count": 93,
          "metadata": {},
          "output_type": "execute_result"
        }
      ]
    },
    {
      "cell_type": "code",
      "metadata": {
        "id": "w0n0DWEKYrbv",
        "outputId": "ad544660-1409-4018-c8ff-2306626623a6"
      },
      "source": [
        "index = pd.PeriodIndex(year=data.year,\n",
        "                       quarter=data.quarter,\n",
        "                       freq='Q-DEC')\n",
        "index"
      ],
      "execution_count": null,
      "outputs": [
        {
          "data": {
            "text/plain": [
              "PeriodIndex(['1959Q1', '1959Q2', '1959Q3', '1959Q4', '1960Q1', '1960Q2',\n",
              "             '1960Q3', '1960Q4', '1961Q1', '1961Q2',\n",
              "             ...\n",
              "             '2007Q2', '2007Q3', '2007Q4', '2008Q1', '2008Q2', '2008Q3',\n",
              "             '2008Q4', '2009Q1', '2009Q2', '2009Q3'],\n",
              "            dtype='period[Q-DEC]', length=203, freq='Q-DEC')"
            ]
          },
          "execution_count": 94,
          "metadata": {},
          "output_type": "execute_result"
        }
      ]
    },
    {
      "cell_type": "code",
      "metadata": {
        "id": "fLjfrqKKYrbv",
        "outputId": "e3d22c31-4d88-473b-93d5-037e91f2e869"
      },
      "source": [
        "data.index = index\n",
        "data.infl"
      ],
      "execution_count": null,
      "outputs": [
        {
          "data": {
            "text/plain": [
              "1959Q1    0.00\n",
              "1959Q2    2.34\n",
              "1959Q3    2.74\n",
              "1959Q4    0.27\n",
              "1960Q1    2.31\n",
              "          ... \n",
              "2008Q3   -3.16\n",
              "2008Q4   -8.79\n",
              "2009Q1    0.94\n",
              "2009Q2    3.37\n",
              "2009Q3    3.56\n",
              "Freq: Q-DEC, Name: infl, Length: 203, dtype: float64"
            ]
          },
          "execution_count": 95,
          "metadata": {},
          "output_type": "execute_result"
        }
      ]
    },
    {
      "cell_type": "markdown",
      "metadata": {
        "id": "SaXGLbhOYrbv"
      },
      "source": [
        "## Resampling and Frequency Conversion"
      ]
    },
    {
      "cell_type": "code",
      "metadata": {
        "id": "LsiRaqOyYrbv",
        "outputId": "eb6a272e-6bb3-4b69-e6b1-513581f2169f"
      },
      "source": [
        "rng = pd.date_range('2000-01-01', periods=100, freq='D')\n",
        "ts = pd.Series(np.random.randn(len(rng)), index=rng)\n",
        "ts\n",
        "ts.resample('M').mean()\n",
        "ts.resample('M', kind='period').mean()"
      ],
      "execution_count": null,
      "outputs": [
        {
          "data": {
            "text/plain": [
              "2000-01   -0.165893\n",
              "2000-02    0.078606\n",
              "2000-03    0.223811\n",
              "2000-04   -0.063643\n",
              "Freq: M, dtype: float64"
            ]
          },
          "execution_count": 96,
          "metadata": {},
          "output_type": "execute_result"
        }
      ]
    },
    {
      "cell_type": "markdown",
      "metadata": {
        "id": "RKDNZallYrbv"
      },
      "source": [
        "### Downsampling"
      ]
    },
    {
      "cell_type": "code",
      "metadata": {
        "id": "KCHSoIKDYrbv",
        "outputId": "ff38aa7e-c32b-4446-9a4d-ad5a8dea01d8"
      },
      "source": [
        "rng = pd.date_range('2000-01-01', periods=12, freq='T')\n",
        "ts = pd.Series(np.arange(12), index=rng)\n",
        "ts"
      ],
      "execution_count": null,
      "outputs": [
        {
          "data": {
            "text/plain": [
              "2000-01-01 00:00:00     0\n",
              "2000-01-01 00:01:00     1\n",
              "2000-01-01 00:02:00     2\n",
              "2000-01-01 00:03:00     3\n",
              "2000-01-01 00:04:00     4\n",
              "2000-01-01 00:05:00     5\n",
              "2000-01-01 00:06:00     6\n",
              "2000-01-01 00:07:00     7\n",
              "2000-01-01 00:08:00     8\n",
              "2000-01-01 00:09:00     9\n",
              "2000-01-01 00:10:00    10\n",
              "2000-01-01 00:11:00    11\n",
              "Freq: T, dtype: int64"
            ]
          },
          "execution_count": 97,
          "metadata": {},
          "output_type": "execute_result"
        }
      ]
    },
    {
      "cell_type": "code",
      "metadata": {
        "id": "WP5b154wYrbv",
        "outputId": "e300cfc2-8c90-40ba-b4a1-d554b646c534"
      },
      "source": [
        "ts.resample('5min', closed='right').sum()"
      ],
      "execution_count": null,
      "outputs": [
        {
          "data": {
            "text/plain": [
              "1999-12-31 23:55:00     0\n",
              "2000-01-01 00:00:00    15\n",
              "2000-01-01 00:05:00    40\n",
              "2000-01-01 00:10:00    11\n",
              "Freq: 5T, dtype: int64"
            ]
          },
          "execution_count": 98,
          "metadata": {},
          "output_type": "execute_result"
        }
      ]
    },
    {
      "cell_type": "code",
      "metadata": {
        "id": "sivWbbmhYrbv",
        "outputId": "07131f8f-cfcc-46ef-aeae-ff3b5322abe7"
      },
      "source": [
        "ts.resample('5min', closed='right').sum()"
      ],
      "execution_count": null,
      "outputs": [
        {
          "data": {
            "text/plain": [
              "1999-12-31 23:55:00     0\n",
              "2000-01-01 00:00:00    15\n",
              "2000-01-01 00:05:00    40\n",
              "2000-01-01 00:10:00    11\n",
              "Freq: 5T, dtype: int64"
            ]
          },
          "execution_count": 99,
          "metadata": {},
          "output_type": "execute_result"
        }
      ]
    },
    {
      "cell_type": "code",
      "metadata": {
        "id": "omxsn_xTYrbw",
        "outputId": "fe8ff20e-acb0-42ea-fa1c-597209919964"
      },
      "source": [
        "ts.resample('5min', closed='right', label='right').sum()"
      ],
      "execution_count": null,
      "outputs": [
        {
          "data": {
            "text/plain": [
              "2000-01-01 00:00:00     0\n",
              "2000-01-01 00:05:00    15\n",
              "2000-01-01 00:10:00    40\n",
              "2000-01-01 00:15:00    11\n",
              "Freq: 5T, dtype: int64"
            ]
          },
          "execution_count": 100,
          "metadata": {},
          "output_type": "execute_result"
        }
      ]
    },
    {
      "cell_type": "code",
      "metadata": {
        "id": "942m4zMxYrbw",
        "outputId": "f4db42f4-7ba8-440e-f0eb-2fadda4c2516"
      },
      "source": [
        "ts.resample('5min', closed='right',\n",
        "            label='right', loffset='-1s').sum()"
      ],
      "execution_count": null,
      "outputs": [
        {
          "name": "stderr",
          "output_type": "stream",
          "text": [
            "<ipython-input-101-b63ded3800c4>:1: FutureWarning: 'loffset' in .resample() and in Grouper() is deprecated.\n",
            "\n",
            ">>> df.resample(freq=\"3s\", loffset=\"8H\")\n",
            "\n",
            "becomes:\n",
            "\n",
            ">>> from pandas.tseries.frequencies import to_offset\n",
            ">>> df = df.resample(freq=\"3s\").mean()\n",
            ">>> df.index = df.index.to_timestamp() + to_offset(\"8H\")\n",
            "\n",
            "  ts.resample('5min', closed='right',\n"
          ]
        },
        {
          "data": {
            "text/plain": [
              "1999-12-31 23:59:59     0\n",
              "2000-01-01 00:04:59    15\n",
              "2000-01-01 00:09:59    40\n",
              "2000-01-01 00:14:59    11\n",
              "Freq: 5T, dtype: int64"
            ]
          },
          "execution_count": 101,
          "metadata": {},
          "output_type": "execute_result"
        }
      ]
    },
    {
      "cell_type": "markdown",
      "metadata": {
        "id": "KzV0W5eAYrbw"
      },
      "source": [
        "#### Open-High-Low-Close (OHLC) resampling"
      ]
    },
    {
      "cell_type": "code",
      "metadata": {
        "id": "FY-BsvRiYrbw",
        "outputId": "50bf563b-cfd9-4617-bff9-6015daa849e2"
      },
      "source": [
        "ts.resample('5min').ohlc()"
      ],
      "execution_count": null,
      "outputs": [
        {
          "data": {
            "text/html": [
              "<div>\n",
              "<style scoped>\n",
              "    .dataframe tbody tr th:only-of-type {\n",
              "        vertical-align: middle;\n",
              "    }\n",
              "\n",
              "    .dataframe tbody tr th {\n",
              "        vertical-align: top;\n",
              "    }\n",
              "\n",
              "    .dataframe thead th {\n",
              "        text-align: right;\n",
              "    }\n",
              "</style>\n",
              "<table border=\"1\" class=\"dataframe\">\n",
              "  <thead>\n",
              "    <tr style=\"text-align: right;\">\n",
              "      <th></th>\n",
              "      <th>open</th>\n",
              "      <th>high</th>\n",
              "      <th>low</th>\n",
              "      <th>close</th>\n",
              "    </tr>\n",
              "  </thead>\n",
              "  <tbody>\n",
              "    <tr>\n",
              "      <th>2000-01-01 00:00:00</th>\n",
              "      <td>0</td>\n",
              "      <td>4</td>\n",
              "      <td>0</td>\n",
              "      <td>4</td>\n",
              "    </tr>\n",
              "    <tr>\n",
              "      <th>2000-01-01 00:05:00</th>\n",
              "      <td>5</td>\n",
              "      <td>9</td>\n",
              "      <td>5</td>\n",
              "      <td>9</td>\n",
              "    </tr>\n",
              "    <tr>\n",
              "      <th>2000-01-01 00:10:00</th>\n",
              "      <td>10</td>\n",
              "      <td>11</td>\n",
              "      <td>10</td>\n",
              "      <td>11</td>\n",
              "    </tr>\n",
              "  </tbody>\n",
              "</table>\n",
              "</div>"
            ],
            "text/plain": [
              "                     open  high  low  close\n",
              "2000-01-01 00:00:00     0     4    0      4\n",
              "2000-01-01 00:05:00     5     9    5      9\n",
              "2000-01-01 00:10:00    10    11   10     11"
            ]
          },
          "execution_count": 102,
          "metadata": {},
          "output_type": "execute_result"
        }
      ]
    },
    {
      "cell_type": "markdown",
      "metadata": {
        "id": "kiriJU2MYrbw"
      },
      "source": [
        "### Upsampling and Interpolation"
      ]
    },
    {
      "cell_type": "code",
      "metadata": {
        "id": "Fj5dRmIPYrbw",
        "outputId": "b466edd3-a1c3-4c57-94bb-02310c751eb9"
      },
      "source": [
        "frame = pd.DataFrame(np.random.randn(2, 4),\n",
        "                     index=pd.date_range('1/1/2000', periods=2,\n",
        "                                         freq='W-WED'),\n",
        "                     columns=['Colorado', 'Texas', 'New York', 'Ohio'])\n",
        "frame"
      ],
      "execution_count": null,
      "outputs": [
        {
          "data": {
            "text/html": [
              "<div>\n",
              "<style scoped>\n",
              "    .dataframe tbody tr th:only-of-type {\n",
              "        vertical-align: middle;\n",
              "    }\n",
              "\n",
              "    .dataframe tbody tr th {\n",
              "        vertical-align: top;\n",
              "    }\n",
              "\n",
              "    .dataframe thead th {\n",
              "        text-align: right;\n",
              "    }\n",
              "</style>\n",
              "<table border=\"1\" class=\"dataframe\">\n",
              "  <thead>\n",
              "    <tr style=\"text-align: right;\">\n",
              "      <th></th>\n",
              "      <th>Colorado</th>\n",
              "      <th>Texas</th>\n",
              "      <th>New York</th>\n",
              "      <th>Ohio</th>\n",
              "    </tr>\n",
              "  </thead>\n",
              "  <tbody>\n",
              "    <tr>\n",
              "      <th>2000-01-05</th>\n",
              "      <td>-0.896431</td>\n",
              "      <td>0.677263</td>\n",
              "      <td>0.036503</td>\n",
              "      <td>0.087102</td>\n",
              "    </tr>\n",
              "    <tr>\n",
              "      <th>2000-01-12</th>\n",
              "      <td>-0.046662</td>\n",
              "      <td>0.927238</td>\n",
              "      <td>0.482284</td>\n",
              "      <td>-0.867130</td>\n",
              "    </tr>\n",
              "  </tbody>\n",
              "</table>\n",
              "</div>"
            ],
            "text/plain": [
              "            Colorado     Texas  New York      Ohio\n",
              "2000-01-05 -0.896431  0.677263  0.036503  0.087102\n",
              "2000-01-12 -0.046662  0.927238  0.482284 -0.867130"
            ]
          },
          "execution_count": 103,
          "metadata": {},
          "output_type": "execute_result"
        }
      ]
    },
    {
      "cell_type": "code",
      "metadata": {
        "id": "W8GNEIFHYrbw",
        "outputId": "1dd0ee85-6fa9-40a5-9237-ed0ef23030e1"
      },
      "source": [
        "df_daily = frame.resample('D').asfreq()\n",
        "df_daily"
      ],
      "execution_count": null,
      "outputs": [
        {
          "data": {
            "text/html": [
              "<div>\n",
              "<style scoped>\n",
              "    .dataframe tbody tr th:only-of-type {\n",
              "        vertical-align: middle;\n",
              "    }\n",
              "\n",
              "    .dataframe tbody tr th {\n",
              "        vertical-align: top;\n",
              "    }\n",
              "\n",
              "    .dataframe thead th {\n",
              "        text-align: right;\n",
              "    }\n",
              "</style>\n",
              "<table border=\"1\" class=\"dataframe\">\n",
              "  <thead>\n",
              "    <tr style=\"text-align: right;\">\n",
              "      <th></th>\n",
              "      <th>Colorado</th>\n",
              "      <th>Texas</th>\n",
              "      <th>New York</th>\n",
              "      <th>Ohio</th>\n",
              "    </tr>\n",
              "  </thead>\n",
              "  <tbody>\n",
              "    <tr>\n",
              "      <th>2000-01-05</th>\n",
              "      <td>-0.896431</td>\n",
              "      <td>0.677263</td>\n",
              "      <td>0.036503</td>\n",
              "      <td>0.087102</td>\n",
              "    </tr>\n",
              "    <tr>\n",
              "      <th>2000-01-06</th>\n",
              "      <td>NaN</td>\n",
              "      <td>NaN</td>\n",
              "      <td>NaN</td>\n",
              "      <td>NaN</td>\n",
              "    </tr>\n",
              "    <tr>\n",
              "      <th>2000-01-07</th>\n",
              "      <td>NaN</td>\n",
              "      <td>NaN</td>\n",
              "      <td>NaN</td>\n",
              "      <td>NaN</td>\n",
              "    </tr>\n",
              "    <tr>\n",
              "      <th>2000-01-08</th>\n",
              "      <td>NaN</td>\n",
              "      <td>NaN</td>\n",
              "      <td>NaN</td>\n",
              "      <td>NaN</td>\n",
              "    </tr>\n",
              "    <tr>\n",
              "      <th>2000-01-09</th>\n",
              "      <td>NaN</td>\n",
              "      <td>NaN</td>\n",
              "      <td>NaN</td>\n",
              "      <td>NaN</td>\n",
              "    </tr>\n",
              "    <tr>\n",
              "      <th>2000-01-10</th>\n",
              "      <td>NaN</td>\n",
              "      <td>NaN</td>\n",
              "      <td>NaN</td>\n",
              "      <td>NaN</td>\n",
              "    </tr>\n",
              "    <tr>\n",
              "      <th>2000-01-11</th>\n",
              "      <td>NaN</td>\n",
              "      <td>NaN</td>\n",
              "      <td>NaN</td>\n",
              "      <td>NaN</td>\n",
              "    </tr>\n",
              "    <tr>\n",
              "      <th>2000-01-12</th>\n",
              "      <td>-0.046662</td>\n",
              "      <td>0.927238</td>\n",
              "      <td>0.482284</td>\n",
              "      <td>-0.867130</td>\n",
              "    </tr>\n",
              "  </tbody>\n",
              "</table>\n",
              "</div>"
            ],
            "text/plain": [
              "            Colorado     Texas  New York      Ohio\n",
              "2000-01-05 -0.896431  0.677263  0.036503  0.087102\n",
              "2000-01-06       NaN       NaN       NaN       NaN\n",
              "2000-01-07       NaN       NaN       NaN       NaN\n",
              "2000-01-08       NaN       NaN       NaN       NaN\n",
              "2000-01-09       NaN       NaN       NaN       NaN\n",
              "2000-01-10       NaN       NaN       NaN       NaN\n",
              "2000-01-11       NaN       NaN       NaN       NaN\n",
              "2000-01-12 -0.046662  0.927238  0.482284 -0.867130"
            ]
          },
          "execution_count": 104,
          "metadata": {},
          "output_type": "execute_result"
        }
      ]
    },
    {
      "cell_type": "code",
      "metadata": {
        "id": "kCOR8h9uYrbw",
        "outputId": "780bf3b1-8fd0-432e-9d14-5d7b298e3221"
      },
      "source": [
        "frame.resample('D').ffill()"
      ],
      "execution_count": null,
      "outputs": [
        {
          "data": {
            "text/html": [
              "<div>\n",
              "<style scoped>\n",
              "    .dataframe tbody tr th:only-of-type {\n",
              "        vertical-align: middle;\n",
              "    }\n",
              "\n",
              "    .dataframe tbody tr th {\n",
              "        vertical-align: top;\n",
              "    }\n",
              "\n",
              "    .dataframe thead th {\n",
              "        text-align: right;\n",
              "    }\n",
              "</style>\n",
              "<table border=\"1\" class=\"dataframe\">\n",
              "  <thead>\n",
              "    <tr style=\"text-align: right;\">\n",
              "      <th></th>\n",
              "      <th>Colorado</th>\n",
              "      <th>Texas</th>\n",
              "      <th>New York</th>\n",
              "      <th>Ohio</th>\n",
              "    </tr>\n",
              "  </thead>\n",
              "  <tbody>\n",
              "    <tr>\n",
              "      <th>2000-01-05</th>\n",
              "      <td>-0.896431</td>\n",
              "      <td>0.677263</td>\n",
              "      <td>0.036503</td>\n",
              "      <td>0.087102</td>\n",
              "    </tr>\n",
              "    <tr>\n",
              "      <th>2000-01-06</th>\n",
              "      <td>-0.896431</td>\n",
              "      <td>0.677263</td>\n",
              "      <td>0.036503</td>\n",
              "      <td>0.087102</td>\n",
              "    </tr>\n",
              "    <tr>\n",
              "      <th>2000-01-07</th>\n",
              "      <td>-0.896431</td>\n",
              "      <td>0.677263</td>\n",
              "      <td>0.036503</td>\n",
              "      <td>0.087102</td>\n",
              "    </tr>\n",
              "    <tr>\n",
              "      <th>2000-01-08</th>\n",
              "      <td>-0.896431</td>\n",
              "      <td>0.677263</td>\n",
              "      <td>0.036503</td>\n",
              "      <td>0.087102</td>\n",
              "    </tr>\n",
              "    <tr>\n",
              "      <th>2000-01-09</th>\n",
              "      <td>-0.896431</td>\n",
              "      <td>0.677263</td>\n",
              "      <td>0.036503</td>\n",
              "      <td>0.087102</td>\n",
              "    </tr>\n",
              "    <tr>\n",
              "      <th>2000-01-10</th>\n",
              "      <td>-0.896431</td>\n",
              "      <td>0.677263</td>\n",
              "      <td>0.036503</td>\n",
              "      <td>0.087102</td>\n",
              "    </tr>\n",
              "    <tr>\n",
              "      <th>2000-01-11</th>\n",
              "      <td>-0.896431</td>\n",
              "      <td>0.677263</td>\n",
              "      <td>0.036503</td>\n",
              "      <td>0.087102</td>\n",
              "    </tr>\n",
              "    <tr>\n",
              "      <th>2000-01-12</th>\n",
              "      <td>-0.046662</td>\n",
              "      <td>0.927238</td>\n",
              "      <td>0.482284</td>\n",
              "      <td>-0.867130</td>\n",
              "    </tr>\n",
              "  </tbody>\n",
              "</table>\n",
              "</div>"
            ],
            "text/plain": [
              "            Colorado     Texas  New York      Ohio\n",
              "2000-01-05 -0.896431  0.677263  0.036503  0.087102\n",
              "2000-01-06 -0.896431  0.677263  0.036503  0.087102\n",
              "2000-01-07 -0.896431  0.677263  0.036503  0.087102\n",
              "2000-01-08 -0.896431  0.677263  0.036503  0.087102\n",
              "2000-01-09 -0.896431  0.677263  0.036503  0.087102\n",
              "2000-01-10 -0.896431  0.677263  0.036503  0.087102\n",
              "2000-01-11 -0.896431  0.677263  0.036503  0.087102\n",
              "2000-01-12 -0.046662  0.927238  0.482284 -0.867130"
            ]
          },
          "execution_count": 105,
          "metadata": {},
          "output_type": "execute_result"
        }
      ]
    },
    {
      "cell_type": "code",
      "metadata": {
        "id": "9vlNU2wEYrbw",
        "outputId": "7ce29c28-d0f1-40c9-b547-2484bde0f25b"
      },
      "source": [
        "frame.resample('D').ffill(limit=2)"
      ],
      "execution_count": null,
      "outputs": [
        {
          "data": {
            "text/html": [
              "<div>\n",
              "<style scoped>\n",
              "    .dataframe tbody tr th:only-of-type {\n",
              "        vertical-align: middle;\n",
              "    }\n",
              "\n",
              "    .dataframe tbody tr th {\n",
              "        vertical-align: top;\n",
              "    }\n",
              "\n",
              "    .dataframe thead th {\n",
              "        text-align: right;\n",
              "    }\n",
              "</style>\n",
              "<table border=\"1\" class=\"dataframe\">\n",
              "  <thead>\n",
              "    <tr style=\"text-align: right;\">\n",
              "      <th></th>\n",
              "      <th>Colorado</th>\n",
              "      <th>Texas</th>\n",
              "      <th>New York</th>\n",
              "      <th>Ohio</th>\n",
              "    </tr>\n",
              "  </thead>\n",
              "  <tbody>\n",
              "    <tr>\n",
              "      <th>2000-01-05</th>\n",
              "      <td>-0.896431</td>\n",
              "      <td>0.677263</td>\n",
              "      <td>0.036503</td>\n",
              "      <td>0.087102</td>\n",
              "    </tr>\n",
              "    <tr>\n",
              "      <th>2000-01-06</th>\n",
              "      <td>-0.896431</td>\n",
              "      <td>0.677263</td>\n",
              "      <td>0.036503</td>\n",
              "      <td>0.087102</td>\n",
              "    </tr>\n",
              "    <tr>\n",
              "      <th>2000-01-07</th>\n",
              "      <td>-0.896431</td>\n",
              "      <td>0.677263</td>\n",
              "      <td>0.036503</td>\n",
              "      <td>0.087102</td>\n",
              "    </tr>\n",
              "    <tr>\n",
              "      <th>2000-01-08</th>\n",
              "      <td>NaN</td>\n",
              "      <td>NaN</td>\n",
              "      <td>NaN</td>\n",
              "      <td>NaN</td>\n",
              "    </tr>\n",
              "    <tr>\n",
              "      <th>2000-01-09</th>\n",
              "      <td>NaN</td>\n",
              "      <td>NaN</td>\n",
              "      <td>NaN</td>\n",
              "      <td>NaN</td>\n",
              "    </tr>\n",
              "    <tr>\n",
              "      <th>2000-01-10</th>\n",
              "      <td>NaN</td>\n",
              "      <td>NaN</td>\n",
              "      <td>NaN</td>\n",
              "      <td>NaN</td>\n",
              "    </tr>\n",
              "    <tr>\n",
              "      <th>2000-01-11</th>\n",
              "      <td>NaN</td>\n",
              "      <td>NaN</td>\n",
              "      <td>NaN</td>\n",
              "      <td>NaN</td>\n",
              "    </tr>\n",
              "    <tr>\n",
              "      <th>2000-01-12</th>\n",
              "      <td>-0.046662</td>\n",
              "      <td>0.927238</td>\n",
              "      <td>0.482284</td>\n",
              "      <td>-0.867130</td>\n",
              "    </tr>\n",
              "  </tbody>\n",
              "</table>\n",
              "</div>"
            ],
            "text/plain": [
              "            Colorado     Texas  New York      Ohio\n",
              "2000-01-05 -0.896431  0.677263  0.036503  0.087102\n",
              "2000-01-06 -0.896431  0.677263  0.036503  0.087102\n",
              "2000-01-07 -0.896431  0.677263  0.036503  0.087102\n",
              "2000-01-08       NaN       NaN       NaN       NaN\n",
              "2000-01-09       NaN       NaN       NaN       NaN\n",
              "2000-01-10       NaN       NaN       NaN       NaN\n",
              "2000-01-11       NaN       NaN       NaN       NaN\n",
              "2000-01-12 -0.046662  0.927238  0.482284 -0.867130"
            ]
          },
          "execution_count": 106,
          "metadata": {},
          "output_type": "execute_result"
        }
      ]
    },
    {
      "cell_type": "code",
      "metadata": {
        "id": "acF9vCwuYrbw",
        "outputId": "051b4974-ad2f-47d3-cdb6-2d915fd5b9ab"
      },
      "source": [
        "frame.resample('W-THU').ffill()"
      ],
      "execution_count": null,
      "outputs": [
        {
          "data": {
            "text/html": [
              "<div>\n",
              "<style scoped>\n",
              "    .dataframe tbody tr th:only-of-type {\n",
              "        vertical-align: middle;\n",
              "    }\n",
              "\n",
              "    .dataframe tbody tr th {\n",
              "        vertical-align: top;\n",
              "    }\n",
              "\n",
              "    .dataframe thead th {\n",
              "        text-align: right;\n",
              "    }\n",
              "</style>\n",
              "<table border=\"1\" class=\"dataframe\">\n",
              "  <thead>\n",
              "    <tr style=\"text-align: right;\">\n",
              "      <th></th>\n",
              "      <th>Colorado</th>\n",
              "      <th>Texas</th>\n",
              "      <th>New York</th>\n",
              "      <th>Ohio</th>\n",
              "    </tr>\n",
              "  </thead>\n",
              "  <tbody>\n",
              "    <tr>\n",
              "      <th>2000-01-06</th>\n",
              "      <td>-0.896431</td>\n",
              "      <td>0.677263</td>\n",
              "      <td>0.036503</td>\n",
              "      <td>0.087102</td>\n",
              "    </tr>\n",
              "    <tr>\n",
              "      <th>2000-01-13</th>\n",
              "      <td>-0.046662</td>\n",
              "      <td>0.927238</td>\n",
              "      <td>0.482284</td>\n",
              "      <td>-0.867130</td>\n",
              "    </tr>\n",
              "  </tbody>\n",
              "</table>\n",
              "</div>"
            ],
            "text/plain": [
              "            Colorado     Texas  New York      Ohio\n",
              "2000-01-06 -0.896431  0.677263  0.036503  0.087102\n",
              "2000-01-13 -0.046662  0.927238  0.482284 -0.867130"
            ]
          },
          "execution_count": 107,
          "metadata": {},
          "output_type": "execute_result"
        }
      ]
    },
    {
      "cell_type": "markdown",
      "metadata": {
        "id": "UYSgWm39Yrbx"
      },
      "source": [
        "### Resampling with Periods"
      ]
    },
    {
      "cell_type": "code",
      "metadata": {
        "id": "TN1yb8-kYrbx",
        "outputId": "ebb718be-1e49-4ca2-e778-2837782e287e"
      },
      "source": [
        "frame = pd.DataFrame(np.random.randn(24, 4),\n",
        "                     index=pd.period_range('1-2000', '12-2001',\n",
        "                                           freq='M'),\n",
        "                     columns=['Colorado', 'Texas', 'New York', 'Ohio'])\n",
        "frame[:5]\n",
        "annual_frame = frame.resample('A-DEC').mean()\n",
        "annual_frame"
      ],
      "execution_count": null,
      "outputs": [
        {
          "data": {
            "text/html": [
              "<div>\n",
              "<style scoped>\n",
              "    .dataframe tbody tr th:only-of-type {\n",
              "        vertical-align: middle;\n",
              "    }\n",
              "\n",
              "    .dataframe tbody tr th {\n",
              "        vertical-align: top;\n",
              "    }\n",
              "\n",
              "    .dataframe thead th {\n",
              "        text-align: right;\n",
              "    }\n",
              "</style>\n",
              "<table border=\"1\" class=\"dataframe\">\n",
              "  <thead>\n",
              "    <tr style=\"text-align: right;\">\n",
              "      <th></th>\n",
              "      <th>Colorado</th>\n",
              "      <th>Texas</th>\n",
              "      <th>New York</th>\n",
              "      <th>Ohio</th>\n",
              "    </tr>\n",
              "  </thead>\n",
              "  <tbody>\n",
              "    <tr>\n",
              "      <th>2000</th>\n",
              "      <td>0.556703</td>\n",
              "      <td>0.016631</td>\n",
              "      <td>0.111873</td>\n",
              "      <td>-0.027445</td>\n",
              "    </tr>\n",
              "    <tr>\n",
              "      <th>2001</th>\n",
              "      <td>0.046303</td>\n",
              "      <td>0.163344</td>\n",
              "      <td>0.251503</td>\n",
              "      <td>-0.157276</td>\n",
              "    </tr>\n",
              "  </tbody>\n",
              "</table>\n",
              "</div>"
            ],
            "text/plain": [
              "      Colorado     Texas  New York      Ohio\n",
              "2000  0.556703  0.016631  0.111873 -0.027445\n",
              "2001  0.046303  0.163344  0.251503 -0.157276"
            ]
          },
          "execution_count": 108,
          "metadata": {},
          "output_type": "execute_result"
        }
      ]
    },
    {
      "cell_type": "code",
      "metadata": {
        "id": "XQvfViyTYrbx",
        "outputId": "a74f34f5-16b7-4fa5-b71d-d0e8578e6911"
      },
      "source": [
        "# Q-DEC: Quarterly, year ending in December\n",
        "annual_frame.resample('Q-DEC').ffill()\n",
        "annual_frame.resample('Q-DEC', convention='end').ffill()"
      ],
      "execution_count": null,
      "outputs": [
        {
          "data": {
            "text/html": [
              "<div>\n",
              "<style scoped>\n",
              "    .dataframe tbody tr th:only-of-type {\n",
              "        vertical-align: middle;\n",
              "    }\n",
              "\n",
              "    .dataframe tbody tr th {\n",
              "        vertical-align: top;\n",
              "    }\n",
              "\n",
              "    .dataframe thead th {\n",
              "        text-align: right;\n",
              "    }\n",
              "</style>\n",
              "<table border=\"1\" class=\"dataframe\">\n",
              "  <thead>\n",
              "    <tr style=\"text-align: right;\">\n",
              "      <th></th>\n",
              "      <th>Colorado</th>\n",
              "      <th>Texas</th>\n",
              "      <th>New York</th>\n",
              "      <th>Ohio</th>\n",
              "    </tr>\n",
              "  </thead>\n",
              "  <tbody>\n",
              "    <tr>\n",
              "      <th>2000Q4</th>\n",
              "      <td>0.556703</td>\n",
              "      <td>0.016631</td>\n",
              "      <td>0.111873</td>\n",
              "      <td>-0.027445</td>\n",
              "    </tr>\n",
              "    <tr>\n",
              "      <th>2001Q1</th>\n",
              "      <td>0.556703</td>\n",
              "      <td>0.016631</td>\n",
              "      <td>0.111873</td>\n",
              "      <td>-0.027445</td>\n",
              "    </tr>\n",
              "    <tr>\n",
              "      <th>2001Q2</th>\n",
              "      <td>0.556703</td>\n",
              "      <td>0.016631</td>\n",
              "      <td>0.111873</td>\n",
              "      <td>-0.027445</td>\n",
              "    </tr>\n",
              "    <tr>\n",
              "      <th>2001Q3</th>\n",
              "      <td>0.556703</td>\n",
              "      <td>0.016631</td>\n",
              "      <td>0.111873</td>\n",
              "      <td>-0.027445</td>\n",
              "    </tr>\n",
              "    <tr>\n",
              "      <th>2001Q4</th>\n",
              "      <td>0.046303</td>\n",
              "      <td>0.163344</td>\n",
              "      <td>0.251503</td>\n",
              "      <td>-0.157276</td>\n",
              "    </tr>\n",
              "  </tbody>\n",
              "</table>\n",
              "</div>"
            ],
            "text/plain": [
              "        Colorado     Texas  New York      Ohio\n",
              "2000Q4  0.556703  0.016631  0.111873 -0.027445\n",
              "2001Q1  0.556703  0.016631  0.111873 -0.027445\n",
              "2001Q2  0.556703  0.016631  0.111873 -0.027445\n",
              "2001Q3  0.556703  0.016631  0.111873 -0.027445\n",
              "2001Q4  0.046303  0.163344  0.251503 -0.157276"
            ]
          },
          "execution_count": 109,
          "metadata": {},
          "output_type": "execute_result"
        }
      ]
    },
    {
      "cell_type": "code",
      "metadata": {
        "id": "K3G2jKvxYrbx",
        "outputId": "142d627b-5200-4ed3-ff47-6203dcfe2a49"
      },
      "source": [
        "annual_frame.resample('Q-MAR').ffill()"
      ],
      "execution_count": null,
      "outputs": [
        {
          "data": {
            "text/html": [
              "<div>\n",
              "<style scoped>\n",
              "    .dataframe tbody tr th:only-of-type {\n",
              "        vertical-align: middle;\n",
              "    }\n",
              "\n",
              "    .dataframe tbody tr th {\n",
              "        vertical-align: top;\n",
              "    }\n",
              "\n",
              "    .dataframe thead th {\n",
              "        text-align: right;\n",
              "    }\n",
              "</style>\n",
              "<table border=\"1\" class=\"dataframe\">\n",
              "  <thead>\n",
              "    <tr style=\"text-align: right;\">\n",
              "      <th></th>\n",
              "      <th>Colorado</th>\n",
              "      <th>Texas</th>\n",
              "      <th>New York</th>\n",
              "      <th>Ohio</th>\n",
              "    </tr>\n",
              "  </thead>\n",
              "  <tbody>\n",
              "    <tr>\n",
              "      <th>2000Q4</th>\n",
              "      <td>0.556703</td>\n",
              "      <td>0.016631</td>\n",
              "      <td>0.111873</td>\n",
              "      <td>-0.027445</td>\n",
              "    </tr>\n",
              "    <tr>\n",
              "      <th>2001Q1</th>\n",
              "      <td>0.556703</td>\n",
              "      <td>0.016631</td>\n",
              "      <td>0.111873</td>\n",
              "      <td>-0.027445</td>\n",
              "    </tr>\n",
              "    <tr>\n",
              "      <th>2001Q2</th>\n",
              "      <td>0.556703</td>\n",
              "      <td>0.016631</td>\n",
              "      <td>0.111873</td>\n",
              "      <td>-0.027445</td>\n",
              "    </tr>\n",
              "    <tr>\n",
              "      <th>2001Q3</th>\n",
              "      <td>0.556703</td>\n",
              "      <td>0.016631</td>\n",
              "      <td>0.111873</td>\n",
              "      <td>-0.027445</td>\n",
              "    </tr>\n",
              "    <tr>\n",
              "      <th>2001Q4</th>\n",
              "      <td>0.046303</td>\n",
              "      <td>0.163344</td>\n",
              "      <td>0.251503</td>\n",
              "      <td>-0.157276</td>\n",
              "    </tr>\n",
              "    <tr>\n",
              "      <th>2002Q1</th>\n",
              "      <td>0.046303</td>\n",
              "      <td>0.163344</td>\n",
              "      <td>0.251503</td>\n",
              "      <td>-0.157276</td>\n",
              "    </tr>\n",
              "    <tr>\n",
              "      <th>2002Q2</th>\n",
              "      <td>0.046303</td>\n",
              "      <td>0.163344</td>\n",
              "      <td>0.251503</td>\n",
              "      <td>-0.157276</td>\n",
              "    </tr>\n",
              "    <tr>\n",
              "      <th>2002Q3</th>\n",
              "      <td>0.046303</td>\n",
              "      <td>0.163344</td>\n",
              "      <td>0.251503</td>\n",
              "      <td>-0.157276</td>\n",
              "    </tr>\n",
              "  </tbody>\n",
              "</table>\n",
              "</div>"
            ],
            "text/plain": [
              "        Colorado     Texas  New York      Ohio\n",
              "2000Q4  0.556703  0.016631  0.111873 -0.027445\n",
              "2001Q1  0.556703  0.016631  0.111873 -0.027445\n",
              "2001Q2  0.556703  0.016631  0.111873 -0.027445\n",
              "2001Q3  0.556703  0.016631  0.111873 -0.027445\n",
              "2001Q4  0.046303  0.163344  0.251503 -0.157276\n",
              "2002Q1  0.046303  0.163344  0.251503 -0.157276\n",
              "2002Q2  0.046303  0.163344  0.251503 -0.157276\n",
              "2002Q3  0.046303  0.163344  0.251503 -0.157276"
            ]
          },
          "execution_count": 110,
          "metadata": {},
          "output_type": "execute_result"
        }
      ]
    },
    {
      "cell_type": "markdown",
      "metadata": {
        "id": "ephd5v_HYrbx"
      },
      "source": [
        "## Moving Window Functions"
      ]
    },
    {
      "cell_type": "code",
      "metadata": {
        "id": "lgZyNvDaYrbx"
      },
      "source": [
        "close_px_all = pd.read_csv('examples/stock_px_2.csv',\n",
        "                           parse_dates=True, index_col=0)\n",
        "close_px = close_px_all[['AAPL', 'MSFT', 'XOM']]\n",
        "close_px = close_px.resample('B').ffill()"
      ],
      "execution_count": null,
      "outputs": []
    },
    {
      "cell_type": "code",
      "metadata": {
        "id": "BhDA6np8Yrbx",
        "outputId": "6b40740b-3a73-4b45-f1f0-fbad1f83d2a3"
      },
      "source": [
        "close_px.AAPL.plot()\n",
        "close_px.AAPL.rolling(250).mean().plot()"
      ],
      "execution_count": null,
      "outputs": [
        {
          "data": {
            "text/plain": [
              "<AxesSubplot:>"
            ]
          },
          "execution_count": 112,
          "metadata": {},
          "output_type": "execute_result"
        },
        {
          "data": {
            "image/png": "[encoded data removed]",
            "text/plain": [
              "<Figure size 720x432 with 1 Axes>"
            ]
          },
          "metadata": {
            "needs_background": "light"
          },
          "output_type": "display_data"
        }
      ]
    },
    {
      "cell_type": "code",
      "metadata": {
        "id": "OXnu5ZQ5Yrbx",
        "outputId": "2b06233f-c219-47c6-fce7-4decc4ff18b8"
      },
      "source": [
        "plt.figure()"
      ],
      "execution_count": null,
      "outputs": [
        {
          "data": {
            "text/plain": [
              "<Figure size 720x432 with 0 Axes>"
            ]
          },
          "execution_count": 113,
          "metadata": {},
          "output_type": "execute_result"
        },
        {
          "data": {
            "text/plain": [
              "<Figure size 720x432 with 0 Axes>"
            ]
          },
          "metadata": {},
          "output_type": "display_data"
        }
      ]
    },
    {
      "cell_type": "code",
      "metadata": {
        "id": "BoVrRlk5Yrbx",
        "outputId": "6eebafc8-cde3-454a-e08e-90e01147db77"
      },
      "source": [
        "appl_std250 = close_px.AAPL.rolling(250, min_periods=10).std()\n",
        "appl_std250[5:12]\n",
        "appl_std250.plot()"
      ],
      "execution_count": null,
      "outputs": [
        {
          "data": {
            "text/plain": [
              "<AxesSubplot:>"
            ]
          },
          "execution_count": 114,
          "metadata": {},
          "output_type": "execute_result"
        },
        {
          "data": {
            "image/png": "[encoded data removed]",
            "text/plain": [
              "<Figure size 720x432 with 1 Axes>"
            ]
          },
          "metadata": {
            "needs_background": "light"
          },
          "output_type": "display_data"
        }
      ]
    },
    {
      "cell_type": "code",
      "metadata": {
        "id": "dFxlXMCzYrby"
      },
      "source": [
        "expanding_mean = appl_std250.expanding().mean()"
      ],
      "execution_count": null,
      "outputs": []
    },
    {
      "cell_type": "code",
      "metadata": {
        "id": "0jcLsXijYrby",
        "outputId": "3b61dcaa-b716-45b9-ef4a-e4cdbb0b9f6d"
      },
      "source": [
        "plt.figure()"
      ],
      "execution_count": null,
      "outputs": [
        {
          "data": {
            "text/plain": [
              "<Figure size 720x432 with 0 Axes>"
            ]
          },
          "execution_count": 116,
          "metadata": {},
          "output_type": "execute_result"
        },
        {
          "data": {
            "text/plain": [
              "<Figure size 720x432 with 0 Axes>"
            ]
          },
          "metadata": {},
          "output_type": "display_data"
        }
      ]
    },
    {
      "cell_type": "code",
      "metadata": {
        "id": "Ded86ibmYrby",
        "outputId": "40ddf4d2-0870-4d01-85d7-1cf053d22157"
      },
      "source": [
        "close_px.rolling(60).mean().plot(logy=True)"
      ],
      "execution_count": null,
      "outputs": [
        {
          "data": {
            "text/plain": [
              "<AxesSubplot:>"
            ]
          },
          "execution_count": 117,
          "metadata": {},
          "output_type": "execute_result"
        },
        {
          "data": {
            "image/png": "[encoded data removed]",
            "text/plain": [
              "<Figure size 720x432 with 1 Axes>"
            ]
          },
          "metadata": {
            "needs_background": "light"
          },
          "output_type": "display_data"
        }
      ]
    },
    {
      "cell_type": "code",
      "metadata": {
        "id": "8m2YKIE1Yrby",
        "outputId": "84e86ac7-b0f0-47c5-c144-a676ab37f62b"
      },
      "source": [
        "close_px.rolling('20D').mean()"
      ],
      "execution_count": null,
      "outputs": [
        {
          "data": {
            "text/html": [
              "<div>\n",
              "<style scoped>\n",
              "    .dataframe tbody tr th:only-of-type {\n",
              "        vertical-align: middle;\n",
              "    }\n",
              "\n",
              "    .dataframe tbody tr th {\n",
              "        vertical-align: top;\n",
              "    }\n",
              "\n",
              "    .dataframe thead th {\n",
              "        text-align: right;\n",
              "    }\n",
              "</style>\n",
              "<table border=\"1\" class=\"dataframe\">\n",
              "  <thead>\n",
              "    <tr style=\"text-align: right;\">\n",
              "      <th></th>\n",
              "      <th>AAPL</th>\n",
              "      <th>MSFT</th>\n",
              "      <th>XOM</th>\n",
              "    </tr>\n",
              "  </thead>\n",
              "  <tbody>\n",
              "    <tr>\n",
              "      <th>2003-01-02</th>\n",
              "      <td>7.400000</td>\n",
              "      <td>21.110000</td>\n",
              "      <td>29.220000</td>\n",
              "    </tr>\n",
              "    <tr>\n",
              "      <th>2003-01-03</th>\n",
              "      <td>7.425000</td>\n",
              "      <td>21.125000</td>\n",
              "      <td>29.230000</td>\n",
              "    </tr>\n",
              "    <tr>\n",
              "      <th>2003-01-06</th>\n",
              "      <td>7.433333</td>\n",
              "      <td>21.256667</td>\n",
              "      <td>29.473333</td>\n",
              "    </tr>\n",
              "    <tr>\n",
              "      <th>2003-01-07</th>\n",
              "      <td>7.432500</td>\n",
              "      <td>21.425000</td>\n",
              "      <td>29.342500</td>\n",
              "    </tr>\n",
              "    <tr>\n",
              "      <th>2003-01-08</th>\n",
              "      <td>7.402000</td>\n",
              "      <td>21.402000</td>\n",
              "      <td>29.240000</td>\n",
              "    </tr>\n",
              "    <tr>\n",
              "      <th>...</th>\n",
              "      <td>...</td>\n",
              "      <td>...</td>\n",
              "      <td>...</td>\n",
              "    </tr>\n",
              "    <tr>\n",
              "      <th>2011-10-10</th>\n",
              "      <td>389.351429</td>\n",
              "      <td>25.602143</td>\n",
              "      <td>72.527857</td>\n",
              "    </tr>\n",
              "    <tr>\n",
              "      <th>2011-10-11</th>\n",
              "      <td>388.505000</td>\n",
              "      <td>25.674286</td>\n",
              "      <td>72.835000</td>\n",
              "    </tr>\n",
              "    <tr>\n",
              "      <th>2011-10-12</th>\n",
              "      <td>388.531429</td>\n",
              "      <td>25.810000</td>\n",
              "      <td>73.400714</td>\n",
              "    </tr>\n",
              "    <tr>\n",
              "      <th>2011-10-13</th>\n",
              "      <td>388.826429</td>\n",
              "      <td>25.961429</td>\n",
              "      <td>73.905000</td>\n",
              "    </tr>\n",
              "    <tr>\n",
              "      <th>2011-10-14</th>\n",
              "      <td>391.038000</td>\n",
              "      <td>26.048667</td>\n",
              "      <td>74.185333</td>\n",
              "    </tr>\n",
              "  </tbody>\n",
              "</table>\n",
              "<p>2292 rows × 3 columns</p>\n",
              "</div>"
            ],
            "text/plain": [
              "                  AAPL       MSFT        XOM\n",
              "2003-01-02    7.400000  21.110000  29.220000\n",
              "2003-01-03    7.425000  21.125000  29.230000\n",
              "2003-01-06    7.433333  21.256667  29.473333\n",
              "2003-01-07    7.432500  21.425000  29.342500\n",
              "2003-01-08    7.402000  21.402000  29.240000\n",
              "...                ...        ...        ...\n",
              "2011-10-10  389.351429  25.602143  72.527857\n",
              "2011-10-11  388.505000  25.674286  72.835000\n",
              "2011-10-12  388.531429  25.810000  73.400714\n",
              "2011-10-13  388.826429  25.961429  73.905000\n",
              "2011-10-14  391.038000  26.048667  74.185333\n",
              "\n",
              "[2292 rows x 3 columns]"
            ]
          },
          "execution_count": 118,
          "metadata": {},
          "output_type": "execute_result"
        }
      ]
    },
    {
      "cell_type": "markdown",
      "metadata": {
        "id": "8vQAH-73Yrby"
      },
      "source": [
        "### Exponentially Weighted Functions"
      ]
    },
    {
      "cell_type": "code",
      "metadata": {
        "id": "2e2KJMtfYrby",
        "outputId": "1b4d5fe2-6777-4f06-d944-11ad026784bf"
      },
      "source": [
        "plt.figure()"
      ],
      "execution_count": null,
      "outputs": [
        {
          "data": {
            "text/plain": [
              "<Figure size 720x432 with 0 Axes>"
            ]
          },
          "execution_count": 119,
          "metadata": {},
          "output_type": "execute_result"
        },
        {
          "data": {
            "text/plain": [
              "<Figure size 720x432 with 0 Axes>"
            ]
          },
          "metadata": {},
          "output_type": "display_data"
        }
      ]
    },
    {
      "cell_type": "code",
      "metadata": {
        "id": "7fuMhVfgYrby",
        "outputId": "103e6ef8-ea1c-4dc4-d6f2-8ec22ac1b798"
      },
      "source": [
        "aapl_px = close_px.AAPL['2006':'2007']\n",
        "ma60 = aapl_px.rolling(30, min_periods=20).mean()\n",
        "ewma60 = aapl_px.ewm(span=30).mean()\n",
        "ma60.plot(style='k--', label='Simple MA')\n",
        "ewma60.plot(style='k-', label='EW MA')\n",
        "plt.legend()"
      ],
      "execution_count": null,
      "outputs": [
        {
          "data": {
            "text/plain": [
              "<matplotlib.legend.Legend at 0x7f9e072fc220>"
            ]
          },
          "execution_count": 120,
          "metadata": {},
          "output_type": "execute_result"
        },
        {
          "data": {
            "image/png": "[encoded data removed]",
            "text/plain": [
              "<Figure size 720x432 with 1 Axes>"
            ]
          },
          "metadata": {
            "needs_background": "light"
          },
          "output_type": "display_data"
        }
      ]
    },
    {
      "cell_type": "markdown",
      "metadata": {
        "id": "Xd1dxXZkYrby"
      },
      "source": [
        "### Binary Moving Window Functions"
      ]
    },
    {
      "cell_type": "code",
      "metadata": {
        "id": "ZLUIAynYYrby",
        "outputId": "7acaa691-5d9e-4ddb-a5c0-deb2b955a413"
      },
      "source": [
        "plt.figure()"
      ],
      "execution_count": null,
      "outputs": [
        {
          "data": {
            "text/plain": [
              "<Figure size 720x432 with 0 Axes>"
            ]
          },
          "execution_count": 121,
          "metadata": {},
          "output_type": "execute_result"
        },
        {
          "data": {
            "text/plain": [
              "<Figure size 720x432 with 0 Axes>"
            ]
          },
          "metadata": {},
          "output_type": "display_data"
        }
      ]
    },
    {
      "cell_type": "code",
      "metadata": {
        "id": "42_3w1qcYrby"
      },
      "source": [
        "spx_px = close_px_all['SPX']\n",
        "spx_rets = spx_px.pct_change()\n",
        "returns = close_px.pct_change()"
      ],
      "execution_count": null,
      "outputs": []
    },
    {
      "cell_type": "code",
      "metadata": {
        "id": "QBzPUWC0Yrbz",
        "outputId": "4bc12c89-e274-4f54-dfce-8296f9024bd2"
      },
      "source": [
        "corr = returns.AAPL.rolling(125, min_periods=100).corr(spx_rets)\n",
        "corr.plot()"
      ],
      "execution_count": null,
      "outputs": [
        {
          "data": {
            "text/plain": [
              "<AxesSubplot:>"
            ]
          },
          "execution_count": 123,
          "metadata": {},
          "output_type": "execute_result"
        },
        {
          "data": {
            "image/png": "[encoded data removed]",
            "text/plain": [
              "<Figure size 720x432 with 1 Axes>"
            ]
          },
          "metadata": {
            "needs_background": "light"
          },
          "output_type": "display_data"
        }
      ]
    },
    {
      "cell_type": "code",
      "metadata": {
        "id": "TwVq1LH4Yrbz",
        "outputId": "4124ec10-df55-4aca-9aef-f734ff295a59"
      },
      "source": [
        "plt.figure()"
      ],
      "execution_count": null,
      "outputs": [
        {
          "data": {
            "text/plain": [
              "<Figure size 720x432 with 0 Axes>"
            ]
          },
          "execution_count": 124,
          "metadata": {},
          "output_type": "execute_result"
        },
        {
          "data": {
            "text/plain": [
              "<Figure size 720x432 with 0 Axes>"
            ]
          },
          "metadata": {},
          "output_type": "display_data"
        }
      ]
    },
    {
      "cell_type": "code",
      "metadata": {
        "id": "2Ph3qC4cYrbz",
        "outputId": "80200f45-a882-4404-dfb9-f8d8ea3ef3d8"
      },
      "source": [
        "corr = returns.rolling(125, min_periods=100).corr(spx_rets)\n",
        "corr.plot()"
      ],
      "execution_count": null,
      "outputs": [
        {
          "data": {
            "text/plain": [
              "<AxesSubplot:>"
            ]
          },
          "execution_count": 125,
          "metadata": {},
          "output_type": "execute_result"
        },
        {
          "data": {
            "image/png": "[encoded data removed]",
            "text/plain": [
              "<Figure size 720x432 with 1 Axes>"
            ]
          },
          "metadata": {
            "needs_background": "light"
          },
          "output_type": "display_data"
        }
      ]
    },
    {
      "cell_type": "markdown",
      "metadata": {
        "id": "Cze3adXAYrbz"
      },
      "source": [
        "### User-Defined Moving Window Functions"
      ]
    },
    {
      "cell_type": "code",
      "metadata": {
        "id": "aUW4rStrYrbz",
        "outputId": "8a5e5e48-68d4-4167-d8d4-5e340cbe48e1"
      },
      "source": [
        "plt.figure()"
      ],
      "execution_count": null,
      "outputs": [
        {
          "data": {
            "text/plain": [
              "<Figure size 720x432 with 0 Axes>"
            ]
          },
          "execution_count": 126,
          "metadata": {},
          "output_type": "execute_result"
        },
        {
          "data": {
            "text/plain": [
              "<Figure size 720x432 with 0 Axes>"
            ]
          },
          "metadata": {},
          "output_type": "display_data"
        }
      ]
    },
    {
      "cell_type": "code",
      "metadata": {
        "id": "5CHpfGQNYrbz",
        "outputId": "dec80b8a-0350-4d2a-88aa-b41bad4409b0"
      },
      "source": [
        "from scipy.stats import percentileofscore\n",
        "score_at_2percent = lambda x: percentileofscore(x, 0.02)\n",
        "result = returns.AAPL.rolling(250).apply(score_at_2percent)\n",
        "result.plot()"
      ],
      "execution_count": null,
      "outputs": [
        {
          "data": {
            "text/plain": [
              "<AxesSubplot:>"
            ]
          },
          "execution_count": 127,
          "metadata": {},
          "output_type": "execute_result"
        },
        {
          "data": {
            "image/png": "[encoded data removed]",
            "text/plain": [
              "<Figure size 720x432 with 1 Axes>"
            ]
          },
          "metadata": {
            "needs_background": "light"
          },
          "output_type": "display_data"
        }
      ]
    },
    {
      "cell_type": "code",
      "metadata": {
        "id": "QC4MupgEYrbz"
      },
      "source": [
        "pd.options.display.max_rows = PREVIOUS_MAX_ROWS"
      ],
      "execution_count": null,
      "outputs": []
    },
    {
      "cell_type": "markdown",
      "metadata": {
        "id": "C0S0swDZYrbz"
      },
      "source": [
        "## Conclusion"
      ]
    }
  ]
}