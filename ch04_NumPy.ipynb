{
  "nbformat": 4,
  "nbformat_minor": 0,
  "metadata": {
    "colab": {
      "name": "ch04_NumPy.ipynb",
      "provenance": [],
      "collapsed_sections": [],
      "toc_visible": true,
      "include_colab_link": true
    },
    "hide_input": false,
    "interpreter": {
      "hash": "a2555ed613653937b96f8bd9ffe31d312d8c861feda6e5beb8958002590e1782"
    },
    "kernelspec": {
      "display_name": "Python 3",
      "language": "python",
      "name": "python3"
    },
    "language_info": {
      "codemirror_mode": {
        "name": "ipython",
        "version": 3
      },
      "file_extension": ".py",
      "mimetype": "text/x-python",
      "name": "python",
      "nbconvert_exporter": "python",
      "pygments_lexer": "ipython3",
      "version": "3.8.8"
    },
    "toc": {
      "base_numbering": 1,
      "nav_menu": {},
      "number_sections": true,
      "sideBar": true,
      "skip_h1_title": false,
      "title_cell": "Table of Contents",
      "title_sidebar": "Contents",
      "toc_cell": false,
      "toc_position": {
        "height": "calc(100% - 180px)",
        "left": "10px",
        "top": "150px",
        "width": "228px"
      },
      "toc_section_display": true,
      "toc_window_display": true
    },
    "varInspector": {
      "cols": {
        "lenName": 16,
        "lenType": 16,
        "lenVar": 40
      },
      "kernels_config": {
        "python": {
          "delete_cmd_postfix": "",
          "delete_cmd_prefix": "del ",
          "library": "var_list.py",
          "varRefreshCmd": "print(var_dic_list())"
        },
        "r": {
          "delete_cmd_postfix": ") ",
          "delete_cmd_prefix": "rm(",
          "library": "var_list.r",
          "varRefreshCmd": "cat(var_dic_list()) "
        }
      },
      "types_to_exclude": [
        "module",
        "function",
        "builtin_function_or_method",
        "instance",
        "_Feature"
      ],
      "window_display": false
    }
  },
  "cells": [
    {
      "cell_type": "markdown",
      "metadata": {
        "id": "view-in-github",
        "colab_type": "text"
      },
      "source": [
        "<a href=\"https://colab.research.google.com/github/Sihan-A/Pydata_2e_Chinese_Notebook/blob/main/ch04_NumPy.ipynb\" target=\"_parent\"><img src=\"https://colab.research.google.com/assets/colab-badge.svg\" alt=\"Open In Colab\"/></a>"
      ]
    },
    {
      "cell_type": "markdown",
      "metadata": {
        "id": "mpB1tPzL5j_-"
      },
      "source": [
        "# 4 NumPy基础：数组与向量化计算"
      ]
    },
    {
      "cell_type": "markdown",
      "metadata": {
        "id": "51JAcdzVXiHF"
      },
      "source": [
        "`NumPy` → Numerical Python"
      ]
    },
    {
      "cell_type": "code",
      "metadata": {
        "id": "zFFo68K65kAA"
      },
      "source": [
        "import numpy as np\n",
        "import pandas as pd\n",
        "import matplotlib.pyplot as plt"
      ],
      "execution_count": null,
      "outputs": []
    },
    {
      "cell_type": "code",
      "metadata": {
        "id": "-60sK_-IXiHH"
      },
      "source": [
        "# Reproducibility\n",
        "np.random.seed(12345)\n",
        "plt.rc('figure',figsize=(10, 6))\n",
        "np.set_printoptions(precision=4,suppress=True)"
      ],
      "execution_count": null,
      "outputs": []
    },
    {
      "cell_type": "code",
      "metadata": {
        "id": "XdczBqp-5kAB",
        "scrolled": true,
        "outputId": "a002e0b6-9b1b-4387-f86d-8a07079e5ba0"
      },
      "source": [
        "my_arr = np.arange(1000000) # 创建ndarray\n",
        "my_list = list(range(1000000)) # 创建Python列表\n",
        "%time for _ in range(10): my_arr2 = my_arr * 2 # ndarray\n",
        "%time for _ in range(10): my_list2 = [x * 2 for x in my_list] # list"
      ],
      "execution_count": null,
      "outputs": [
        {
          "name": "stdout",
          "output_type": "stream",
          "text": [
            "CPU times: user 17 ms, sys: 4.55 ms, total: 21.6 ms\n",
            "Wall time: 21.8 ms\n",
            "CPU times: user 702 ms, sys: 180 ms, total: 882 ms\n",
            "Wall time: 884 ms\n"
          ]
        }
      ]
    },
    {
      "cell_type": "markdown",
      "metadata": {
        "id": "L07C-i7YXiHL"
      },
      "source": [
        "结论：NumPy的速度比Python的列表快很多"
      ]
    },
    {
      "cell_type": "markdown",
      "metadata": {
        "id": "rkJpC9Yf5kAC"
      },
      "source": [
        "## 4.1 NumPy ndarray：多维数组对象\n",
        "\n",
        "ndarray：多维同类数据容器\n",
        "- dtype属性\n",
        "- shape属性"
      ]
    },
    {
      "cell_type": "code",
      "metadata": {
        "id": "0MxY6lR85kAC",
        "outputId": "14211da9-bb41-41f9-d3f9-56ecc5db8e6a"
      },
      "source": [
        "# 导入NumPy模块\n",
        "import numpy as np\n",
        "# Generate some random data\n",
        "data = np.random.randn(2,3) # 形状为(2,3)的标准正态分布的ndarray\n",
        "data"
      ],
      "execution_count": null,
      "outputs": [
        {
          "data": {
            "text/plain": [
              "array([[-0.2047,  0.4789, -0.5194],\n",
              "       [-0.5557,  1.9658,  1.3934]])"
            ]
          },
          "execution_count": 12,
          "metadata": {},
          "output_type": "execute_result"
        }
      ]
    },
    {
      "cell_type": "code",
      "metadata": {
        "id": "_1EOBeOn5kAC",
        "scrolled": true,
        "outputId": "8fd4ec5e-21dd-484e-b1fd-27f0b3da7943"
      },
      "source": [
        "data * 10 # ndarray每个元素乘以10"
      ],
      "execution_count": null,
      "outputs": [
        {
          "data": {
            "text/plain": [
              "array([[-2.0471,  4.7894, -5.1944],\n",
              "       [-5.5573, 19.6578, 13.9341]])"
            ]
          },
          "execution_count": 13,
          "metadata": {},
          "output_type": "execute_result"
        }
      ]
    },
    {
      "cell_type": "code",
      "metadata": {
        "id": "Ba9KTggF5kAC",
        "outputId": "3e947536-62a7-4dc8-b89f-048c7ed29647"
      },
      "source": [
        "data + data # 两个ndarray的元素相对应相加"
      ],
      "execution_count": null,
      "outputs": [
        {
          "data": {
            "text/plain": [
              "array([[-0.4094,  0.9579, -1.0389],\n",
              "       [-1.1115,  3.9316,  2.7868]])"
            ]
          },
          "execution_count": 14,
          "metadata": {},
          "output_type": "execute_result"
        }
      ]
    },
    {
      "cell_type": "code",
      "metadata": {
        "id": "jM1eN3Fc5kAD",
        "scrolled": true,
        "outputId": "dc4dac5e-89bf-465d-aec9-5e1685e531c4"
      },
      "source": [
        "data.shape # 查看ndarray的形状"
      ],
      "execution_count": null,
      "outputs": [
        {
          "data": {
            "text/plain": [
              "(2, 3)"
            ]
          },
          "execution_count": 15,
          "metadata": {},
          "output_type": "execute_result"
        }
      ]
    },
    {
      "cell_type": "code",
      "metadata": {
        "id": "mhX7X5sa5kAD",
        "outputId": "4d2db126-d5d8-4af4-e6e4-1e0cd899cff9"
      },
      "source": [
        "data.size # 查看ndarray的元素数量 2 * 3 = 6"
      ],
      "execution_count": null,
      "outputs": [
        {
          "data": {
            "text/plain": [
              "6"
            ]
          },
          "execution_count": 16,
          "metadata": {},
          "output_type": "execute_result"
        }
      ]
    },
    {
      "cell_type": "code",
      "metadata": {
        "id": "lyx2SEdY5kAD",
        "outputId": "d50c4144-01fe-4e01-fb89-c017cb4dcbe2"
      },
      "source": [
        "data.dtype # 查看ndarray的数据类型"
      ],
      "execution_count": null,
      "outputs": [
        {
          "data": {
            "text/plain": [
              "dtype('float64')"
            ]
          },
          "execution_count": 17,
          "metadata": {},
          "output_type": "execute_result"
        }
      ]
    },
    {
      "cell_type": "markdown",
      "metadata": {
        "id": "_Iy7nNxn5kAD"
      },
      "source": [
        "### 4.1.1 创建ndarrays"
      ]
    },
    {
      "cell_type": "code",
      "metadata": {
        "id": "lrlJRV0X5kAD",
        "outputId": "47cdfe26-816f-497d-b66c-fb438c5c2735"
      },
      "source": [
        "data1 = [6, 7.5, 8, 0, 1]\n",
        "arr1 = np.array(data1) # 由列表产生ndarray\n",
        "arr1"
      ],
      "execution_count": null,
      "outputs": [
        {
          "data": {
            "text/plain": [
              "array([6. , 7.5, 8. , 0. , 1. ])"
            ]
          },
          "execution_count": 18,
          "metadata": {},
          "output_type": "execute_result"
        }
      ]
    },
    {
      "cell_type": "code",
      "metadata": {
        "id": "spP6J17m5kAE",
        "outputId": "7a98b1fe-fd8c-4ba6-aac9-b40db03ff907"
      },
      "source": [
        "data2 = [[1, 2, 3, 4],\n",
        "         [5, 6, 7, 8]]\n",
        "arr2 = np.array(data2) # 由列表产生ndarray\n",
        "arr2"
      ],
      "execution_count": null,
      "outputs": [
        {
          "data": {
            "text/plain": [
              "array([[1, 2, 3, 4],\n",
              "       [5, 6, 7, 8]])"
            ]
          },
          "execution_count": 19,
          "metadata": {},
          "output_type": "execute_result"
        }
      ]
    },
    {
      "cell_type": "code",
      "metadata": {
        "id": "qZiK8Yrq5kAE",
        "outputId": "3e4602d9-fdda-4493-b391-b2b66e0d327c"
      },
      "source": [
        "arr2.ndim # 维度数量 number of dimensions\n",
        "# ndim = len(shape)"
      ],
      "execution_count": null,
      "outputs": [
        {
          "data": {
            "text/plain": [
              "2"
            ]
          },
          "execution_count": 20,
          "metadata": {},
          "output_type": "execute_result"
        }
      ]
    },
    {
      "cell_type": "code",
      "metadata": {
        "id": "EOwK_HG_5kAE",
        "outputId": "2cd1fd30-e463-4879-c01b-d894aa8873b2"
      },
      "source": [
        "arr2.shape # 返回形状的元组"
      ],
      "execution_count": null,
      "outputs": [
        {
          "data": {
            "text/plain": [
              "(2, 4)"
            ]
          },
          "execution_count": 21,
          "metadata": {},
          "output_type": "execute_result"
        }
      ]
    },
    {
      "cell_type": "code",
      "metadata": {
        "id": "faY9pgxs5kAE",
        "outputId": "dea9fd02-9e32-4e11-ba3e-d05e70c16842"
      },
      "source": [
        "arr1.dtype # 元素的类型"
      ],
      "execution_count": null,
      "outputs": [
        {
          "data": {
            "text/plain": [
              "dtype('float64')"
            ]
          },
          "execution_count": 22,
          "metadata": {},
          "output_type": "execute_result"
        }
      ]
    },
    {
      "cell_type": "code",
      "metadata": {
        "id": "w8nEaXey5kAE",
        "outputId": "5bec0ede-3118-4b19-9c64-7a82b9c57d30"
      },
      "source": [
        "arr2.dtype # 元素的类型"
      ],
      "execution_count": null,
      "outputs": [
        {
          "data": {
            "text/plain": [
              "dtype('int64')"
            ]
          },
          "execution_count": 23,
          "metadata": {},
          "output_type": "execute_result"
        }
      ]
    },
    {
      "cell_type": "code",
      "metadata": {
        "id": "R0RvS7nc5kAE",
        "outputId": "cfb9682f-302e-4148-9932-56802dd848c3"
      },
      "source": [
        "np.zeros(10) # 创建大小为(10,)的零ndarray"
      ],
      "execution_count": null,
      "outputs": [
        {
          "data": {
            "text/plain": [
              "array([0., 0., 0., 0., 0., 0., 0., 0., 0., 0.])"
            ]
          },
          "execution_count": 24,
          "metadata": {},
          "output_type": "execute_result"
        }
      ]
    },
    {
      "cell_type": "code",
      "metadata": {
        "id": "DZfDKN6n5kAF",
        "outputId": "49c0e65f-a60e-4129-b730-2f72b7ac7dce"
      },
      "source": [
        "np.zeros((3,6)) # 创建大小为(3,6)的零ndarray"
      ],
      "execution_count": null,
      "outputs": [
        {
          "data": {
            "text/plain": [
              "array([[0., 0., 0., 0., 0., 0.],\n",
              "       [0., 0., 0., 0., 0., 0.],\n",
              "       [0., 0., 0., 0., 0., 0.]])"
            ]
          },
          "execution_count": 25,
          "metadata": {},
          "output_type": "execute_result"
        }
      ]
    },
    {
      "cell_type": "code",
      "metadata": {
        "id": "Fgj8QPBT5kAF",
        "outputId": "bf57b8f1-930e-4e32-887e-8fc644d4dc11"
      },
      "source": [
        "np.empty((2, 3, 2)) # 创建大小为(2,3,2)的空ndarray"
      ],
      "execution_count": null,
      "outputs": [
        {
          "data": {
            "text/plain": [
              "array([[[3.105e+231, 3.105e+231],\n",
              "        [3.458e-323, 0.000e+000],\n",
              "        [0.000e+000, 0.000e+000]],\n",
              "\n",
              "       [[0.000e+000, 0.000e+000],\n",
              "        [0.000e+000, 0.000e+000],\n",
              "        [0.000e+000, 0.000e+000]]])"
            ]
          },
          "execution_count": 26,
          "metadata": {},
          "output_type": "execute_result"
        }
      ]
    },
    {
      "cell_type": "code",
      "metadata": {
        "id": "2UvrBINT5kAF",
        "outputId": "460bf6de-6e60-42fa-800f-bb73d26bf0ae"
      },
      "source": [
        "a = np.arange(15) # range的数组版\n",
        "a"
      ],
      "execution_count": null,
      "outputs": [
        {
          "data": {
            "text/plain": [
              "array([ 0,  1,  2,  3,  4,  5,  6,  7,  8,  9, 10, 11, 12, 13, 14])"
            ]
          },
          "execution_count": 27,
          "metadata": {},
          "output_type": "execute_result"
        }
      ]
    },
    {
      "cell_type": "markdown",
      "metadata": {
        "id": "0mVx_SokXiHW"
      },
      "source": [
        "**生成数组函数**\n",
        "\n",
        "| 函数名              | 描述                                                         |\n",
        "| :---------------- | :------------------------------------------------------------ |\n",
        "| `array`     | Convert input data (list, tuple, array, or other sequence type) to an ndarray either by inferring a dtype or explicitly specifying a dtype; copies the input data by default |\n",
        "| `asarray`           | Convert input to ndarray, but do not copy if the input is already an ndarray |\n",
        "| `arange`            | Like the built-in range but returns an ndarray instead of a list |\n",
        "| `ones`, `ones_like` | Produce an array of all 1s with the given shape and dtype; ones_like takes another array and produces a ones array of the same shape and dtype |\n",
        "| `zeros`             | Like ones and ones_like but producing arrays of 0s instead   |\n",
        "| `zeros_like`        |                                                              |\n",
        "| `empty`             | Create new arrays by allocating new memory, but do not populate with any values like ones and |\n",
        "| `empty_like`        | zeros                                                        |\n",
        "| `full`              | Produce an array of the given shape and dtype with all values set to the indicated “fill value” |\n",
        "| `full_like`         | full_like takes another array and produces a filled array of the same shape and dtype |\n",
        "| `eye`, `identity`   | Create a square N × N identity matrix (1s on the diagonal and 0s elsewhere) |"
      ]
    },
    {
      "cell_type": "markdown",
      "metadata": {
        "id": "RkrD9uDt5kAF"
      },
      "source": [
        "### 4.1.2 数据类型"
      ]
    },
    {
      "cell_type": "markdown",
      "metadata": {
        "id": "nRnLnWW5XiHW"
      },
      "source": [
        "| Type                   | Type code    | Description                                                  |\n",
        "| :---------------------- | :------------ | :------------------------------------------------------------ |\n",
        "| `int8`, `uint8`          | `i1`, `u1` | Signed and unsigned 8-bit (1 byte) integer types             |\n",
        "| `int16`, `uint16`  | `i2`, `u2`       | Signed and unsigned 16-bit integer types                     |\n",
        "| int32, uint32          | i4, u4       | Signed and unsigned 32-bit integer types                     |\n",
        "| int64, uint64          | i8, u8       | Signed and unsigned 64-bit integer types                     |\n",
        "| float16                | f2           | Half-precision floating point                                |\n",
        "| float32                | f4 or f      | Standard single-precision floating point; compatible with C float |\n",
        "| float64                | f8 or d      | Standard double-precision floating point; compatible with C double and Python float object |\n",
        "| float128               | f16 or g     | Extended-precision floating point                            |\n",
        "| complex64, complex128, | c8, c16, c32 | Complex numbers represented by two 32, 64, or 128 floats, respectively |\n",
        "| complex256             |              |                                                              |\n",
        "| bool                   | ?            | Boolean type storing True and False values                   |\n",
        "| object                 | O            | Python object type; a value can be any Python object         |\n",
        "| string_                | S            | Fixed-length ASCII string type (1 byte per character); for example, to create a string dtype with length 10, use 'S10' |\n",
        "| unicode_               | U            | Fixed-length Unicode type (number of bytes platform specific); same specification semantics as string_ (e.g., 'U10') |\n",
        "\n"
      ]
    },
    {
      "cell_type": "code",
      "metadata": {
        "id": "URDPYiuk5kAF",
        "outputId": "53d86c2a-a9ac-42be-b4c9-279d02837e95"
      },
      "source": [
        "arr1 = np.array([1, 2, 3], # 传列表创建ndarray\n",
        "                dtype=np.float64) # 指定数据类型=float64\n",
        "arr1.dtype # 查看ndarray数据类型"
      ],
      "execution_count": null,
      "outputs": [
        {
          "data": {
            "text/plain": [
              "dtype('float64')"
            ]
          },
          "execution_count": 28,
          "metadata": {},
          "output_type": "execute_result"
        }
      ]
    },
    {
      "cell_type": "code",
      "metadata": {
        "id": "KVEzNID25kAF",
        "outputId": "c652754e-4bf6-45e7-a3e8-61a67c3d3574"
      },
      "source": [
        "arr2 = np.array([1, 2, 3], # 传列表创建ndarray\n",
        "                dtype=np.int32) # 指定数据类型=int32\n",
        "arr2.dtype # 查看ndarray数据类型"
      ],
      "execution_count": null,
      "outputs": [
        {
          "data": {
            "text/plain": [
              "dtype('int32')"
            ]
          },
          "execution_count": 29,
          "metadata": {},
          "output_type": "execute_result"
        }
      ]
    },
    {
      "cell_type": "code",
      "metadata": {
        "id": "6UZI6DwF5kAG",
        "scrolled": true,
        "outputId": "6da06f4b-bd6c-49f9-c90c-e8efe87930fa"
      },
      "source": [
        "arr = np.array([1, 2, 3, 4, 5]) # 传列表创建ndarray\n",
        "arr.dtype # 查看ndarray数据类型"
      ],
      "execution_count": null,
      "outputs": [
        {
          "data": {
            "text/plain": [
              "dtype('int64')"
            ]
          },
          "execution_count": 30,
          "metadata": {},
          "output_type": "execute_result"
        }
      ]
    },
    {
      "cell_type": "code",
      "metadata": {
        "id": "bjvt8TaJ5kAG",
        "outputId": "8dfc1c7d-877b-4796-b550-edb0e32ad442"
      },
      "source": [
        "float_arr = arr.astype(np.float64) # 转数据类型\n",
        "float_arr.dtype # 查看ndarray数据类型"
      ],
      "execution_count": null,
      "outputs": [
        {
          "data": {
            "text/plain": [
              "dtype('float64')"
            ]
          },
          "execution_count": 31,
          "metadata": {},
          "output_type": "execute_result"
        }
      ]
    },
    {
      "cell_type": "code",
      "metadata": {
        "id": "6lMQfsTo5kAG",
        "outputId": "996a2f58-cc90-4299-f518-942ff128a9b6"
      },
      "source": [
        "arr = np.array([3.7, -1.2, -2.6, 0.5, 12.9, 10.1]) # 创建含有浮点数的ndarray\n",
        "arr # 查看"
      ],
      "execution_count": null,
      "outputs": [
        {
          "data": {
            "text/plain": [
              "array([ 3.7, -1.2, -2.6,  0.5, 12.9, 10.1])"
            ]
          },
          "execution_count": 32,
          "metadata": {},
          "output_type": "execute_result"
        }
      ]
    },
    {
      "cell_type": "code",
      "metadata": {
        "id": "-2-vH7rW5kAG",
        "outputId": "2a709f3e-49fe-4454-d108-cb78133138e1"
      },
      "source": [
        "arr.dtype # 看一下数据类型，是float64"
      ],
      "execution_count": null,
      "outputs": [
        {
          "data": {
            "text/plain": [
              "dtype('float64')"
            ]
          },
          "execution_count": 33,
          "metadata": {},
          "output_type": "execute_result"
        }
      ]
    },
    {
      "cell_type": "code",
      "metadata": {
        "id": "bZAVXEfG5kAG",
        "outputId": "a8e75b11-6e67-4186-9e94-59da61d7fb28"
      },
      "source": [
        "arr.astype(np.int32) # 转化数据类型，从float到integer，小数点后的部分被消除"
      ],
      "execution_count": null,
      "outputs": [
        {
          "data": {
            "text/plain": [
              "array([ 3, -1, -2,  0, 12, 10], dtype=int32)"
            ]
          },
          "execution_count": 34,
          "metadata": {},
          "output_type": "execute_result"
        }
      ]
    },
    {
      "cell_type": "code",
      "metadata": {
        "id": "4SJTeAti5kAG",
        "outputId": "e3860d15-5da8-498c-9dc3-29154696af82"
      },
      "source": [
        "numeric_strings = np.array(['1.25', '-9.6', '42'],\n",
        "                           dtype=np.string_) # 字符串类型\n",
        "numeric_strings"
      ],
      "execution_count": null,
      "outputs": [
        {
          "data": {
            "text/plain": [
              "array([b'1.25', b'-9.6', b'42'], dtype='|S4')"
            ]
          },
          "execution_count": 35,
          "metadata": {},
          "output_type": "execute_result"
        }
      ]
    },
    {
      "cell_type": "code",
      "metadata": {
        "id": "bfvlbMAp5kAG",
        "outputId": "f9dda108-8166-401f-94f4-c02982a5e14d"
      },
      "source": [
        "numeric_strings.astype(float)\n",
        "numeric_strings"
      ],
      "execution_count": null,
      "outputs": [
        {
          "data": {
            "text/plain": [
              "array([b'1.25', b'-9.6', b'42'], dtype='|S4')"
            ]
          },
          "execution_count": 36,
          "metadata": {},
          "output_type": "execute_result"
        }
      ]
    },
    {
      "cell_type": "code",
      "metadata": {
        "id": "BHzSPcz-5kAH",
        "scrolled": false,
        "outputId": "31ab9896-1771-4792-f242-007eb876ef54"
      },
      "source": [
        "int_array = np.arange(10)\n",
        "int_array"
      ],
      "execution_count": null,
      "outputs": [
        {
          "data": {
            "text/plain": [
              "array([0, 1, 2, 3, 4, 5, 6, 7, 8, 9])"
            ]
          },
          "execution_count": 37,
          "metadata": {},
          "output_type": "execute_result"
        }
      ]
    },
    {
      "cell_type": "code",
      "metadata": {
        "id": "lK5sF46F5kAH",
        "scrolled": true,
        "outputId": "aa12572d-d63d-4a25-cea4-de4f41dfcfe6"
      },
      "source": [
        "calibers = np.array([.22, .270, .357, .380, .44, .50],\n",
        "                    dtype = np.float64)\n",
        "int_array.astype(calibers.dtype)"
      ],
      "execution_count": null,
      "outputs": [
        {
          "data": {
            "text/plain": [
              "array([0., 1., 2., 3., 4., 5., 6., 7., 8., 9.])"
            ]
          },
          "execution_count": 38,
          "metadata": {},
          "output_type": "execute_result"
        }
      ]
    },
    {
      "cell_type": "code",
      "metadata": {
        "id": "h6_rN-nl5kAH",
        "outputId": "a478589f-e28c-4d2a-fb10-b4ae07112f13"
      },
      "source": [
        "empty_uint32 = np.empty(8,\n",
        "                        dtype='u4') # 使用类型代码指定数据类型\n",
        "empty_uint32"
      ],
      "execution_count": null,
      "outputs": [
        {
          "data": {
            "text/plain": [
              "array([         0, 1075314688,          0, 1075707904,          0,\n",
              "       1075838976,          0, 1072693248], dtype=uint32)"
            ]
          },
          "execution_count": 39,
          "metadata": {},
          "output_type": "execute_result"
        }
      ]
    },
    {
      "cell_type": "markdown",
      "metadata": {
        "id": "l58YQrHb5kAH"
      },
      "source": [
        "### 数组算术"
      ]
    },
    {
      "cell_type": "code",
      "metadata": {
        "id": "e-EmjEJG5kAH"
      },
      "source": [
        "arr = np.array([[1., 2., 3.], # 创建ndarray\n",
        "                [4., 5., 6.]])\n",
        "arr # 查看ndarray"
      ],
      "execution_count": null,
      "outputs": []
    },
    {
      "cell_type": "code",
      "metadata": {
        "id": "-C7r8fBd5kAH",
        "scrolled": true
      },
      "source": [
        "arr * arr # 元素相对应相乘"
      ],
      "execution_count": null,
      "outputs": []
    },
    {
      "cell_type": "code",
      "metadata": {
        "id": "spF3KhMK5kAH",
        "outputId": "3d2c87ca-6b8f-49b9-83ea-1a5357d6ec5e"
      },
      "source": [
        "arr - arr # 元素相对应相减"
      ],
      "execution_count": null,
      "outputs": [
        {
          "data": {
            "text/plain": [
              "array([[0., 0., 0.],\n",
              "       [0., 0., 0.]])"
            ]
          },
          "execution_count": 42,
          "metadata": {},
          "output_type": "execute_result"
        }
      ]
    },
    {
      "cell_type": "code",
      "metadata": {
        "id": "aLM8Z4EC5kAI",
        "scrolled": true,
        "outputId": "75fc0b88-8f77-4caa-f464-435fb7ce968f"
      },
      "source": [
        "1 / arr # 1除以每个元素"
      ],
      "execution_count": null,
      "outputs": [
        {
          "data": {
            "text/plain": [
              "array([[1.    , 0.5   , 0.3333],\n",
              "       [0.25  , 0.2   , 0.1667]])"
            ]
          },
          "execution_count": 43,
          "metadata": {},
          "output_type": "execute_result"
        }
      ]
    },
    {
      "cell_type": "code",
      "metadata": {
        "id": "QyOI_t1x5kAI",
        "outputId": "82c53332-f478-4d0e-ebad-5a8001b3554d"
      },
      "source": [
        "arr ** 0.5 # 每个元素取根号"
      ],
      "execution_count": null,
      "outputs": [
        {
          "data": {
            "text/plain": [
              "array([[1.    , 1.4142, 1.7321],\n",
              "       [2.    , 2.2361, 2.4495]])"
            ]
          },
          "execution_count": 44,
          "metadata": {},
          "output_type": "execute_result"
        }
      ]
    },
    {
      "cell_type": "code",
      "metadata": {
        "id": "bvrNgfqs5kAI",
        "scrolled": true,
        "outputId": "27fd6a9b-7863-4f5f-c820-4a4c890211db"
      },
      "source": [
        "arr2 = np.array([[0., 4., 1.], # 创建ndarray\n",
        "                 [7., 2., 12.]])\n",
        "arr2 # 查看ndarray"
      ],
      "execution_count": null,
      "outputs": [
        {
          "data": {
            "text/plain": [
              "array([[ 0.,  4.,  1.],\n",
              "       [ 7.,  2., 12.]])"
            ]
          },
          "execution_count": 45,
          "metadata": {},
          "output_type": "execute_result"
        }
      ]
    },
    {
      "cell_type": "code",
      "metadata": {
        "id": "8o7sa_6R5kAI",
        "outputId": "4bb48ccb-05e1-4b53-fcc3-06791e97e6f0"
      },
      "source": [
        "arr2 > arr"
      ],
      "execution_count": null,
      "outputs": [
        {
          "data": {
            "text/plain": [
              "array([[False,  True, False],\n",
              "       [ True, False,  True]])"
            ]
          },
          "execution_count": 46,
          "metadata": {},
          "output_type": "execute_result"
        }
      ]
    },
    {
      "cell_type": "markdown",
      "metadata": {
        "id": "km2OK6Hg5kAI"
      },
      "source": [
        "### 基础索引与切片"
      ]
    },
    {
      "cell_type": "code",
      "metadata": {
        "id": "N_04tjTi5kAI",
        "outputId": "4e5d24e8-035c-4dcd-ad94-63512b0aa118"
      },
      "source": [
        "arr = np.arange(10)\n",
        "arr"
      ],
      "execution_count": null,
      "outputs": [
        {
          "data": {
            "text/plain": [
              "array([0, 1, 2, 3, 4, 5, 6, 7, 8, 9])"
            ]
          },
          "execution_count": 47,
          "metadata": {},
          "output_type": "execute_result"
        }
      ]
    },
    {
      "cell_type": "code",
      "metadata": {
        "id": "YHnCYMM25kAI",
        "outputId": "d1654221-fb04-4a4e-e807-6ed72d53c54e"
      },
      "source": [
        "arr[5] # 使用index来索引"
      ],
      "execution_count": null,
      "outputs": [
        {
          "data": {
            "text/plain": [
              "5"
            ]
          },
          "execution_count": 48,
          "metadata": {},
          "output_type": "execute_result"
        }
      ]
    },
    {
      "cell_type": "code",
      "metadata": {
        "id": "ELMFh6H95kAJ",
        "outputId": "6e445189-a566-4d75-9c12-6fc1ef09ec43"
      },
      "source": [
        "arr[5:8] # 使用index来切片"
      ],
      "execution_count": null,
      "outputs": [
        {
          "data": {
            "text/plain": [
              "array([5, 6, 7])"
            ]
          },
          "execution_count": 49,
          "metadata": {},
          "output_type": "execute_result"
        }
      ]
    },
    {
      "cell_type": "code",
      "metadata": {
        "id": "C74Z9bC_5kAJ",
        "outputId": "2f966cb2-f6d2-46b4-b62e-eb8bb35fadbb"
      },
      "source": [
        "arr[5:8] = 12 # 使用切片来赋值\n",
        "arr"
      ],
      "execution_count": null,
      "outputs": [
        {
          "data": {
            "text/plain": [
              "array([ 0,  1,  2,  3,  4, 12, 12, 12,  8,  9])"
            ]
          },
          "execution_count": 50,
          "metadata": {},
          "output_type": "execute_result"
        }
      ]
    },
    {
      "cell_type": "code",
      "metadata": {
        "id": "x_ueNUvb5kAJ",
        "outputId": "b5cdeba5-6074-40b6-f3f4-5341a5bb6ebc"
      },
      "source": [
        "arr_slice = arr[5:8] # 将数组进行切片，定义新变量\n",
        "arr_slice # "
      ],
      "execution_count": null,
      "outputs": [
        {
          "data": {
            "text/plain": [
              "array([12, 12, 12])"
            ]
          },
          "execution_count": 51,
          "metadata": {},
          "output_type": "execute_result"
        }
      ]
    },
    {
      "cell_type": "code",
      "metadata": {
        "id": "bhAGG5Ly5kAJ",
        "outputId": "469afa09-2aae-417a-88c4-9f4e9f9e58cf"
      },
      "source": [
        "arr_slice[1] = 12345\n",
        "arr # 查看arr，可以看到更改arr_slice的话arr也变了，因为数组的切片是数组的视图，不会复制。"
      ],
      "execution_count": null,
      "outputs": [
        {
          "data": {
            "text/plain": [
              "array([    0,     1,     2,     3,     4,    12, 12345,    12,     8,\n",
              "           9])"
            ]
          },
          "execution_count": 52,
          "metadata": {},
          "output_type": "execute_result"
        }
      ]
    },
    {
      "cell_type": "code",
      "metadata": {
        "id": "III01-li5kAJ",
        "outputId": "1294921e-be38-423c-e9be-3392437e89f6"
      },
      "source": [
        "arr_slice[:] = 64 # [:] = 所有\n",
        "arr"
      ],
      "execution_count": null,
      "outputs": [
        {
          "data": {
            "text/plain": [
              "array([ 0,  1,  2,  3,  4, 64, 64, 64,  8,  9])"
            ]
          },
          "execution_count": 53,
          "metadata": {},
          "output_type": "execute_result"
        }
      ]
    },
    {
      "cell_type": "code",
      "metadata": {
        "id": "sxd7DX5m5kAK",
        "outputId": "227f0608-a344-4f43-d237-dbde50ca9855"
      },
      "source": [
        "                 # 0  1  2 \n",
        "arr2d = np.array([[1, 2, 3],  # 0\n",
        "                  [4, 5, 6],  # 1\n",
        "                  [7, 8, 9]]) # 2\n",
        "arr2d[2]"
      ],
      "execution_count": null,
      "outputs": [
        {
          "data": {
            "text/plain": [
              "array([7, 8, 9])"
            ]
          },
          "execution_count": 54,
          "metadata": {},
          "output_type": "execute_result"
        }
      ]
    },
    {
      "cell_type": "code",
      "metadata": {
        "id": "MLzE-IKm5kAK",
        "outputId": "a23de2f5-2a5d-41fd-bd97-71db7dc14382"
      },
      "source": [
        "arr2d[0][2]"
      ],
      "execution_count": null,
      "outputs": [
        {
          "data": {
            "text/plain": [
              "3"
            ]
          },
          "execution_count": 55,
          "metadata": {},
          "output_type": "execute_result"
        }
      ]
    },
    {
      "cell_type": "code",
      "metadata": {
        "id": "vaP2EU9y5kAK",
        "outputId": "461180e9-c267-45ce-d399-bb62e439f9cb"
      },
      "source": [
        "arr2d[0,2]"
      ],
      "execution_count": null,
      "outputs": [
        {
          "data": {
            "text/plain": [
              "3"
            ]
          },
          "execution_count": 56,
          "metadata": {},
          "output_type": "execute_result"
        }
      ]
    },
    {
      "cell_type": "code",
      "metadata": {
        "id": "Rmc4XIWQ5kAK",
        "outputId": "ac6d0062-ec96-48af-8492-7cd3f4416c3d"
      },
      "source": [
        "arr3d = np.array([[[1, 2, 3],     # 0\n",
        "                   [4, 5, 6]],\n",
        "                  [[7, 8, 9],     # 1\n",
        "                   [10, 11, 12]]])\n",
        "arr3d"
      ],
      "execution_count": null,
      "outputs": [
        {
          "data": {
            "text/plain": [
              "array([[[ 1,  2,  3],\n",
              "        [ 4,  5,  6]],\n",
              "\n",
              "       [[ 7,  8,  9],\n",
              "        [10, 11, 12]]])"
            ]
          },
          "execution_count": 57,
          "metadata": {},
          "output_type": "execute_result"
        }
      ]
    },
    {
      "cell_type": "code",
      "metadata": {
        "id": "quSo7NfT5kAK",
        "outputId": "7b0bdd0f-0f1d-4a23-d0be-c6ad2b2854fb"
      },
      "source": [
        "arr3d.shape"
      ],
      "execution_count": null,
      "outputs": [
        {
          "data": {
            "text/plain": [
              "(2, 2, 3)"
            ]
          },
          "execution_count": 58,
          "metadata": {},
          "output_type": "execute_result"
        }
      ]
    },
    {
      "cell_type": "code",
      "metadata": {
        "id": "-NGTOn6n5kAK",
        "outputId": "aff6859d-6bb2-452b-b3c8-be464d95968b"
      },
      "source": [
        "arr3d[0]"
      ],
      "execution_count": null,
      "outputs": [
        {
          "data": {
            "text/plain": [
              "array([[1, 2, 3],\n",
              "       [4, 5, 6]])"
            ]
          },
          "execution_count": 59,
          "metadata": {},
          "output_type": "execute_result"
        }
      ]
    },
    {
      "cell_type": "code",
      "metadata": {
        "id": "p6MVZ4Nk5kAL",
        "outputId": "65b72037-06d9-4046-e14c-dc7ebb3bda34"
      },
      "source": [
        "old_values = arr3d[0].copy()\n",
        "old_values"
      ],
      "execution_count": null,
      "outputs": [
        {
          "data": {
            "text/plain": [
              "array([[1, 2, 3],\n",
              "       [4, 5, 6]])"
            ]
          },
          "execution_count": 60,
          "metadata": {},
          "output_type": "execute_result"
        }
      ]
    },
    {
      "cell_type": "code",
      "metadata": {
        "id": "0B_oGo_z5kAL",
        "outputId": "cbc2ad10-2245-4e1a-a58f-eb9af8dc87e2"
      },
      "source": [
        "arr3d[0] = 42\n",
        "arr3d"
      ],
      "execution_count": null,
      "outputs": [
        {
          "data": {
            "text/plain": [
              "array([[[42, 42, 42],\n",
              "        [42, 42, 42]],\n",
              "\n",
              "       [[ 7,  8,  9],\n",
              "        [10, 11, 12]]])"
            ]
          },
          "execution_count": 61,
          "metadata": {},
          "output_type": "execute_result"
        }
      ]
    },
    {
      "cell_type": "code",
      "metadata": {
        "id": "N4te3Gk_5kAL",
        "outputId": "a1430b1c-529b-4aa7-e121-4c62fddc9a24"
      },
      "source": [
        "arr3d[0] = old_values\n",
        "arr3d"
      ],
      "execution_count": null,
      "outputs": [
        {
          "data": {
            "text/plain": [
              "array([[[ 1,  2,  3],\n",
              "        [ 4,  5,  6]],\n",
              "\n",
              "       [[ 7,  8,  9],\n",
              "        [10, 11, 12]]])"
            ]
          },
          "execution_count": 62,
          "metadata": {},
          "output_type": "execute_result"
        }
      ]
    },
    {
      "cell_type": "code",
      "metadata": {
        "id": "NpLSUMJO5kAL",
        "outputId": "88d2e2f9-46dc-4072-adc6-46908faac807"
      },
      "source": [
        "arr3d[1, 0]"
      ],
      "execution_count": null,
      "outputs": [
        {
          "data": {
            "text/plain": [
              "array([7, 8, 9])"
            ]
          },
          "execution_count": 63,
          "metadata": {},
          "output_type": "execute_result"
        }
      ]
    },
    {
      "cell_type": "code",
      "metadata": {
        "id": "yH0IKZEV5kAL",
        "outputId": "3e6c7023-1f33-490d-b922-e6d48ad80255"
      },
      "source": [
        "x = arr3d[1]\n",
        "x"
      ],
      "execution_count": null,
      "outputs": [
        {
          "data": {
            "text/plain": [
              "array([[ 7,  8,  9],\n",
              "       [10, 11, 12]])"
            ]
          },
          "execution_count": 64,
          "metadata": {},
          "output_type": "execute_result"
        }
      ]
    },
    {
      "cell_type": "code",
      "metadata": {
        "id": "G0v5kBQG5kAL",
        "outputId": "24221341-ac60-4e8c-8bb5-26384ed2660e"
      },
      "source": [
        "x[0]"
      ],
      "execution_count": null,
      "outputs": [
        {
          "data": {
            "text/plain": [
              "array([7, 8, 9])"
            ]
          },
          "execution_count": 65,
          "metadata": {},
          "output_type": "execute_result"
        }
      ]
    },
    {
      "cell_type": "markdown",
      "metadata": {
        "id": "YkUA1RfF5kAM"
      },
      "source": [
        "#### Indexing with slices"
      ]
    },
    {
      "cell_type": "code",
      "metadata": {
        "id": "DZaszl5G5kAM",
        "outputId": "6260476c-4749-45b7-eb23-5ce49e0b4a69"
      },
      "source": [
        "arr # 查看ndarray"
      ],
      "execution_count": null,
      "outputs": [
        {
          "data": {
            "text/plain": [
              "array([0, 1, 2, 3, 4, 5, 6, 7, 8, 9])"
            ]
          },
          "execution_count": 185,
          "metadata": {},
          "output_type": "execute_result"
        }
      ]
    },
    {
      "cell_type": "code",
      "metadata": {
        "id": "8Atv8AOf5kAM",
        "outputId": "e2ff7deb-c875-4cb5-abd5-be66a662e7f5"
      },
      "source": [
        "arr[1:6] # 切片"
      ],
      "execution_count": null,
      "outputs": [
        {
          "data": {
            "text/plain": [
              "array([1, 2, 3, 4, 5])"
            ]
          },
          "execution_count": 186,
          "metadata": {},
          "output_type": "execute_result"
        }
      ]
    },
    {
      "cell_type": "code",
      "metadata": {
        "id": "fdcsdZs65kAM",
        "outputId": "b1ddda10-a056-42ac-d265-2f81f9c862c8"
      },
      "source": [
        "arr2d # 查看ndarray"
      ],
      "execution_count": null,
      "outputs": [
        {
          "data": {
            "text/plain": [
              "array([[1, 0, 0],\n",
              "       [4, 0, 0],\n",
              "       [7, 8, 9]])"
            ]
          },
          "execution_count": 187,
          "metadata": {},
          "output_type": "execute_result"
        }
      ]
    },
    {
      "cell_type": "code",
      "metadata": {
        "id": "VpJsEFue5kAM",
        "outputId": "fd3b477d-4236-41b8-8fd4-f0d437138c5f"
      },
      "source": [
        "arr2d[:2] # 前两行"
      ],
      "execution_count": null,
      "outputs": [
        {
          "data": {
            "text/plain": [
              "array([[1, 0, 0],\n",
              "       [4, 0, 0]])"
            ]
          },
          "execution_count": 188,
          "metadata": {},
          "output_type": "execute_result"
        }
      ]
    },
    {
      "cell_type": "code",
      "metadata": {
        "id": "vqK5k-pR5kAM",
        "outputId": "b6061138-8257-4429-c326-f75400e815e9"
      },
      "source": [
        "arr2d[:2, 1:] # 两个条件：前两行+第1列及之后"
      ],
      "execution_count": null,
      "outputs": [
        {
          "data": {
            "text/plain": [
              "array([[0, 0],\n",
              "       [0, 0]])"
            ]
          },
          "execution_count": 189,
          "metadata": {},
          "output_type": "execute_result"
        }
      ]
    },
    {
      "cell_type": "code",
      "metadata": {
        "id": "a9_aYGua5kAM",
        "outputId": "0e26bc7c-0185-4baf-aa15-85cc41ab9788"
      },
      "source": [
        "arr2d[1, :2] # 第1行，前两列"
      ],
      "execution_count": null,
      "outputs": [
        {
          "data": {
            "text/plain": [
              "array([4, 5])"
            ]
          },
          "execution_count": 71,
          "metadata": {},
          "output_type": "execute_result"
        }
      ]
    },
    {
      "cell_type": "code",
      "metadata": {
        "id": "zx8PHaLy5kAN",
        "outputId": "156c49d1-04e0-45ba-d6b4-4c09fa9f78f5"
      },
      "source": [
        "arr2d[:2, 2] # 前两行，第2列"
      ],
      "execution_count": null,
      "outputs": [
        {
          "data": {
            "text/plain": [
              "array([3, 6])"
            ]
          },
          "execution_count": 72,
          "metadata": {},
          "output_type": "execute_result"
        }
      ]
    },
    {
      "cell_type": "code",
      "metadata": {
        "id": "uXqCedMh5kAN",
        "outputId": "68859737-6199-46f1-fbf8-1be8ba2310b5"
      },
      "source": [
        "arr2d[:, :1] # 所有行，第一列→(3,1)的ndarray"
      ],
      "execution_count": null,
      "outputs": [
        {
          "data": {
            "text/plain": [
              "array([[1],\n",
              "       [4],\n",
              "       [7]])"
            ]
          },
          "execution_count": 73,
          "metadata": {},
          "output_type": "execute_result"
        }
      ]
    },
    {
      "cell_type": "code",
      "metadata": {
        "id": "aQo9WEsX5kAN",
        "outputId": "d4129ce0-9805-47fe-f8bb-8342378c919f"
      },
      "source": [
        "arr2d[:2, 1:] = 0 # 切片赋值为0：前两行+第1列及之后\n",
        "arr2d"
      ],
      "execution_count": null,
      "outputs": [
        {
          "data": {
            "text/plain": [
              "array([[1, 0, 0],\n",
              "       [4, 0, 0],\n",
              "       [7, 8, 9]])"
            ]
          },
          "execution_count": 74,
          "metadata": {},
          "output_type": "execute_result"
        }
      ]
    },
    {
      "cell_type": "markdown",
      "metadata": {
        "id": "PZ9LZItV5kAN"
      },
      "source": [
        "### Boolean Indexing"
      ]
    },
    {
      "cell_type": "code",
      "metadata": {
        "id": "seylJNWX5kAN",
        "outputId": "74784255-f7eb-4ffc-dfff-6b27dbb906e7"
      },
      "source": [
        "names = np.array(['Bob', 'Joe', 'Will', 'Bob', 'Will', 'Joe', 'Joe']) # 创建ndarray\n",
        "names # 查看"
      ],
      "execution_count": null,
      "outputs": [
        {
          "data": {
            "text/plain": [
              "array(['Bob', 'Joe', 'Will', 'Bob', 'Will', 'Joe', 'Joe'], dtype='<U4')"
            ]
          },
          "execution_count": 75,
          "metadata": {},
          "output_type": "execute_result"
        }
      ]
    },
    {
      "cell_type": "code",
      "metadata": {
        "id": "yYV3rfCI5kAN",
        "outputId": "ac7e8ba0-a97a-495c-8171-dd0b77ff9288"
      },
      "source": [
        "data = np.random.randn(7, 4) # 创建随机数值ndarray\n",
        "data # 查看ndarray"
      ],
      "execution_count": null,
      "outputs": [
        {
          "data": {
            "text/plain": [
              "array([[ 0.0929,  0.2817,  0.769 ,  1.2464],\n",
              "       [ 1.0072, -1.2962,  0.275 ,  0.2289],\n",
              "       [ 1.3529,  0.8864, -2.0016, -0.3718],\n",
              "       [ 1.669 , -0.4386, -0.5397,  0.477 ],\n",
              "       [ 3.2489, -1.0212, -0.5771,  0.1241],\n",
              "       [ 0.3026,  0.5238,  0.0009,  1.3438],\n",
              "       [-0.7135, -0.8312, -2.3702, -1.8608]])"
            ]
          },
          "execution_count": 76,
          "metadata": {},
          "output_type": "execute_result"
        }
      ]
    },
    {
      "cell_type": "code",
      "metadata": {
        "id": "PK3F1sIG5kAO",
        "outputId": "6ceee2d7-5dce-4edf-cd0f-937e4a514d80"
      },
      "source": [
        "names == 'Bob' # 判断"
      ],
      "execution_count": null,
      "outputs": [
        {
          "data": {
            "text/plain": [
              "array([ True, False, False,  True, False, False, False])"
            ]
          },
          "execution_count": 77,
          "metadata": {},
          "output_type": "execute_result"
        }
      ]
    },
    {
      "cell_type": "code",
      "metadata": {
        "id": "WODDwv6x5kAO",
        "outputId": "1a7b1199-31bc-49bb-fb8c-6fa4b4f158a4"
      },
      "source": [
        "data[names == 'Bob'] # 输出True的行"
      ],
      "execution_count": null,
      "outputs": [
        {
          "data": {
            "text/plain": [
              "array([[ 0.0929,  0.2817,  0.769 ,  1.2464],\n",
              "       [ 1.669 , -0.4386, -0.5397,  0.477 ]])"
            ]
          },
          "execution_count": 78,
          "metadata": {},
          "output_type": "execute_result"
        }
      ]
    },
    {
      "cell_type": "code",
      "metadata": {
        "id": "YSoc_UWh5kAO",
        "scrolled": true,
        "outputId": "e61003a3-ade7-47de-cc53-c657613eb340"
      },
      "source": [
        "data[names == 'Bob', 2:]"
      ],
      "execution_count": null,
      "outputs": [
        {
          "data": {
            "text/plain": [
              "array([[ 0.769 ,  1.2464],\n",
              "       [-0.5397,  0.477 ]])"
            ]
          },
          "execution_count": 79,
          "metadata": {},
          "output_type": "execute_result"
        }
      ]
    },
    {
      "cell_type": "code",
      "metadata": {
        "id": "sXQf20DC5kAO",
        "outputId": "7f569973-c4d9-44f4-a5b4-b55203a5c538"
      },
      "source": [
        "data[names == 'Bob', 3]"
      ],
      "execution_count": null,
      "outputs": [
        {
          "data": {
            "text/plain": [
              "array([1.2464, 0.477 ])"
            ]
          },
          "execution_count": 80,
          "metadata": {},
          "output_type": "execute_result"
        }
      ]
    },
    {
      "cell_type": "code",
      "metadata": {
        "id": "AJUOma9V5kAO",
        "scrolled": true,
        "outputId": "a608df85-bb0d-4566-fd12-816617b69c16"
      },
      "source": [
        "names != 'Bob'"
      ],
      "execution_count": null,
      "outputs": [
        {
          "data": {
            "text/plain": [
              "array([False,  True,  True, False,  True,  True,  True])"
            ]
          },
          "execution_count": 81,
          "metadata": {},
          "output_type": "execute_result"
        }
      ]
    },
    {
      "cell_type": "code",
      "metadata": {
        "id": "8SM5ilaN5kAO",
        "outputId": "a991bc2f-abcc-46aa-86ae-c84a76a0c5be"
      },
      "source": [
        "data[~(names == 'Bob')]"
      ],
      "execution_count": null,
      "outputs": [
        {
          "data": {
            "text/plain": [
              "array([[ 1.0072, -1.2962,  0.275 ,  0.2289],\n",
              "       [ 1.3529,  0.8864, -2.0016, -0.3718],\n",
              "       [ 3.2489, -1.0212, -0.5771,  0.1241],\n",
              "       [ 0.3026,  0.5238,  0.0009,  1.3438],\n",
              "       [-0.7135, -0.8312, -2.3702, -1.8608]])"
            ]
          },
          "execution_count": 82,
          "metadata": {},
          "output_type": "execute_result"
        }
      ]
    },
    {
      "cell_type": "code",
      "metadata": {
        "id": "bohFEdGE5kAO",
        "outputId": "5f58933a-7306-4a8f-88c7-8f619795a9dc"
      },
      "source": [
        "cond = names == 'Bob'\n",
        "data[~cond]"
      ],
      "execution_count": null,
      "outputs": [
        {
          "data": {
            "text/plain": [
              "array([[ 1.0072, -1.2962,  0.275 ,  0.2289],\n",
              "       [ 1.3529,  0.8864, -2.0016, -0.3718],\n",
              "       [ 3.2489, -1.0212, -0.5771,  0.1241],\n",
              "       [ 0.3026,  0.5238,  0.0009,  1.3438],\n",
              "       [-0.7135, -0.8312, -2.3702, -1.8608]])"
            ]
          },
          "execution_count": 83,
          "metadata": {},
          "output_type": "execute_result"
        }
      ]
    },
    {
      "cell_type": "code",
      "metadata": {
        "id": "ij2MhfXd5kAP",
        "outputId": "f3473c27-57eb-4290-a8f1-0ef49f3a3a69"
      },
      "source": [
        "mask = (names == 'Bob') | (names == 'Will')\n",
        "mask"
      ],
      "execution_count": null,
      "outputs": [
        {
          "data": {
            "text/plain": [
              "array([ True, False,  True,  True,  True, False, False])"
            ]
          },
          "execution_count": 84,
          "metadata": {},
          "output_type": "execute_result"
        }
      ]
    },
    {
      "cell_type": "code",
      "metadata": {
        "id": "FWl68dH05kAP",
        "outputId": "e45d02d5-9d29-43a0-dd6e-77ef7cd17c45"
      },
      "source": [
        "data[mask]"
      ],
      "execution_count": null,
      "outputs": [
        {
          "data": {
            "text/plain": [
              "array([[ 0.0929,  0.2817,  0.769 ,  1.2464],\n",
              "       [ 1.3529,  0.8864, -2.0016, -0.3718],\n",
              "       [ 1.669 , -0.4386, -0.5397,  0.477 ],\n",
              "       [ 3.2489, -1.0212, -0.5771,  0.1241]])"
            ]
          },
          "execution_count": 85,
          "metadata": {},
          "output_type": "execute_result"
        }
      ]
    },
    {
      "cell_type": "code",
      "metadata": {
        "id": "Ec6I-rGX5kAP",
        "outputId": "58830971-7f6a-4805-9a2b-f3802a5aa1e6"
      },
      "source": [
        "data[data < 0] = 0 # 把data中小于0的值设为0\n",
        "data"
      ],
      "execution_count": null,
      "outputs": [
        {
          "data": {
            "text/plain": [
              "array([[0.0929, 0.2817, 0.769 , 1.2464],\n",
              "       [1.0072, 0.    , 0.275 , 0.2289],\n",
              "       [1.3529, 0.8864, 0.    , 0.    ],\n",
              "       [1.669 , 0.    , 0.    , 0.477 ],\n",
              "       [3.2489, 0.    , 0.    , 0.1241],\n",
              "       [0.3026, 0.5238, 0.0009, 1.3438],\n",
              "       [0.    , 0.    , 0.    , 0.    ]])"
            ]
          },
          "execution_count": 86,
          "metadata": {},
          "output_type": "execute_result"
        }
      ]
    },
    {
      "cell_type": "code",
      "metadata": {
        "id": "GkZhCqVv5kAP",
        "outputId": "e2eeac7a-43ae-4126-b6d5-dfb731b9c339"
      },
      "source": [
        "data[names != 'Joe'] = 7\n",
        "data"
      ],
      "execution_count": null,
      "outputs": [
        {
          "data": {
            "text/plain": [
              "array([[7.    , 7.    , 7.    , 7.    ],\n",
              "       [1.0072, 0.    , 0.275 , 0.2289],\n",
              "       [7.    , 7.    , 7.    , 7.    ],\n",
              "       [7.    , 7.    , 7.    , 7.    ],\n",
              "       [7.    , 7.    , 7.    , 7.    ],\n",
              "       [0.3026, 0.5238, 0.0009, 1.3438],\n",
              "       [0.    , 0.    , 0.    , 0.    ]])"
            ]
          },
          "execution_count": 87,
          "metadata": {},
          "output_type": "execute_result"
        }
      ]
    },
    {
      "cell_type": "markdown",
      "metadata": {
        "id": "KAnxNsd95kAP"
      },
      "source": [
        "### Fancy Indexing"
      ]
    },
    {
      "cell_type": "code",
      "metadata": {
        "id": "J27Cr5z-5kAP",
        "outputId": "8a285241-51f2-4d01-9aff-41076bf3db59"
      },
      "source": [
        "arr = np.empty((8, 4))\n",
        "for i in range(8):\n",
        "    arr[i] = i\n",
        "arr"
      ],
      "execution_count": null,
      "outputs": [
        {
          "data": {
            "text/plain": [
              "array([[0., 0., 0., 0.],\n",
              "       [1., 1., 1., 1.],\n",
              "       [2., 2., 2., 2.],\n",
              "       [3., 3., 3., 3.],\n",
              "       [4., 4., 4., 4.],\n",
              "       [5., 5., 5., 5.],\n",
              "       [6., 6., 6., 6.],\n",
              "       [7., 7., 7., 7.]])"
            ]
          },
          "execution_count": 88,
          "metadata": {},
          "output_type": "execute_result"
        }
      ]
    },
    {
      "cell_type": "code",
      "metadata": {
        "id": "iLyEQu4a5kAP",
        "outputId": "fbfb6301-13dc-4368-9cac-00d9ecefaac4"
      },
      "source": [
        "arr[[4, 3, 0, 6]]"
      ],
      "execution_count": null,
      "outputs": [
        {
          "data": {
            "text/plain": [
              "array([[4., 4., 4., 4.],\n",
              "       [3., 3., 3., 3.],\n",
              "       [0., 0., 0., 0.],\n",
              "       [6., 6., 6., 6.]])"
            ]
          },
          "execution_count": 89,
          "metadata": {},
          "output_type": "execute_result"
        }
      ]
    },
    {
      "cell_type": "code",
      "metadata": {
        "id": "8ULopdIK5kAP",
        "outputId": "83d6be3d-fe95-4302-9eb9-c673b867fafe"
      },
      "source": [
        "arr[[-3, -5, -7]]"
      ],
      "execution_count": null,
      "outputs": [
        {
          "data": {
            "text/plain": [
              "array([[5., 5., 5., 5.],\n",
              "       [3., 3., 3., 3.],\n",
              "       [1., 1., 1., 1.]])"
            ]
          },
          "execution_count": 90,
          "metadata": {},
          "output_type": "execute_result"
        }
      ]
    },
    {
      "cell_type": "code",
      "metadata": {
        "id": "KaWe5Ws85kAQ",
        "outputId": "b1adfa29-c225-45b7-a47b-ff4490b05327"
      },
      "source": [
        "arr = np.arange(32).reshape((8, 4))\n",
        "arr"
      ],
      "execution_count": null,
      "outputs": [
        {
          "data": {
            "text/plain": [
              "array([[ 0,  1,  2,  3],\n",
              "       [ 4,  5,  6,  7],\n",
              "       [ 8,  9, 10, 11],\n",
              "       [12, 13, 14, 15],\n",
              "       [16, 17, 18, 19],\n",
              "       [20, 21, 22, 23],\n",
              "       [24, 25, 26, 27],\n",
              "       [28, 29, 30, 31]])"
            ]
          },
          "execution_count": 91,
          "metadata": {},
          "output_type": "execute_result"
        }
      ]
    },
    {
      "cell_type": "code",
      "metadata": {
        "id": "GN-ndY7i5kAQ",
        "outputId": "8052819f-fc76-4277-ea20-4849f06c286e"
      },
      "source": [
        "arr[[1, 5, 7, 2],[0, 3, 1, 2]]"
      ],
      "execution_count": null,
      "outputs": [
        {
          "data": {
            "text/plain": [
              "array([ 4, 23, 29, 10])"
            ]
          },
          "execution_count": 92,
          "metadata": {},
          "output_type": "execute_result"
        }
      ]
    },
    {
      "cell_type": "code",
      "metadata": {
        "id": "0F8TN5IH5kAQ",
        "outputId": "9da35461-2c85-42f0-80d6-bdd2c8a9a77e"
      },
      "source": [
        "arr[[1, 5, 7, 2]][:, [0, 3, 1, 2]]"
      ],
      "execution_count": null,
      "outputs": [
        {
          "data": {
            "text/plain": [
              "array([[ 4,  7,  5,  6],\n",
              "       [20, 23, 21, 22],\n",
              "       [28, 31, 29, 30],\n",
              "       [ 8, 11,  9, 10]])"
            ]
          },
          "execution_count": 93,
          "metadata": {},
          "output_type": "execute_result"
        }
      ]
    },
    {
      "cell_type": "markdown",
      "metadata": {
        "id": "bywFHXF-5kAQ"
      },
      "source": [
        "### Transposing Arrays and Swapping Axes"
      ]
    },
    {
      "cell_type": "code",
      "metadata": {
        "id": "ppgDnC2y5kAQ",
        "scrolled": false,
        "outputId": "39d21177-5523-4cff-db35-c53781f56d38"
      },
      "source": [
        "arr = np.arange(15).reshape((3, 5)) # 创建ndarray\n",
        "arr # 查看"
      ],
      "execution_count": null,
      "outputs": [
        {
          "data": {
            "text/plain": [
              "array([[ 0,  1,  2,  3,  4],\n",
              "       [ 5,  6,  7,  8,  9],\n",
              "       [10, 11, 12, 13, 14]])"
            ]
          },
          "execution_count": 94,
          "metadata": {},
          "output_type": "execute_result"
        }
      ]
    },
    {
      "cell_type": "code",
      "metadata": {
        "id": "8O1opOLf5kAQ",
        "outputId": "53906579-a27b-4927-9481-6c98d8b9ff5f"
      },
      "source": [
        "arr.T # 转置"
      ],
      "execution_count": null,
      "outputs": [
        {
          "data": {
            "text/plain": [
              "array([[ 0,  5, 10],\n",
              "       [ 1,  6, 11],\n",
              "       [ 2,  7, 12],\n",
              "       [ 3,  8, 13],\n",
              "       [ 4,  9, 14]])"
            ]
          },
          "execution_count": 95,
          "metadata": {},
          "output_type": "execute_result"
        }
      ]
    },
    {
      "cell_type": "code",
      "metadata": {
        "id": "PVkAKrJ85kAQ",
        "outputId": "c6ca5c45-aca9-4365-f1bc-8fe06dd84bf2"
      },
      "source": [
        "arr = np.random.randn(6, 3) # 标准正态分布\n",
        "arr"
      ],
      "execution_count": null,
      "outputs": [
        {
          "data": {
            "text/plain": [
              "array([[-0.8608,  0.5601, -1.2659],\n",
              "       [ 0.1198, -1.0635,  0.3329],\n",
              "       [-2.3594, -0.1995, -1.542 ],\n",
              "       [-0.9707, -1.307 ,  0.2863],\n",
              "       [ 0.378 , -0.7539,  0.3313],\n",
              "       [ 1.3497,  0.0699,  0.2467]])"
            ]
          },
          "execution_count": 96,
          "metadata": {},
          "output_type": "execute_result"
        }
      ]
    },
    {
      "cell_type": "code",
      "metadata": {
        "id": "aIajHu6P5kAR",
        "outputId": "22dfe20d-5b4d-4e5a-bbc5-98df09836d5d"
      },
      "source": [
        "np.dot(arr.T, arr) # 点积 dot product"
      ],
      "execution_count": null,
      "outputs": [
        {
          "data": {
            "text/plain": [
              "array([[ 9.2291,  0.9394,  4.948 ],\n",
              "       [ 0.9394,  3.7662, -1.3622],\n",
              "       [ 4.948 , -1.3622,  4.3437]])"
            ]
          },
          "execution_count": 97,
          "metadata": {},
          "output_type": "execute_result"
        }
      ]
    },
    {
      "cell_type": "code",
      "metadata": {
        "id": "gtZ-teXK5kAR",
        "outputId": "7c1d6f99-2ff8-4394-fec3-ed38db1d9ace"
      },
      "source": [
        "arr = np.arange(16).reshape((2, 2, 4)) # \n",
        "arr"
      ],
      "execution_count": null,
      "outputs": [
        {
          "data": {
            "text/plain": [
              "array([[[ 0,  1,  2,  3],\n",
              "        [ 4,  5,  6,  7]],\n",
              "\n",
              "       [[ 8,  9, 10, 11],\n",
              "        [12, 13, 14, 15]]])"
            ]
          },
          "execution_count": 98,
          "metadata": {},
          "output_type": "execute_result"
        }
      ]
    },
    {
      "cell_type": "code",
      "metadata": {
        "id": "gSred2bENXRp",
        "outputId": "7ae7cf46-f06f-4690-cf17-12afbf567057"
      },
      "source": [
        "arr.transpose((1, 0, 2)) # (0,1,2)变成(1,0,2)，替换了0维和1维"
      ],
      "execution_count": null,
      "outputs": [
        {
          "data": {
            "text/plain": [
              "array([[[ 0,  1,  2,  3],\n",
              "        [ 8,  9, 10, 11]],\n",
              "\n",
              "       [[ 4,  5,  6,  7],\n",
              "        [12, 13, 14, 15]]])"
            ]
          },
          "execution_count": 99,
          "metadata": {},
          "output_type": "execute_result"
        }
      ]
    },
    {
      "cell_type": "code",
      "metadata": {
        "id": "FmGED_PrNXRp",
        "outputId": "6f35a6f7-495a-4f2c-f932-b9c043e36828"
      },
      "source": [
        "arr.swapaxes(1, 2) # 换1维和2维，等于用 transpose(0,2,1)"
      ],
      "execution_count": null,
      "outputs": [
        {
          "data": {
            "text/plain": [
              "array([[[ 0,  4],\n",
              "        [ 1,  5],\n",
              "        [ 2,  6],\n",
              "        [ 3,  7]],\n",
              "\n",
              "       [[ 8, 12],\n",
              "        [ 9, 13],\n",
              "        [10, 14],\n",
              "        [11, 15]]])"
            ]
          },
          "execution_count": 100,
          "metadata": {},
          "output_type": "execute_result"
        }
      ]
    },
    {
      "cell_type": "code",
      "metadata": {
        "id": "K1BQyyGhNXRp",
        "outputId": "521b1dcd-d04a-4035-b9bd-5863e3f818cf"
      },
      "source": [
        "arr.transpose(0,2,1) # 和上面结果一样"
      ],
      "execution_count": null,
      "outputs": [
        {
          "data": {
            "text/plain": [
              "array([[[ 0,  4],\n",
              "        [ 1,  5],\n",
              "        [ 2,  6],\n",
              "        [ 3,  7]],\n",
              "\n",
              "       [[ 8, 12],\n",
              "        [ 9, 13],\n",
              "        [10, 14],\n",
              "        [11, 15]]])"
            ]
          },
          "execution_count": 101,
          "metadata": {},
          "output_type": "execute_result"
        }
      ]
    },
    {
      "cell_type": "markdown",
      "metadata": {
        "id": "tG8a8iPW5kAR"
      },
      "source": [
        "## Universal Functions: Fast Element-Wise Array Functions\n",
        "\n",
        "通用函数：`ufunc`"
      ]
    },
    {
      "cell_type": "markdown",
      "metadata": {
        "id": "jUFjv9I8XiHf"
      },
      "source": [
        "一元通用函数：`sqrt()`和`exp()`"
      ]
    },
    {
      "cell_type": "code",
      "metadata": {
        "id": "irp-J8kD5kAR",
        "outputId": "3dcf7e74-5c04-4941-c210-ab0c0bcba3e2"
      },
      "source": [
        "arr = np.arange(10)\n",
        "arr"
      ],
      "execution_count": null,
      "outputs": [
        {
          "data": {
            "text/plain": [
              "array([0, 1, 2, 3, 4, 5, 6, 7, 8, 9])"
            ]
          },
          "execution_count": 102,
          "metadata": {},
          "output_type": "execute_result"
        }
      ]
    },
    {
      "cell_type": "code",
      "metadata": {
        "id": "RikTcwlYNXRq",
        "outputId": "10c7ca11-4c36-4f6b-b264-02d25f39a8bf"
      },
      "source": [
        "np.sqrt(arr) # 取根号"
      ],
      "execution_count": null,
      "outputs": [
        {
          "data": {
            "text/plain": [
              "array([0.    , 1.    , 1.4142, 1.7321, 2.    , 2.2361, 2.4495, 2.6458,\n",
              "       2.8284, 3.    ])"
            ]
          },
          "execution_count": 103,
          "metadata": {},
          "output_type": "execute_result"
        }
      ]
    },
    {
      "cell_type": "code",
      "metadata": {
        "id": "tiQYb_rhNXRq",
        "scrolled": true,
        "outputId": "9f9e05db-caff-43c3-e17d-37c54ad07bd1"
      },
      "source": [
        "np.exp(arr) # e ** arr"
      ],
      "execution_count": null,
      "outputs": [
        {
          "data": {
            "text/plain": [
              "array([   1.    ,    2.7183,    7.3891,   20.0855,   54.5982,  148.4132,\n",
              "        403.4288, 1096.6332, 2980.958 , 8103.0839])"
            ]
          },
          "execution_count": 104,
          "metadata": {},
          "output_type": "execute_result"
        }
      ]
    },
    {
      "cell_type": "markdown",
      "metadata": {
        "id": "mzNRSniQXiHg"
      },
      "source": [
        "二元通用函数：两个数组作为输入，返回一个数组作为结果\n",
        "\n",
        "`add`和`maximum`"
      ]
    },
    {
      "cell_type": "code",
      "metadata": {
        "id": "XXS4khtH5kAR",
        "outputId": "47bcdb6b-0fa1-4990-ef98-07f820449ece"
      },
      "source": [
        "x = np.random.randn(8)\n",
        "x"
      ],
      "execution_count": null,
      "outputs": [
        {
          "data": {
            "text/plain": [
              "array([-0.0119,  1.0048,  1.3272, -0.9193, -1.5491,  0.0222,  0.7584,\n",
              "       -0.6605])"
            ]
          },
          "execution_count": 105,
          "metadata": {},
          "output_type": "execute_result"
        }
      ]
    },
    {
      "cell_type": "code",
      "metadata": {
        "id": "nadKpafFNXRq",
        "outputId": "b5ed2e16-6950-4e9c-d66e-b7870c5bdc19"
      },
      "source": [
        "y = np.random.randn(8)\n",
        "y"
      ],
      "execution_count": null,
      "outputs": [
        {
          "data": {
            "text/plain": [
              "array([ 0.8626, -0.01  ,  0.05  ,  0.6702,  0.853 , -0.9559, -0.0235,\n",
              "       -2.3042])"
            ]
          },
          "execution_count": 106,
          "metadata": {},
          "output_type": "execute_result"
        }
      ]
    },
    {
      "cell_type": "code",
      "metadata": {
        "id": "yVQ_fxi8NXRq",
        "scrolled": true,
        "outputId": "af2ed0db-e2db-43de-f3a1-0148e9f42a7c"
      },
      "source": [
        "np.maximum(x, y) # 取大值"
      ],
      "execution_count": null,
      "outputs": [
        {
          "data": {
            "text/plain": [
              "array([ 0.8626,  1.0048,  1.3272,  0.6702,  0.853 ,  0.0222,  0.7584,\n",
              "       -0.6605])"
            ]
          },
          "execution_count": 107,
          "metadata": {},
          "output_type": "execute_result"
        }
      ]
    },
    {
      "cell_type": "markdown",
      "metadata": {
        "id": "6njR1beVXiHg"
      },
      "source": [
        "`modf`"
      ]
    },
    {
      "cell_type": "code",
      "metadata": {
        "id": "t6OzokF95kAR",
        "outputId": "2b26b9a5-d420-430e-f33b-68304099f20d"
      },
      "source": [
        "arr = np.random.randn(7) * 5\n",
        "arr"
      ],
      "execution_count": null,
      "outputs": [
        {
          "data": {
            "text/plain": [
              "array([-3.2623, -6.0915, -6.663 ,  5.3731,  3.6182,  3.45  ,  5.0077])"
            ]
          },
          "execution_count": 108,
          "metadata": {},
          "output_type": "execute_result"
        }
      ]
    },
    {
      "cell_type": "code",
      "metadata": {
        "id": "cY58DY8cNXRr",
        "outputId": "794160ec-5a77-4383-def5-405242895fb5"
      },
      "source": [
        "remainder, whole_part = np.modf(arr)\n",
        "remainder"
      ],
      "execution_count": null,
      "outputs": [
        {
          "data": {
            "text/plain": [
              "array([-0.2623, -0.0915, -0.663 ,  0.3731,  0.6182,  0.45  ,  0.0077])"
            ]
          },
          "execution_count": 109,
          "metadata": {},
          "output_type": "execute_result"
        }
      ]
    },
    {
      "cell_type": "code",
      "metadata": {
        "id": "rt4M5elINXRr",
        "outputId": "62aecb03-d83d-404a-a500-aa7f389e9f95"
      },
      "source": [
        "whole_part"
      ],
      "execution_count": null,
      "outputs": [
        {
          "data": {
            "text/plain": [
              "array([-3., -6., -6.,  5.,  3.,  3.,  5.])"
            ]
          },
          "execution_count": 110,
          "metadata": {},
          "output_type": "execute_result"
        }
      ]
    },
    {
      "cell_type": "code",
      "metadata": {
        "id": "8UZPDZzg5kAS",
        "outputId": "10c0bf11-8725-4f20-da05-cbe6d36c4b8f"
      },
      "source": [
        "arr"
      ],
      "execution_count": null,
      "outputs": [
        {
          "data": {
            "text/plain": [
              "array([-3.2623, -6.0915, -6.663 ,  5.3731,  3.6182,  3.45  ,  5.0077])"
            ]
          },
          "execution_count": 111,
          "metadata": {},
          "output_type": "execute_result"
        }
      ]
    },
    {
      "cell_type": "code",
      "metadata": {
        "id": "3S-3670gNXRr",
        "outputId": "aa66633e-baf6-4928-abf4-b83d59888af0"
      },
      "source": [
        "np.sqrt(arr) # 取根号；元素小于0，返回nan"
      ],
      "execution_count": null,
      "outputs": [
        {
          "name": "stderr",
          "output_type": "stream",
          "text": [
            "<ipython-input-112-b13b91cab015>:1: RuntimeWarning: invalid value encountered in sqrt\n",
            "  np.sqrt(arr) # 取根号；元素小于0，返回nan\n"
          ]
        },
        {
          "data": {
            "text/plain": [
              "array([   nan,    nan,    nan, 2.318 , 1.9022, 1.8574, 2.2378])"
            ]
          },
          "execution_count": 112,
          "metadata": {},
          "output_type": "execute_result"
        }
      ]
    },
    {
      "cell_type": "code",
      "metadata": {
        "id": "4Gl8Mz8KNXRr",
        "outputId": "a63efe85-2c6e-4a00-d3b9-c2f5e600f4a0"
      },
      "source": [
        "np.sqrt(arr, out = arr) # out可选参数，指定储存结果位置"
      ],
      "execution_count": null,
      "outputs": [
        {
          "name": "stderr",
          "output_type": "stream",
          "text": [
            "<ipython-input-113-f0cb6550c7ca>:1: RuntimeWarning: invalid value encountered in sqrt\n",
            "  np.sqrt(arr, out = arr) # out可选参数，指定储存结果位置\n"
          ]
        },
        {
          "data": {
            "text/plain": [
              "array([   nan,    nan,    nan, 2.318 , 1.9022, 1.8574, 2.2378])"
            ]
          },
          "execution_count": 113,
          "metadata": {},
          "output_type": "execute_result"
        }
      ]
    },
    {
      "cell_type": "code",
      "metadata": {
        "id": "8a877GXbNXRr",
        "outputId": "e9cad3ee-44ff-4840-d7a1-fb36ff7090ac"
      },
      "source": [
        "arr # 上行代码的结果出存在arr中"
      ],
      "execution_count": null,
      "outputs": [
        {
          "data": {
            "text/plain": [
              "array([   nan,    nan,    nan, 2.318 , 1.9022, 1.8574, 2.2378])"
            ]
          },
          "execution_count": 114,
          "metadata": {},
          "output_type": "execute_result"
        }
      ]
    },
    {
      "cell_type": "markdown",
      "metadata": {
        "id": "Ld9whukgXiHh"
      },
      "source": [
        "**一元通用函数**\n",
        "\n",
        "\n",
        "\n",
        "| Function                                                     | Description                                                  |\n",
        "| :------------------------------------------------------------ | :------------------------------------------------------------ |\n",
        "| `abs`, `fabs`                                                | Compute the absolute value element-wise for integer, floating-point, or complex values |\n",
        "| `sqrt`                                                       | Compute the square root of each element (equivalent to arr ** 0.5) |\n",
        "| `square`                                                     | Compute the square of each element (equivalent to arr ** 2)  |\n",
        "| `exp`                                                        | Compute the exponent $e^x$ of each element                   |\n",
        "| `log`, `log10`, `log2`, `log1p`                              | Natural logarithm (base $e$), log base 10, log base 2, and log(1 + x), respectively |\n",
        "| `sign`                                                       | Compute the sign of each element: 1 (positive), 0 (zero), or –1 (negative) |\n",
        "| `ceil`                                                       | Compute the ceiling of each element (i.e., the smallest integer greater than or equal to that number) |\n",
        "| `floor`                                                      | Compute the floor of each element (i.e., the largest integer less than or equal to each element) |\n",
        "| `rint`                                                       | Round elements to the nearest integer, preserving the dtype  |\n",
        "| `modf`                                                       | Return fractional and integral parts of array as a separate array |\n",
        "| `isnan`                                                      | Return boolean array indicating whether each value is NaN (Not a Number) |\n",
        "| `isfinite`, `isinf`                                          | Return boolean array indicating whether each element is finite (non-inf, non-NaN) or infinite, respectively |\n",
        "| `cos`, `cosh`, `sin`, `sinh`, `tan`, `tanh`                  | Regular and hyperbolic trigonometric functions               |\n",
        "| `arccos`, `arccosh`, `arcsin`, `arcsinh`, `arctan`, `arctanh` | Inverse trigonometric functions                              |\n",
        "| `logical_not`                                                | Compute truth value of not x element-wise (equivalent to ~arr). |\n",
        "\n"
      ]
    },
    {
      "cell_type": "markdown",
      "metadata": {
        "id": "2yNr4mnCXiHh"
      },
      "source": [
        "**二元通用函数**"
      ]
    },
    {
      "cell_type": "markdown",
      "metadata": {
        "id": "U2w_dVBo5kAS"
      },
      "source": [
        "## 面向数组编程\n",
        "\n",
        "向量化：用数组表达式代替显式循环"
      ]
    },
    {
      "cell_type": "code",
      "metadata": {
        "id": "s17AyPTU5kAS",
        "scrolled": true,
        "outputId": "18903547-0659-4988-89f5-60c32b5dbddd"
      },
      "source": [
        "points = np.arange(-5, 5, 0.01) # 1000 equally spaced points\n",
        "xs, ys = np.meshgrid(points, points)\n",
        "ys"
      ],
      "execution_count": null,
      "outputs": [
        {
          "data": {
            "text/plain": [
              "array([[-5.  , -5.  , -5.  , ..., -5.  , -5.  , -5.  ],\n",
              "       [-4.99, -4.99, -4.99, ..., -4.99, -4.99, -4.99],\n",
              "       [-4.98, -4.98, -4.98, ..., -4.98, -4.98, -4.98],\n",
              "       ...,\n",
              "       [ 4.97,  4.97,  4.97, ...,  4.97,  4.97,  4.97],\n",
              "       [ 4.98,  4.98,  4.98, ...,  4.98,  4.98,  4.98],\n",
              "       [ 4.99,  4.99,  4.99, ...,  4.99,  4.99,  4.99]])"
            ]
          },
          "execution_count": 190,
          "metadata": {},
          "output_type": "execute_result"
        }
      ]
    },
    {
      "cell_type": "code",
      "metadata": {
        "id": "8-EZPWeP5kAS",
        "outputId": "19aa0b2b-b34d-4d6a-8d51-4da7c7ebf093"
      },
      "source": [
        "z = np.sqrt(xs ** 2 + ys ** 2)\n",
        "z"
      ],
      "execution_count": null,
      "outputs": [
        {
          "data": {
            "text/plain": [
              "array([[7.0711, 7.064 , 7.0569, ..., 7.0499, 7.0569, 7.064 ],\n",
              "       [7.064 , 7.0569, 7.0499, ..., 7.0428, 7.0499, 7.0569],\n",
              "       [7.0569, 7.0499, 7.0428, ..., 7.0357, 7.0428, 7.0499],\n",
              "       ...,\n",
              "       [7.0499, 7.0428, 7.0357, ..., 7.0286, 7.0357, 7.0428],\n",
              "       [7.0569, 7.0499, 7.0428, ..., 7.0357, 7.0428, 7.0499],\n",
              "       [7.064 , 7.0569, 7.0499, ..., 7.0428, 7.0499, 7.0569]])"
            ]
          },
          "execution_count": 191,
          "metadata": {},
          "output_type": "execute_result"
        }
      ]
    },
    {
      "cell_type": "code",
      "metadata": {
        "id": "GUjQdOUD5kAS",
        "outputId": "7fc53cda-eaec-4aeb-c591-51b09c4707b4"
      },
      "source": [
        "import matplotlib.pyplot as plt # 导入\n",
        "plt.imshow(z,\n",
        "           cmap=plt.cm.gray)\n",
        "plt.colorbar()\n",
        "plt.title(\"Image plot of $\\sqrt{x^2 + y^2}$ for a grid of values\")"
      ],
      "execution_count": null,
      "outputs": [
        {
          "data": {
            "text/plain": [
              "Text(0.5, 1.0, 'Image plot of $\\\\sqrt{x^2 + y^2}$ for a grid of values')"
            ]
          },
          "execution_count": 192,
          "metadata": {},
          "output_type": "execute_result"
        },
        {
          "data": {
            "image/png": "[encoded data removed]",
            "text/plain": [
              "<Figure size 720x432 with 2 Axes>"
            ]
          },
          "metadata": {
            "needs_background": "light"
          },
          "output_type": "display_data"
        }
      ]
    },
    {
      "cell_type": "code",
      "metadata": {
        "id": "FBwwqpWx5kAS",
        "outputId": "1468b565-f049-46ab-a528-ceaa46a1c673"
      },
      "source": [
        "plt.draw()"
      ],
      "execution_count": null,
      "outputs": [
        {
          "data": {
            "text/plain": [
              "<Figure size 720x432 with 0 Axes>"
            ]
          },
          "metadata": {},
          "output_type": "display_data"
        }
      ]
    },
    {
      "cell_type": "code",
      "metadata": {
        "id": "YLIqf0o65kAS"
      },
      "source": [
        "plt.close('all')"
      ],
      "execution_count": null,
      "outputs": []
    },
    {
      "cell_type": "markdown",
      "metadata": {
        "id": "yQpAqLnE5kAT"
      },
      "source": [
        "### Expressing Conditional Logic as Array Operations"
      ]
    },
    {
      "cell_type": "code",
      "metadata": {
        "id": "upLNa4bq5kAT"
      },
      "source": [
        "xarr = np.array([1.1, 1.2, 1.3, 1.4, 1.5])\n",
        "yarr = np.array([2.1, 2.2, 2.3, 2.4, 2.5])\n",
        "cond = np.array([True, False, True, True, False])"
      ],
      "execution_count": null,
      "outputs": []
    },
    {
      "cell_type": "code",
      "metadata": {
        "id": "cW395Kpp5kAT",
        "outputId": "ecd152f8-6c63-400b-ff41-d764903e0307"
      },
      "source": [
        "result = [(x if c else y) for x, y, c in zip(xarr, yarr, cond)]\n",
        "result"
      ],
      "execution_count": null,
      "outputs": [
        {
          "data": {
            "text/plain": [
              "[1.1, 2.2, 1.3, 1.4, 2.5]"
            ]
          },
          "execution_count": 121,
          "metadata": {},
          "output_type": "execute_result"
        }
      ]
    },
    {
      "cell_type": "code",
      "metadata": {
        "id": "KGV31x4D5kAT",
        "outputId": "e1aa4fc5-9c8b-4d0e-a77a-7ce713a29b24"
      },
      "source": [
        "result = np.where(cond, xarr, yarr)\n",
        "result"
      ],
      "execution_count": null,
      "outputs": [
        {
          "data": {
            "text/plain": [
              "array([1.1, 2.2, 1.3, 1.4, 2.5])"
            ]
          },
          "execution_count": 122,
          "metadata": {},
          "output_type": "execute_result"
        }
      ]
    },
    {
      "cell_type": "code",
      "metadata": {
        "id": "CHiChoWX5kAT",
        "outputId": "c2bb0fac-567a-407f-ed30-56d8def19872"
      },
      "source": [
        "arr = np.random.randn(4, 4)\n",
        "arr"
      ],
      "execution_count": null,
      "outputs": [
        {
          "data": {
            "text/plain": [
              "array([[-0.5031, -0.6223, -0.9212, -0.7262],\n",
              "       [ 0.2229,  0.0513, -1.1577,  0.8167],\n",
              "       [ 0.4336,  1.0107,  1.8249, -0.9975],\n",
              "       [ 0.8506, -0.1316,  0.9124,  0.1882]])"
            ]
          },
          "execution_count": 123,
          "metadata": {},
          "output_type": "execute_result"
        }
      ]
    },
    {
      "cell_type": "code",
      "metadata": {
        "scrolled": true,
        "id": "wzxkdPwAXiHi",
        "outputId": "91400075-138f-4b2f-e380-168a9375f147"
      },
      "source": [
        "arr > 0"
      ],
      "execution_count": null,
      "outputs": [
        {
          "data": {
            "text/plain": [
              "array([[False, False, False, False],\n",
              "       [ True,  True, False,  True],\n",
              "       [ True,  True,  True, False],\n",
              "       [ True, False,  True,  True]])"
            ]
          },
          "execution_count": 124,
          "metadata": {},
          "output_type": "execute_result"
        }
      ]
    },
    {
      "cell_type": "code",
      "metadata": {
        "id": "scvSkPyNXiHi",
        "outputId": "2530d0f5-4c53-4d0d-dc5a-3b43e8e3faaf"
      },
      "source": [
        "np.where(arr > 0, 2, -2)"
      ],
      "execution_count": null,
      "outputs": [
        {
          "data": {
            "text/plain": [
              "array([[-2, -2, -2, -2],\n",
              "       [ 2,  2, -2,  2],\n",
              "       [ 2,  2,  2, -2],\n",
              "       [ 2, -2,  2,  2]])"
            ]
          },
          "execution_count": 125,
          "metadata": {},
          "output_type": "execute_result"
        }
      ]
    },
    {
      "cell_type": "code",
      "metadata": {
        "id": "LR2gam2d5kAT",
        "outputId": "4076fba7-609f-4ad3-b011-c806741dc5eb"
      },
      "source": [
        "np.where(arr > 0, 2, arr) # set only positive values to 2"
      ],
      "execution_count": null,
      "outputs": [
        {
          "data": {
            "text/plain": [
              "array([[-0.5031, -0.6223, -0.9212, -0.7262],\n",
              "       [ 2.    ,  2.    , -1.1577,  2.    ],\n",
              "       [ 2.    ,  2.    ,  2.    , -0.9975],\n",
              "       [ 2.    , -0.1316,  2.    ,  2.    ]])"
            ]
          },
          "execution_count": 126,
          "metadata": {},
          "output_type": "execute_result"
        }
      ]
    },
    {
      "cell_type": "markdown",
      "metadata": {
        "id": "7gOuT8Ry5kAT"
      },
      "source": [
        "### Mathematical and Statistical Methods"
      ]
    },
    {
      "cell_type": "code",
      "metadata": {
        "id": "rooESLj65kAU",
        "outputId": "174ddfdb-696a-4803-b80d-e803a89abcd8"
      },
      "source": [
        "arr = np.random.randn(5, 4)\n",
        "arr\n"
      ],
      "execution_count": null,
      "outputs": [
        {
          "data": {
            "text/plain": [
              "array([[ 2.1695, -0.1149,  2.0037,  0.0296],\n",
              "       [ 0.7953,  0.1181, -0.7485,  0.585 ],\n",
              "       [ 0.1527, -1.5657, -0.5625, -0.0327],\n",
              "       [-0.929 , -0.4826, -0.0363,  1.0954],\n",
              "       [ 0.9809, -0.5895,  1.5817, -0.5287]])"
            ]
          },
          "execution_count": 127,
          "metadata": {},
          "output_type": "execute_result"
        }
      ]
    },
    {
      "cell_type": "code",
      "metadata": {
        "id": "9HauMgh5NXRu",
        "outputId": "4d0b5649-0a5e-4c39-afd6-0625d7226518"
      },
      "source": [
        "arr.mean()"
      ],
      "execution_count": null,
      "outputs": [
        {
          "data": {
            "text/plain": [
              "0.19607051119998253"
            ]
          },
          "execution_count": 128,
          "metadata": {},
          "output_type": "execute_result"
        }
      ]
    },
    {
      "cell_type": "code",
      "metadata": {
        "id": "P2_Y6u6zNXRu",
        "outputId": "8a4a4931-f879-496f-e7e7-7b1d9c3aa219"
      },
      "source": [
        "np.mean(arr)"
      ],
      "execution_count": null,
      "outputs": [
        {
          "data": {
            "text/plain": [
              "0.19607051119998253"
            ]
          },
          "execution_count": 129,
          "metadata": {},
          "output_type": "execute_result"
        }
      ]
    },
    {
      "cell_type": "code",
      "metadata": {
        "id": "UmQXY1oMNXRu",
        "outputId": "9142e367-ea41-4fc4-b070-d23ac2fd4677"
      },
      "source": [
        "arr.sum()"
      ],
      "execution_count": null,
      "outputs": [
        {
          "data": {
            "text/plain": [
              "3.9214102239996507"
            ]
          },
          "execution_count": 130,
          "metadata": {},
          "output_type": "execute_result"
        }
      ]
    },
    {
      "cell_type": "code",
      "metadata": {
        "id": "iY4t_BMw5kAU",
        "outputId": "8dc0cf0a-80b4-4060-fc4b-a4089413c79f"
      },
      "source": [
        "arr.mean(axis=1) # 各个列的平均值\n"
      ],
      "execution_count": null,
      "outputs": [
        {
          "data": {
            "text/plain": [
              "array([ 1.022 ,  0.1875, -0.502 , -0.0881,  0.3611])"
            ]
          },
          "execution_count": 131,
          "metadata": {},
          "output_type": "execute_result"
        }
      ]
    },
    {
      "cell_type": "code",
      "metadata": {
        "id": "JmEgEfstNXRu",
        "outputId": "a377a67c-160b-44cf-b358-0268e22493a3"
      },
      "source": [
        "arr.sum(axis=0) # 各个行的平均值"
      ],
      "execution_count": null,
      "outputs": [
        {
          "data": {
            "text/plain": [
              "array([ 3.1693, -2.6345,  2.2381,  1.1486])"
            ]
          },
          "execution_count": 132,
          "metadata": {},
          "output_type": "execute_result"
        }
      ]
    },
    {
      "cell_type": "code",
      "metadata": {
        "id": "fXTDs4ks5kAU",
        "outputId": "25d17764-99ee-43f7-a2b6-b05c99f8aef7"
      },
      "source": [
        "arr = np.array([0, 1, 2, 3, 4, 5, 6, 7])\n",
        "arr.cumsum() # 累积"
      ],
      "execution_count": null,
      "outputs": [
        {
          "data": {
            "text/plain": [
              "array([ 0,  1,  3,  6, 10, 15, 21, 28])"
            ]
          },
          "execution_count": 133,
          "metadata": {},
          "output_type": "execute_result"
        }
      ]
    },
    {
      "cell_type": "code",
      "metadata": {
        "id": "GRW9bGID5kAU",
        "outputId": "39d372bb-f93e-4d9a-9e33-5616542b0f2f"
      },
      "source": [
        "arr = np.array([[0, 1, 2],\n",
        "                [3, 4, 5],\n",
        "                [6, 7, 8]])\n",
        "arr"
      ],
      "execution_count": null,
      "outputs": [
        {
          "data": {
            "text/plain": [
              "array([[0, 1, 2],\n",
              "       [3, 4, 5],\n",
              "       [6, 7, 8]])"
            ]
          },
          "execution_count": 134,
          "metadata": {},
          "output_type": "execute_result"
        }
      ]
    },
    {
      "cell_type": "code",
      "metadata": {
        "id": "Oprx1MBmNXRv",
        "outputId": "bca8f1db-75e7-4044-ec21-b813104cc532"
      },
      "source": [
        "arr.cumsum(axis=0)"
      ],
      "execution_count": null,
      "outputs": [
        {
          "data": {
            "text/plain": [
              "array([[ 0,  1,  2],\n",
              "       [ 3,  5,  7],\n",
              "       [ 9, 12, 15]])"
            ]
          },
          "execution_count": 135,
          "metadata": {},
          "output_type": "execute_result"
        }
      ]
    },
    {
      "cell_type": "code",
      "metadata": {
        "id": "uW39y_gTNXRv",
        "outputId": "7f74439d-445e-4663-9782-6df8802129f7"
      },
      "source": [
        "arr.cumprod(axis=1)"
      ],
      "execution_count": null,
      "outputs": [
        {
          "data": {
            "text/plain": [
              "array([[  0,   0,   0],\n",
              "       [  3,  12,  60],\n",
              "       [  6,  42, 336]])"
            ]
          },
          "execution_count": 136,
          "metadata": {},
          "output_type": "execute_result"
        }
      ]
    },
    {
      "cell_type": "markdown",
      "metadata": {
        "id": "tHv50Vst5kAV"
      },
      "source": [
        "### Methods for Boolean Arrays"
      ]
    },
    {
      "cell_type": "markdown",
      "metadata": {
        "id": "QtFg-QJB5kAV"
      },
      "source": [
        "boolean array"
      ]
    },
    {
      "cell_type": "code",
      "metadata": {
        "id": "5VHeFSZw5kAV",
        "outputId": "5f38a01d-0abd-409e-ac10-1f75717714c8"
      },
      "source": [
        "arr = np.random.randn(100) # 创建ndarray\n",
        "(arr > 0).sum() # Number of positive values"
      ],
      "execution_count": null,
      "outputs": [
        {
          "data": {
            "text/plain": [
              "39"
            ]
          },
          "execution_count": 198,
          "metadata": {},
          "output_type": "execute_result"
        }
      ]
    },
    {
      "cell_type": "code",
      "metadata": {
        "id": "EtFwSnqC5kAV",
        "outputId": "ac9f0a43-8aa9-4bb7-8613-4475edf53d51"
      },
      "source": [
        "bools = np.array([False, False, True, False]) # 创建boolean array\n",
        "bools.any() # Boolean array中是否有true"
      ],
      "execution_count": null,
      "outputs": [
        {
          "data": {
            "text/plain": [
              "True"
            ]
          },
          "execution_count": 199,
          "metadata": {},
          "output_type": "execute_result"
        }
      ]
    },
    {
      "cell_type": "code",
      "metadata": {
        "id": "XvFra28S5kAV",
        "outputId": "b6c617e3-918c-4689-b960-9916a962625b"
      },
      "source": [
        "bools.all()  # Boolean array中是否全是true"
      ],
      "execution_count": null,
      "outputs": [
        {
          "data": {
            "text/plain": [
              "False"
            ]
          },
          "execution_count": 139,
          "metadata": {},
          "output_type": "execute_result"
        }
      ]
    },
    {
      "cell_type": "markdown",
      "metadata": {
        "id": "4Kq4mjss5kAV"
      },
      "source": [
        "### Sorting"
      ]
    },
    {
      "cell_type": "code",
      "metadata": {
        "id": "LoBgjDfp5kAV",
        "outputId": "73b1d037-d448-415c-e6d4-0679fdb19654"
      },
      "source": [
        "arr = np.random.randn(6) # 创建随机数值的ndarray\n",
        "arr # 查看ndarray"
      ],
      "execution_count": null,
      "outputs": [
        {
          "data": {
            "text/plain": [
              "array([ 0.6095, -0.4938,  1.24  , -0.1357,  1.43  , -0.8469])"
            ]
          },
          "execution_count": 140,
          "metadata": {},
          "output_type": "execute_result"
        }
      ]
    },
    {
      "cell_type": "code",
      "metadata": {
        "id": "SCpk_Hcx5kAW"
      },
      "source": [
        "arr.sort() # sorted in-place"
      ],
      "execution_count": null,
      "outputs": []
    },
    {
      "cell_type": "code",
      "metadata": {
        "id": "eKuSLhT25kAW",
        "outputId": "8f93b888-2bdc-4845-c39d-847bea3086f5"
      },
      "source": [
        "arr # 查看sort之后的ndarray"
      ],
      "execution_count": null,
      "outputs": [
        {
          "data": {
            "text/plain": [
              "array([-0.8469, -0.4938, -0.1357,  0.6095,  1.24  ,  1.43  ])"
            ]
          },
          "execution_count": 142,
          "metadata": {},
          "output_type": "execute_result"
        }
      ]
    },
    {
      "cell_type": "code",
      "metadata": {
        "id": "2-_h76tE5kAW",
        "outputId": "56dd87d1-51b6-46b6-e696-578a06a8c9f7"
      },
      "source": [
        "arr = np.random.randn(5, 3)\n",
        "arr"
      ],
      "execution_count": null,
      "outputs": [
        {
          "data": {
            "text/plain": [
              "array([[ 0.6033,  1.2636, -0.2555],\n",
              "       [-0.4457,  0.4684, -0.9616],\n",
              "       [-1.8245,  0.6254,  1.0229],\n",
              "       [ 1.1074,  0.0909, -0.3501],\n",
              "       [ 0.218 , -0.8948, -1.7415]])"
            ]
          },
          "execution_count": 143,
          "metadata": {},
          "output_type": "execute_result"
        }
      ]
    },
    {
      "cell_type": "code",
      "metadata": {
        "id": "eA8zv_k85kAW"
      },
      "source": [
        "arr.sort(1) # axis=1排序，inplace"
      ],
      "execution_count": null,
      "outputs": []
    },
    {
      "cell_type": "code",
      "metadata": {
        "id": "E1q2s9UN5kAW",
        "outputId": "08716129-6b83-419a-d665-0fbe3fdfc488"
      },
      "source": [
        "arr"
      ],
      "execution_count": null,
      "outputs": [
        {
          "data": {
            "text/plain": [
              "array([[-0.2555,  0.6033,  1.2636],\n",
              "       [-0.9616, -0.4457,  0.4684],\n",
              "       [-1.8245,  0.6254,  1.0229],\n",
              "       [-0.3501,  0.0909,  1.1074],\n",
              "       [-1.7415, -0.8948,  0.218 ]])"
            ]
          },
          "execution_count": 145,
          "metadata": {},
          "output_type": "execute_result"
        }
      ]
    },
    {
      "cell_type": "code",
      "metadata": {
        "id": "qKHwHvGT5kAW"
      },
      "source": [
        "large_arr = np.random.randn(1000)\n",
        "large_arr.sort()\n"
      ],
      "execution_count": null,
      "outputs": []
    },
    {
      "cell_type": "code",
      "metadata": {
        "id": "WjP61NpNNXRy",
        "outputId": "1debbda1-8883-497a-c75d-002084e25f62"
      },
      "source": [
        "large_arr[int(0.05 * len(large_arr))] # 5% quantile"
      ],
      "execution_count": null,
      "outputs": [
        {
          "data": {
            "text/plain": [
              "-1.5311513550102103"
            ]
          },
          "execution_count": 147,
          "metadata": {},
          "output_type": "execute_result"
        }
      ]
    },
    {
      "cell_type": "markdown",
      "metadata": {
        "id": "ukSpIPzN5kAW"
      },
      "source": [
        "### Unique and Other Set Logic"
      ]
    },
    {
      "cell_type": "code",
      "metadata": {
        "id": "_n8SND0U5kAW",
        "scrolled": true,
        "outputId": "cd02b1b9-8c5f-4ce0-c8f4-843caf8dc5a6"
      },
      "source": [
        "names = np.array(['Bob', 'Joe', 'Will', 'Bob', 'Will', 'Joe', 'Joe'])\n",
        "np.unique(names)"
      ],
      "execution_count": null,
      "outputs": [
        {
          "data": {
            "text/plain": [
              "array(['Bob', 'Joe', 'Will'], dtype='<U4')"
            ]
          },
          "execution_count": 148,
          "metadata": {},
          "output_type": "execute_result"
        }
      ]
    },
    {
      "cell_type": "code",
      "metadata": {
        "id": "2-IkyP505kAX",
        "outputId": "c54c304b-0995-496e-ee08-7179811d8146"
      },
      "source": [
        "ints = np.array([3, 3, 3, 2, 2, 1, 1, 4, 4])\n",
        "np.unique(ints)"
      ],
      "execution_count": null,
      "outputs": [
        {
          "data": {
            "text/plain": [
              "array([1, 2, 3, 4])"
            ]
          },
          "execution_count": 149,
          "metadata": {},
          "output_type": "execute_result"
        }
      ]
    },
    {
      "cell_type": "code",
      "metadata": {
        "id": "gLd6-c1v5kAX",
        "outputId": "a689612e-7668-4f89-81ef-0c8f7c80e46b"
      },
      "source": [
        "sorted(set(names))"
      ],
      "execution_count": null,
      "outputs": [
        {
          "data": {
            "text/plain": [
              "['Bob', 'Joe', 'Will']"
            ]
          },
          "execution_count": 150,
          "metadata": {},
          "output_type": "execute_result"
        }
      ]
    },
    {
      "cell_type": "code",
      "metadata": {
        "id": "k-ylu63y5kAX",
        "outputId": "700c3ce1-88b1-4927-e3ba-7a32b4ad7b6e"
      },
      "source": [
        "values = np.array([6, 0, 0, 3, 2, 5, 6])\n",
        "np.in1d(values, [2, 3, 6])"
      ],
      "execution_count": null,
      "outputs": [
        {
          "data": {
            "text/plain": [
              "array([ True, False, False,  True,  True, False,  True])"
            ]
          },
          "execution_count": 151,
          "metadata": {},
          "output_type": "execute_result"
        }
      ]
    },
    {
      "cell_type": "markdown",
      "metadata": {
        "id": "oTie5XYd5kAX"
      },
      "source": [
        "## File Input and Output with Arrays"
      ]
    },
    {
      "cell_type": "code",
      "metadata": {
        "id": "hIltC3_c5kAX"
      },
      "source": [
        "arr = np.arange(10)\n",
        "np.save('some_array', arr)"
      ],
      "execution_count": null,
      "outputs": []
    },
    {
      "cell_type": "code",
      "metadata": {
        "id": "adlG4n4A5kAX",
        "outputId": "fc0457e8-682d-43f0-bb47-63d590ee7a20"
      },
      "source": [
        "np.load('some_array.npy')"
      ],
      "execution_count": null,
      "outputs": [
        {
          "data": {
            "text/plain": [
              "array([0, 1, 2, 3, 4, 5, 6, 7, 8, 9])"
            ]
          },
          "execution_count": 153,
          "metadata": {},
          "output_type": "execute_result"
        }
      ]
    },
    {
      "cell_type": "code",
      "metadata": {
        "id": "mnuYrUav5kAX"
      },
      "source": [
        "np.savez('array_archive.npz', a=arr, b=arr)"
      ],
      "execution_count": null,
      "outputs": []
    },
    {
      "cell_type": "code",
      "metadata": {
        "id": "wbtLRmJK5kAX",
        "outputId": "0de47028-8f53-4844-cd69-1be691cd7c45"
      },
      "source": [
        "arch = np.load('array_archive.npz')\n",
        "arch['b']"
      ],
      "execution_count": null,
      "outputs": [
        {
          "data": {
            "text/plain": [
              "array([0, 1, 2, 3, 4, 5, 6, 7, 8, 9])"
            ]
          },
          "execution_count": 155,
          "metadata": {},
          "output_type": "execute_result"
        }
      ]
    },
    {
      "cell_type": "code",
      "metadata": {
        "id": "cju8Ox0e5kAY"
      },
      "source": [
        "np.savez_compressed('arrays_compressed.npz', a=arr, b=arr)"
      ],
      "execution_count": null,
      "outputs": []
    },
    {
      "cell_type": "code",
      "metadata": {
        "id": "eKl9RZg85kAY"
      },
      "source": [
        "!rm some_array.npy\n",
        "!rm array_archive.npz\n",
        "!rm arrays_compressed.npz"
      ],
      "execution_count": null,
      "outputs": []
    },
    {
      "cell_type": "markdown",
      "metadata": {
        "id": "4r07gw0-5kAY"
      },
      "source": [
        "## Linear Algebra"
      ]
    },
    {
      "cell_type": "code",
      "metadata": {
        "id": "MqR97_9t5kAY",
        "outputId": "ff668edb-4f71-4f1d-ac9a-1c7f254ec919"
      },
      "source": [
        "x = np.array([[1., 2., 3.], # 2x3 ndarray\n",
        "              [4., 5., 6.]])\n",
        "y = np.array([[6., 23.], # 3x2 ndarray\n",
        "              [-1, 7],\n",
        "              [8, 9]])\n",
        "x.dot(y) # inner product产生2x2的ndarray"
      ],
      "execution_count": null,
      "outputs": [
        {
          "data": {
            "text/plain": [
              "array([[ 28.,  64.],\n",
              "       [ 67., 181.]])"
            ]
          },
          "execution_count": 158,
          "metadata": {},
          "output_type": "execute_result"
        }
      ]
    },
    {
      "cell_type": "code",
      "metadata": {
        "id": "h4QkhomV5kAY",
        "outputId": "15920636-43f7-4392-f27e-de3db8feeeca"
      },
      "source": [
        "np.dot(x, y) # = x.dot(y)"
      ],
      "execution_count": null,
      "outputs": [
        {
          "data": {
            "text/plain": [
              "array([[ 28.,  64.],\n",
              "       [ 67., 181.]])"
            ]
          },
          "execution_count": 159,
          "metadata": {},
          "output_type": "execute_result"
        }
      ]
    },
    {
      "cell_type": "code",
      "metadata": {
        "id": "dRDtRuPW5kAZ",
        "outputId": "61e5ada4-1d82-4e29-d3be-a722e26c8b74"
      },
      "source": [
        "np.dot(x, np.ones(3)) # 全是1的ndarray  "
      ],
      "execution_count": null,
      "outputs": [
        {
          "data": {
            "text/plain": [
              "array([ 6., 15.])"
            ]
          },
          "execution_count": 160,
          "metadata": {},
          "output_type": "execute_result"
        }
      ]
    },
    {
      "cell_type": "code",
      "metadata": {
        "id": "H7XE6QFO5kAZ",
        "outputId": "09c7cdf3-9184-46c4-f1d3-2bc026dc4fdf"
      },
      "source": [
        "x @ np.ones(3) # @是内积"
      ],
      "execution_count": null,
      "outputs": [
        {
          "data": {
            "text/plain": [
              "array([ 6., 15.])"
            ]
          },
          "execution_count": 161,
          "metadata": {},
          "output_type": "execute_result"
        }
      ]
    },
    {
      "cell_type": "code",
      "metadata": {
        "id": "ospXyjh05kAZ",
        "outputId": "8f64469a-d4fc-4f57-df91-fb53dc87e29c"
      },
      "source": [
        "from numpy.linalg import inv, qr\n",
        "X = np.random.randn(5, 5) # 5x5的标准正态分布的ndarray\n",
        "mat = X.T.dot(X) # X的转置和X的内积\n",
        "inv(mat) # mat的逆"
      ],
      "execution_count": null,
      "outputs": [
        {
          "data": {
            "text/plain": [
              "array([[  933.1189,   871.8258, -1417.6902, -1460.4005,  1782.1391],\n",
              "       [  871.8258,   815.3929, -1325.9965, -1365.9242,  1666.9347],\n",
              "       [-1417.6902, -1325.9965,  2158.4424,  2222.0191, -2711.6822],\n",
              "       [-1460.4005, -1365.9242,  2222.0191,  2289.0575, -2793.422 ],\n",
              "       [ 1782.1391,  1666.9347, -2711.6822, -2793.422 ,  3409.5128]])"
            ]
          },
          "execution_count": 162,
          "metadata": {},
          "output_type": "execute_result"
        }
      ]
    },
    {
      "cell_type": "markdown",
      "metadata": {
        "id": "jpsIT-crNXR1"
      },
      "source": [
        "$mat \\times {mat}^{-1} = I$"
      ]
    },
    {
      "cell_type": "code",
      "metadata": {
        "id": "4vhlF3yTNXR1",
        "outputId": "1a93a134-2e69-4673-8aac-d2866086cd49"
      },
      "source": [
        "mat.dot(inv(mat)) # mat的逆和mat的内积 = I\n"
      ],
      "execution_count": null,
      "outputs": [
        {
          "data": {
            "text/plain": [
              "array([[ 1., -0.,  0.,  0., -0.],\n",
              "       [ 0.,  1.,  0., -0., -0.],\n",
              "       [ 0.,  0.,  1., -0.,  0.],\n",
              "       [ 0., -0., -0.,  1.,  0.],\n",
              "       [ 0.,  0., -0., -0.,  1.]])"
            ]
          },
          "execution_count": 163,
          "metadata": {},
          "output_type": "execute_result"
        }
      ]
    },
    {
      "cell_type": "code",
      "metadata": {
        "id": "R5qik2DeNXR1",
        "outputId": "5ab4122a-ba2f-494b-e246-8864961d3ee8"
      },
      "source": [
        "qr(mat) # qr Factorization"
      ],
      "execution_count": null,
      "outputs": [
        {
          "data": {
            "text/plain": [
              "(array([[-0.6328, -0.5603, -0.2526,  0.3533,  0.3115],\n",
              "        [ 0.7629, -0.5331, -0.1675,  0.1443,  0.2913],\n",
              "        [ 0.0084, -0.0493, -0.8433, -0.2484, -0.4739],\n",
              "        [-0.0826, -0.632 ,  0.4316, -0.4112, -0.4882],\n",
              "        [-0.1033, -0.0035, -0.1032, -0.7897,  0.5959]]),\n",
              " array([[-1.6914,  4.38  ,  0.1757,  0.4075, -0.7838],\n",
              "        [ 0.    , -2.6436,  0.1939, -3.072 , -1.0702],\n",
              "        [ 0.    ,  0.    , -0.8138,  1.5414,  0.6155],\n",
              "        [ 0.    ,  0.    ,  0.    , -2.6445, -2.1669],\n",
              "        [ 0.    ,  0.    ,  0.    ,  0.    ,  0.0002]]))"
            ]
          },
          "execution_count": 164,
          "metadata": {},
          "output_type": "execute_result"
        }
      ]
    },
    {
      "cell_type": "code",
      "metadata": {
        "id": "WihSNstvNXR1",
        "outputId": "ebc082c3-e2e3-4ddd-9fea-f54097fc4101"
      },
      "source": [
        "q, r = qr(mat) # q is orthonormal and r is upper-triangular\n",
        "r # 显示r"
      ],
      "execution_count": null,
      "outputs": [
        {
          "data": {
            "text/plain": [
              "array([[-1.6914,  4.38  ,  0.1757,  0.4075, -0.7838],\n",
              "       [ 0.    , -2.6436,  0.1939, -3.072 , -1.0702],\n",
              "       [ 0.    ,  0.    , -0.8138,  1.5414,  0.6155],\n",
              "       [ 0.    ,  0.    ,  0.    , -2.6445, -2.1669],\n",
              "       [ 0.    ,  0.    ,  0.    ,  0.    ,  0.0002]])"
            ]
          },
          "execution_count": 165,
          "metadata": {},
          "output_type": "execute_result"
        }
      ]
    },
    {
      "cell_type": "markdown",
      "metadata": {
        "id": "d56FR2B25kAZ"
      },
      "source": [
        "## Pseudorandom Number Generation"
      ]
    },
    {
      "cell_type": "code",
      "metadata": {
        "id": "pIncpxAk5kAZ",
        "outputId": "bcacd3cd-9a62-48bc-b267-4c7bed8be0ce"
      },
      "source": [
        "samples = np.random.normal(size=(4, 4))\n",
        "samples"
      ],
      "execution_count": null,
      "outputs": [
        {
          "data": {
            "text/plain": [
              "array([[ 0.5732,  0.1933,  0.4429,  1.2796],\n",
              "       [ 0.575 ,  0.4339, -0.7658, -1.237 ],\n",
              "       [-0.5367,  1.8545, -0.92  , -0.1082],\n",
              "       [ 0.1525,  0.9435, -1.0953, -0.144 ]])"
            ]
          },
          "execution_count": 166,
          "metadata": {},
          "output_type": "execute_result"
        }
      ]
    },
    {
      "cell_type": "code",
      "metadata": {
        "id": "bWIEuDvO5kAZ",
        "outputId": "e73f3361-43d9-4b17-ad1b-4c03df17e4f7"
      },
      "source": [
        "from random import normalvariate\n",
        "N = 1000000\n",
        "%timeit samples = [normalvariate(0, 1) for _ in range(N)]\n",
        "%timeit np.random.normal(size=N)"
      ],
      "execution_count": null,
      "outputs": [
        {
          "name": "stdout",
          "output_type": "stream",
          "text": [
            "753 ms ± 79.7 ms per loop (mean ± std. dev. of 7 runs, 1 loop each)\n",
            "31.7 ms ± 1.29 ms per loop (mean ± std. dev. of 7 runs, 10 loops each)\n"
          ]
        }
      ]
    },
    {
      "cell_type": "code",
      "metadata": {
        "id": "C-2PP7FO5kAa"
      },
      "source": [
        "np.random.seed(1234)"
      ],
      "execution_count": null,
      "outputs": []
    },
    {
      "cell_type": "code",
      "metadata": {
        "id": "0NKaijk05kAa",
        "outputId": "a530f0a1-a446-427f-daa7-9c8b526267ca"
      },
      "source": [
        "rng = np.random.RandomState(1234)\n",
        "rng.randn(10)"
      ],
      "execution_count": null,
      "outputs": [
        {
          "data": {
            "text/plain": [
              "array([ 0.4714, -1.191 ,  1.4327, -0.3127, -0.7206,  0.8872,  0.8596,\n",
              "       -0.6365,  0.0157, -2.2427])"
            ]
          },
          "execution_count": 169,
          "metadata": {},
          "output_type": "execute_result"
        }
      ]
    },
    {
      "cell_type": "markdown",
      "metadata": {
        "id": "ql59j_cD5kAa"
      },
      "source": [
        "## Example: Random Walks"
      ]
    },
    {
      "cell_type": "code",
      "metadata": {
        "id": "SdaH99mS5kAa"
      },
      "source": [
        "import random\n",
        "position = 0\n",
        "walk = [position]\n",
        "steps = 1000\n",
        "for i in range(steps):\n",
        "    step = 1 if random.randint(0, 1) else -1\n",
        "    position += step\n",
        "    walk.append(position)"
      ],
      "execution_count": null,
      "outputs": []
    },
    {
      "cell_type": "code",
      "metadata": {
        "id": "OBy8b75I5kAa",
        "outputId": "76a8baed-8f66-4c49-9848-e694dbb7223c"
      },
      "source": [
        "plt.figure()\n",
        "plt.plot(walk[:100])"
      ],
      "execution_count": null,
      "outputs": [
        {
          "data": {
            "text/plain": [
              "[<matplotlib.lines.Line2D at 0x7fb299b7ee20>]"
            ]
          },
          "execution_count": 171,
          "metadata": {},
          "output_type": "execute_result"
        },
        {
          "data": {
            "image/png": "[encoded data removed]",
            "text/plain": [
              "<Figure size 720x432 with 1 Axes>"
            ]
          },
          "metadata": {
            "needs_background": "light"
          },
          "output_type": "display_data"
        }
      ]
    },
    {
      "cell_type": "code",
      "metadata": {
        "id": "i-6TlJh15kAb"
      },
      "source": [
        "np.random.seed(12345)"
      ],
      "execution_count": null,
      "outputs": []
    },
    {
      "cell_type": "code",
      "metadata": {
        "id": "0rhyiO3u5kAb"
      },
      "source": [
        "nsteps = 1000\n",
        "draws = np.random.randint(0, 2, size=nsteps)\n",
        "steps = np.where(draws > 0, 1, -1)\n",
        "walk = steps.cumsum()"
      ],
      "execution_count": null,
      "outputs": []
    },
    {
      "cell_type": "code",
      "metadata": {
        "id": "7o8uwLh75kAb",
        "outputId": "e276a5f8-9f87-4f71-89b7-9de81c612775"
      },
      "source": [
        "walk.min()"
      ],
      "execution_count": null,
      "outputs": [
        {
          "data": {
            "text/plain": [
              "-3"
            ]
          },
          "execution_count": 174,
          "metadata": {},
          "output_type": "execute_result"
        }
      ]
    },
    {
      "cell_type": "code",
      "metadata": {
        "id": "meI0FOokNXR3",
        "outputId": "de75aa13-7e30-4bf0-f99a-86df1049e5fe"
      },
      "source": [
        "walk.max()"
      ],
      "execution_count": null,
      "outputs": [
        {
          "data": {
            "text/plain": [
              "31"
            ]
          },
          "execution_count": 175,
          "metadata": {},
          "output_type": "execute_result"
        }
      ]
    },
    {
      "cell_type": "code",
      "metadata": {
        "id": "baqBmaOq5kAb",
        "outputId": "754ef63e-788e-463b-cd19-0d1a0f893109"
      },
      "source": [
        "(np.abs(walk) >= 10).argmax()"
      ],
      "execution_count": null,
      "outputs": [
        {
          "data": {
            "text/plain": [
              "37"
            ]
          },
          "execution_count": 176,
          "metadata": {},
          "output_type": "execute_result"
        }
      ]
    },
    {
      "cell_type": "markdown",
      "metadata": {
        "id": "2w7MP6HQ5kAb"
      },
      "source": [
        "### Simulating Many Random Walks at Once"
      ]
    },
    {
      "cell_type": "code",
      "metadata": {
        "id": "NGgyS6a75kAc",
        "outputId": "e8e7adc4-b76e-42e1-d144-43ea40921e20"
      },
      "source": [
        "nwalks = 5000\n",
        "nsteps = 1000\n",
        "draws = np.random.randint(0, 2, size=(nwalks, nsteps)) # 0 or 1\n",
        "steps = np.where(draws > 0, 1, -1)\n",
        "walks = steps.cumsum(1)\n",
        "walks"
      ],
      "execution_count": null,
      "outputs": [
        {
          "data": {
            "text/plain": [
              "array([[  1,   0,   1, ...,   8,   7,   8],\n",
              "       [  1,   0,  -1, ...,  34,  33,  32],\n",
              "       [  1,   0,  -1, ...,   4,   5,   4],\n",
              "       ...,\n",
              "       [  1,   2,   1, ...,  24,  25,  26],\n",
              "       [  1,   2,   3, ...,  14,  13,  14],\n",
              "       [ -1,  -2,  -3, ..., -24, -23, -22]])"
            ]
          },
          "execution_count": 177,
          "metadata": {},
          "output_type": "execute_result"
        }
      ]
    },
    {
      "cell_type": "code",
      "metadata": {
        "id": "J03EcSyu5kAc",
        "outputId": "38a4184b-a7a8-4151-bb98-b4d39c7bb270"
      },
      "source": [
        "walks.max()"
      ],
      "execution_count": null,
      "outputs": [
        {
          "data": {
            "text/plain": [
              "138"
            ]
          },
          "execution_count": 178,
          "metadata": {},
          "output_type": "execute_result"
        }
      ]
    },
    {
      "cell_type": "code",
      "metadata": {
        "id": "nfAWAissNXR4",
        "outputId": "e9482a44-f474-45ff-b454-33e3c5cb9682"
      },
      "source": [
        "walks.min()"
      ],
      "execution_count": null,
      "outputs": [
        {
          "data": {
            "text/plain": [
              "-133"
            ]
          },
          "execution_count": 179,
          "metadata": {},
          "output_type": "execute_result"
        }
      ]
    },
    {
      "cell_type": "code",
      "metadata": {
        "id": "GMucWbKd5kAc",
        "outputId": "41b1f0ab-62f9-4fe8-a7e7-b5446e8aaef2"
      },
      "source": [
        "hits30 = (np.abs(walks) >= 30).any(1)\n",
        "hits30\n"
      ],
      "execution_count": null,
      "outputs": [
        {
          "data": {
            "text/plain": [
              "array([False,  True, False, ..., False,  True, False])"
            ]
          },
          "execution_count": 180,
          "metadata": {},
          "output_type": "execute_result"
        }
      ]
    },
    {
      "cell_type": "code",
      "metadata": {
        "id": "ZghN2N5GNXR4",
        "outputId": "0c8ff048-e609-4a77-d7f5-2e1f666fb748"
      },
      "source": [
        "hits30.sum() # Number that hit 30 or -30"
      ],
      "execution_count": null,
      "outputs": [
        {
          "data": {
            "text/plain": [
              "3410"
            ]
          },
          "execution_count": 181,
          "metadata": {},
          "output_type": "execute_result"
        }
      ]
    },
    {
      "cell_type": "code",
      "metadata": {
        "id": "DLhEOlgl5kAc",
        "outputId": "bd86fe1b-bef0-4a44-c960-061d843430ab"
      },
      "source": [
        "crossing_times = (np.abs(walks[hits30]) >= 30).argmax(1)\n",
        "crossing_times.mean()"
      ],
      "execution_count": null,
      "outputs": [
        {
          "data": {
            "text/plain": [
              "498.8897360703812"
            ]
          },
          "execution_count": 182,
          "metadata": {},
          "output_type": "execute_result"
        }
      ]
    },
    {
      "cell_type": "code",
      "metadata": {
        "id": "8a-9fFbM5kAc"
      },
      "source": [
        "steps = np.random.normal(loc=0,\n",
        "                         scale=0.25, \n",
        "                         size=(nwalks, nsteps))"
      ],
      "execution_count": null,
      "outputs": []
    },
    {
      "cell_type": "markdown",
      "metadata": {
        "id": "5S9MLnzB5kAc"
      },
      "source": [
        "## Conclusion"
      ]
    }
  ]
}